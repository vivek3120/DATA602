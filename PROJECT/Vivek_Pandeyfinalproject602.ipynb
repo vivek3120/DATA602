{
 "cells": [
  {
   "cell_type": "markdown",
   "id": "4180c90d",
   "metadata": {},
   "source": [
    "# Introduction"
   ]
  },
  {
   "cell_type": "markdown",
   "id": "531299af",
   "metadata": {},
   "source": [
    "Crash data shows information about each traffic crash on city streets within the City of Chicago limits and under the jurisdiction of Chicago Police Department (CPD). Data are shown as is from the electronic crash reporting system (E-Crash) at CPD, excluding any personally identifiable information. Records are added to the data portal when a crash report is finalized or when amendments are made to an existing report in E-Crash. Data from E-Crash are available for some police districts in 2015, but citywide data are not available until September 2017. About half of all crash reports, mostly minor crashes, are self-reported at the police district by the driver(s) involved and the other half are recorded at the scene by the police officer responding to the crash.\n",
    "<br><br>Many of the crash parameters, including street condition data, weather condition, and posted speed limits, are recorded by the reporting officer based on best available information at the time, but many of these may disagree with posted information or other assessments on road conditions. If any new or updated information on a crash is received, the reporting officer may amend the crash report at a later time. A traffic crash within the city limits for which CPD is not the responding police agency, typically crashes on interstate highways, freeway ramps, and on local roads along the City boundary, are excluded from this dataset.\n"
   ]
  },
  {
   "cell_type": "markdown",
   "id": "bc46598f",
   "metadata": {},
   "source": [
    "# Chicago Car Crashes Project\n",
    "\n",
    "Build a model to predict the severity of a traffic crashes based on Chicago Police \n",
    "Department crash dataset.\n",
    "\n",
    "## Data \n",
    "Using the data from \"Chicago Car Crash Dataset\" which as more than 569700 records. The dataset as details of date and time of accident occurred, location and cause of accident and soon.<br>\n",
    "\n",
    "<h3>Dataset: \n",
    "<a href=\"https://data.cityofchicago.org/Transportation/Traffic-Crashes-Crashes/85ca-t3if\">Dataset Link</a>\n",
    "</h3>\n",
    "\n",
    "## Columns of the dataset represents\n",
    "\n",
    "- **CRASH_RECORD_ID**  : A unique ID can be used to link to the same crash in the Vehicles                                     and people datasets. \n",
    "- **RD_NO**:             Chicago Police Department report number. \n",
    "- **CRASH_DATE_EST_I** : Crash date estimated by desk officer or reporting party.\n",
    "- **CRASH_DATE** :       Date and time of crash.\n",
    "- **POSTED_SPEED_LIMIT**:Posted speed limit.\n",
    "- **TRAFFIC_CONTROL_DEVICE**:Traffic control device present at crash location.\n",
    "- **DEVICE_CONDITION**  : Condition of traffic control device.\n",
    "- **WEATHER_CONDITION** : Weather condition at time of crash.\n",
    "- **LIGHTING_CONDITION**: Light condition at time of crasH.\n",
    "- **FIRST_CRASH_TYPE**  : Type of first collision in crash.\n",
    "- **TRAFFICWAY_TYPE**   : Trafficway type.\n",
    "- **LANE_CNT**          : Total number of through lanes in either direction, excluding turn lanes.\n",
    "- **ALIGNMENT**         : Street alignment at crash location.\n",
    "- **ROADWAY_SURFACE_COND**:Road surface condition.\n",
    "- **ROAD_DEFECT**       : Road defects.\n",
    "- **REPORT_TYPE**       : Administrative report type (at scene, at desk, amended).\n",
    "- **CRASH_TYPE**        : A general severity classification for the crash. Can be either Injury and/or Tow <br>Due to Crash or No Injury / Drive Away.\n",
    "- **INTERSECTION_RELATED_I**:A field observation by the police officer whether an intersection played a role in the crash. Does not represent whether or not the crash occurred within the intersection.\n",
    "- **NOT_RIGHT_OF_WAY_I**  :Whether the crash begun or first contact was made outside of the public \n",
    "right-of-way.\n",
    "- **HIT_AND_RUN_I**      : Crash did/did not involve a driver who caused the crash and fled the <br> scene without exchanging information and/or rendering aid.\n",
    "- **DAMAGE**             : A field observation of estimated damage.\n",
    "- **DATE_POLICE_NOTIFIED**: Calendar date on which police were notified of the crash.\n",
    "- **PRIM_CONTRIBUTORY_CAUSE**:The factor which was most significant in causing the crash.\n",
    "- **SEC_CONTRIBUTORY_CAUSE** :The factor which was second most significant in causing the crash.\n",
    "- **STREET_NO**            :Street address number of crash location.\n",
    "- **STREET_DIRECTION**     :Street address direction (N,E,S,W) of crash location.\n",
    "- **STREET_NAME**          :Street address name of crash location.\n",
    "- **BEAT_OF_OCCURRENCE**   :Chicago Police Department Beat ID.\n",
    "- **PHOTOS_TAKEN_I**       :Whether the Chicago Police Department took photos at the location of the \n",
    "crash.\n",
    "- **STATEMENTS_TAKEN_I**   :Whether statements were taken from unit(s) involved in crash.\n",
    "- **DOORING_I**            :Whether crash involved a motor vehicle occupant opening a door into the \n",
    "travel path<br> of a bicyclist, causing a crash.\n",
    "- **WORK_ZONE_I**          :Whether the crash occurred in an active work zone.\n",
    "- **WORK_ZONE_TYPE**       :The type of work zone.           \n",
    "- **WORKERS_PRESENT_I**    :Whether construction workers were present in an active work zone at crash                             location\n",
    "- **NUM_UNITS**            :Number of units involved in the crash. \n",
    "- **MOST_SEVERE_INJURY**   :Most severe injury sustained by any person involved in the crash.\n",
    "- **INJURIES_TOTAL**       :Total persons sustaining fatal, incapacitating, non-incapacitating, and possible injuries.\n",
    "- **INJURIES_FATAL**       :Total persons sustaining fatal injuries in the crash.\n",
    "- **INJURIES_INCAPACITATING**:Total persons sustaining incapacitating/serious injuries in the crash.  - **INJURIES_NON_INCAPACITATING**:Total persons sustaining non-incapacitating injuries in the crash. -**INJURIES_REPORTED_NOT_EVIDENT**:Total persons sustaining possible injuries in the crash.       \n",
    "- **INJURIES_NO_INDICATION**:Total persons sustaining no injuries in the crash.\n",
    "- **INJURIES_UNKNOWN**      :Total persons for whom injuries sustained, if any, are unknown.         \n",
    "\n",
    "- **CRASH_HOUR**            :The hour of the day component of CRASH_DATE. \n",
    "- **CRASH_DAY_OF_WEEK**     :The day of the week component of CRASH_DATE. Sunday=1                \n",
    "- **CRASH_MONTH**           :The month component of CRASH_DATE.                \n",
    "- **LATITUDE**              :The latitude of the crash location.             \n",
    "- **LONGITUDE**             :The longitude of the crash location.            \n",
    "- **LOCATION**              :The crash location.          \n",
    "\n",
    "## Setting Up Our Data\n",
    "\n",
    "The modules that are imported to process the data and build the models are\n",
    "- pandas for data analysis\n",
    "- numpy for scientific computation\n",
    "- matplotlib for basic plotting\n",
    "- seaborn for advanced plotting\n",
    "- sci-kit learn for modeling & evaluations\n",
    "\n",
    "## Scrub the Data\n",
    "\n",
    "In this stage, we'll focus on preprocessing our data. \n",
    "- Important steps such as identifying and handling null values in the columns.\n",
    "- Converted object type feature to int or float type using pandas functions.\n",
    "- Merged and capped  the values of columns to reduce the outliers.\n",
    "- Dropped the column which are inconclusive.\n",
    "- Transformed categorical variables by using one-hot encoding or \"dummy variables\"."
   ]
  },
  {
   "cell_type": "markdown",
   "id": "d1883ca7",
   "metadata": {},
   "source": [
    "# Importing Libraries/ Dependencies"
   ]
  },
  {
   "cell_type": "code",
   "execution_count": 1,
   "id": "1d5b2d2e",
   "metadata": {},
   "outputs": [],
   "source": [
    "import math\n",
    "import pandas as pd\n",
    "import numpy as np\n",
    "import seaborn as sns\n",
    "import matplotlib.pyplot as plt\n",
    "%matplotlib inline\n",
    "import warnings\n",
    "\n",
    "\n",
    "from sklearn.pipeline import Pipeline\n",
    "from sklearn.metrics import precision_recall_curve\n",
    "from sklearn.preprocessing import OneHotEncoder\n",
    "from sklearn.preprocessing import LabelEncoder\n",
    "from sklearn import metrics\n",
    "from sklearn.model_selection import train_test_split\n",
    "from sklearn.metrics import accuracy_score\n",
    "from sklearn.metrics import roc_auc_score\n",
    "from sklearn.model_selection import GridSearchCV\n",
    "from sklearn.preprocessing import StandardScaler\n",
    "\n",
    "from sklearn.linear_model import LogisticRegression\n",
    "from sklearn.tree import DecisionTreeClassifier\n",
    "from sklearn.tree import export_graphviz\n",
    "import graphviz\n",
    "from sklearn.ensemble import RandomForestClassifier\n",
    "\n",
    "from sklearn.model_selection import cross_val_score\n",
    "from sklearn.metrics import classification_report\n",
    "from sklearn.metrics import confusion_matrix"
   ]
  },
  {
   "cell_type": "markdown",
   "id": "e05b56f3",
   "metadata": {},
   "source": [
    "# Loading Data"
   ]
  },
  {
   "cell_type": "code",
   "execution_count": 2,
   "id": "4a86ac2e",
   "metadata": {
    "scrolled": true
   },
   "outputs": [
    {
     "data": {
      "text/html": [
       "<div>\n",
       "<style scoped>\n",
       "    .dataframe tbody tr th:only-of-type {\n",
       "        vertical-align: middle;\n",
       "    }\n",
       "\n",
       "    .dataframe tbody tr th {\n",
       "        vertical-align: top;\n",
       "    }\n",
       "\n",
       "    .dataframe thead th {\n",
       "        text-align: right;\n",
       "    }\n",
       "</style>\n",
       "<table border=\"1\" class=\"dataframe\">\n",
       "  <thead>\n",
       "    <tr style=\"text-align: right;\">\n",
       "      <th></th>\n",
       "      <th>CRASH_RECORD_ID</th>\n",
       "      <th>RD_NO</th>\n",
       "      <th>CRASH_DATE_EST_I</th>\n",
       "      <th>CRASH_DATE</th>\n",
       "      <th>POSTED_SPEED_LIMIT</th>\n",
       "      <th>TRAFFIC_CONTROL_DEVICE</th>\n",
       "      <th>DEVICE_CONDITION</th>\n",
       "      <th>WEATHER_CONDITION</th>\n",
       "      <th>LIGHTING_CONDITION</th>\n",
       "      <th>FIRST_CRASH_TYPE</th>\n",
       "      <th>...</th>\n",
       "      <th>INJURIES_NON_INCAPACITATING</th>\n",
       "      <th>INJURIES_REPORTED_NOT_EVIDENT</th>\n",
       "      <th>INJURIES_NO_INDICATION</th>\n",
       "      <th>INJURIES_UNKNOWN</th>\n",
       "      <th>CRASH_HOUR</th>\n",
       "      <th>CRASH_DAY_OF_WEEK</th>\n",
       "      <th>CRASH_MONTH</th>\n",
       "      <th>LATITUDE</th>\n",
       "      <th>LONGITUDE</th>\n",
       "      <th>LOCATION</th>\n",
       "    </tr>\n",
       "  </thead>\n",
       "  <tbody>\n",
       "    <tr>\n",
       "      <th>0</th>\n",
       "      <td>4fd0a3e0897b3335b94cd8d5b2d2b350eb691add56c62d...</td>\n",
       "      <td>JC343143</td>\n",
       "      <td>NaN</td>\n",
       "      <td>07/10/2019 05:56:00 PM</td>\n",
       "      <td>35</td>\n",
       "      <td>NO CONTROLS</td>\n",
       "      <td>NO CONTROLS</td>\n",
       "      <td>CLEAR</td>\n",
       "      <td>DAYLIGHT</td>\n",
       "      <td>TURNING</td>\n",
       "      <td>...</td>\n",
       "      <td>0.0</td>\n",
       "      <td>0.0</td>\n",
       "      <td>3.0</td>\n",
       "      <td>0.0</td>\n",
       "      <td>17</td>\n",
       "      <td>4</td>\n",
       "      <td>7</td>\n",
       "      <td>41.919664</td>\n",
       "      <td>-87.773288</td>\n",
       "      <td>POINT (-87.773287883007 41.919663832993)</td>\n",
       "    </tr>\n",
       "    <tr>\n",
       "      <th>1</th>\n",
       "      <td>009e9e67203442370272e1a13d6ee51a4155dac65e583d...</td>\n",
       "      <td>JA329216</td>\n",
       "      <td>NaN</td>\n",
       "      <td>06/30/2017 04:00:00 PM</td>\n",
       "      <td>35</td>\n",
       "      <td>STOP SIGN/FLASHER</td>\n",
       "      <td>FUNCTIONING PROPERLY</td>\n",
       "      <td>CLEAR</td>\n",
       "      <td>DAYLIGHT</td>\n",
       "      <td>TURNING</td>\n",
       "      <td>...</td>\n",
       "      <td>0.0</td>\n",
       "      <td>0.0</td>\n",
       "      <td>3.0</td>\n",
       "      <td>0.0</td>\n",
       "      <td>16</td>\n",
       "      <td>6</td>\n",
       "      <td>6</td>\n",
       "      <td>41.741804</td>\n",
       "      <td>-87.740954</td>\n",
       "      <td>POINT (-87.740953581987 41.741803598989)</td>\n",
       "    </tr>\n",
       "    <tr>\n",
       "      <th>2</th>\n",
       "      <td>ee9283eff3a55ac50ee58f3d9528ce1d689b1c4180b4c4...</td>\n",
       "      <td>JD292400</td>\n",
       "      <td>NaN</td>\n",
       "      <td>07/10/2020 10:25:00 AM</td>\n",
       "      <td>30</td>\n",
       "      <td>TRAFFIC SIGNAL</td>\n",
       "      <td>FUNCTIONING PROPERLY</td>\n",
       "      <td>CLEAR</td>\n",
       "      <td>DAYLIGHT</td>\n",
       "      <td>REAR END</td>\n",
       "      <td>...</td>\n",
       "      <td>0.0</td>\n",
       "      <td>0.0</td>\n",
       "      <td>3.0</td>\n",
       "      <td>0.0</td>\n",
       "      <td>10</td>\n",
       "      <td>6</td>\n",
       "      <td>7</td>\n",
       "      <td>41.773456</td>\n",
       "      <td>-87.585022</td>\n",
       "      <td>POINT (-87.585022352022 41.773455972008)</td>\n",
       "    </tr>\n",
       "    <tr>\n",
       "      <th>3</th>\n",
       "      <td>f8960f698e870ebdc60b521b2a141a5395556bc3704191...</td>\n",
       "      <td>JD293602</td>\n",
       "      <td>NaN</td>\n",
       "      <td>07/11/2020 01:00:00 AM</td>\n",
       "      <td>30</td>\n",
       "      <td>NO CONTROLS</td>\n",
       "      <td>NO CONTROLS</td>\n",
       "      <td>CLEAR</td>\n",
       "      <td>DARKNESS</td>\n",
       "      <td>PARKED MOTOR VEHICLE</td>\n",
       "      <td>...</td>\n",
       "      <td>0.0</td>\n",
       "      <td>0.0</td>\n",
       "      <td>3.0</td>\n",
       "      <td>0.0</td>\n",
       "      <td>1</td>\n",
       "      <td>7</td>\n",
       "      <td>7</td>\n",
       "      <td>41.802119</td>\n",
       "      <td>-87.622115</td>\n",
       "      <td>POINT (-87.622114914961 41.802118543011)</td>\n",
       "    </tr>\n",
       "    <tr>\n",
       "      <th>4</th>\n",
       "      <td>8eaa2678d1a127804ee9b8c35ddf7d63d913c14eda61d6...</td>\n",
       "      <td>JD290451</td>\n",
       "      <td>NaN</td>\n",
       "      <td>07/08/2020 02:00:00 PM</td>\n",
       "      <td>20</td>\n",
       "      <td>NO CONTROLS</td>\n",
       "      <td>NO CONTROLS</td>\n",
       "      <td>CLEAR</td>\n",
       "      <td>DAYLIGHT</td>\n",
       "      <td>PARKED MOTOR VEHICLE</td>\n",
       "      <td>...</td>\n",
       "      <td>0.0</td>\n",
       "      <td>0.0</td>\n",
       "      <td>1.0</td>\n",
       "      <td>0.0</td>\n",
       "      <td>14</td>\n",
       "      <td>4</td>\n",
       "      <td>7</td>\n",
       "      <td>NaN</td>\n",
       "      <td>NaN</td>\n",
       "      <td>NaN</td>\n",
       "    </tr>\n",
       "  </tbody>\n",
       "</table>\n",
       "<p>5 rows × 49 columns</p>\n",
       "</div>"
      ],
      "text/plain": [
       "                                     CRASH_RECORD_ID     RD_NO  \\\n",
       "0  4fd0a3e0897b3335b94cd8d5b2d2b350eb691add56c62d...  JC343143   \n",
       "1  009e9e67203442370272e1a13d6ee51a4155dac65e583d...  JA329216   \n",
       "2  ee9283eff3a55ac50ee58f3d9528ce1d689b1c4180b4c4...  JD292400   \n",
       "3  f8960f698e870ebdc60b521b2a141a5395556bc3704191...  JD293602   \n",
       "4  8eaa2678d1a127804ee9b8c35ddf7d63d913c14eda61d6...  JD290451   \n",
       "\n",
       "  CRASH_DATE_EST_I              CRASH_DATE  POSTED_SPEED_LIMIT  \\\n",
       "0              NaN  07/10/2019 05:56:00 PM                  35   \n",
       "1              NaN  06/30/2017 04:00:00 PM                  35   \n",
       "2              NaN  07/10/2020 10:25:00 AM                  30   \n",
       "3              NaN  07/11/2020 01:00:00 AM                  30   \n",
       "4              NaN  07/08/2020 02:00:00 PM                  20   \n",
       "\n",
       "  TRAFFIC_CONTROL_DEVICE      DEVICE_CONDITION WEATHER_CONDITION  \\\n",
       "0            NO CONTROLS           NO CONTROLS             CLEAR   \n",
       "1      STOP SIGN/FLASHER  FUNCTIONING PROPERLY             CLEAR   \n",
       "2         TRAFFIC SIGNAL  FUNCTIONING PROPERLY             CLEAR   \n",
       "3            NO CONTROLS           NO CONTROLS             CLEAR   \n",
       "4            NO CONTROLS           NO CONTROLS             CLEAR   \n",
       "\n",
       "  LIGHTING_CONDITION      FIRST_CRASH_TYPE  ... INJURIES_NON_INCAPACITATING  \\\n",
       "0           DAYLIGHT               TURNING  ...                         0.0   \n",
       "1           DAYLIGHT               TURNING  ...                         0.0   \n",
       "2           DAYLIGHT              REAR END  ...                         0.0   \n",
       "3           DARKNESS  PARKED MOTOR VEHICLE  ...                         0.0   \n",
       "4           DAYLIGHT  PARKED MOTOR VEHICLE  ...                         0.0   \n",
       "\n",
       "   INJURIES_REPORTED_NOT_EVIDENT INJURIES_NO_INDICATION INJURIES_UNKNOWN  \\\n",
       "0                            0.0                    3.0              0.0   \n",
       "1                            0.0                    3.0              0.0   \n",
       "2                            0.0                    3.0              0.0   \n",
       "3                            0.0                    3.0              0.0   \n",
       "4                            0.0                    1.0              0.0   \n",
       "\n",
       "  CRASH_HOUR CRASH_DAY_OF_WEEK CRASH_MONTH   LATITUDE  LONGITUDE  \\\n",
       "0         17                 4           7  41.919664 -87.773288   \n",
       "1         16                 6           6  41.741804 -87.740954   \n",
       "2         10                 6           7  41.773456 -87.585022   \n",
       "3          1                 7           7  41.802119 -87.622115   \n",
       "4         14                 4           7        NaN        NaN   \n",
       "\n",
       "                                   LOCATION  \n",
       "0  POINT (-87.773287883007 41.919663832993)  \n",
       "1  POINT (-87.740953581987 41.741803598989)  \n",
       "2  POINT (-87.585022352022 41.773455972008)  \n",
       "3  POINT (-87.622114914961 41.802118543011)  \n",
       "4                                       NaN  \n",
       "\n",
       "[5 rows x 49 columns]"
      ]
     },
     "execution_count": 2,
     "metadata": {},
     "output_type": "execute_result"
    }
   ],
   "source": [
    "data_frame = pd.read_csv('crash_report.csv')\n",
    "data_frame.head()"
   ]
  },
  {
   "cell_type": "code",
   "execution_count": 3,
   "id": "46cc8aed",
   "metadata": {},
   "outputs": [
    {
     "data": {
      "text/plain": [
       "Index(['CRASH_RECORD_ID', 'RD_NO', 'CRASH_DATE_EST_I', 'CRASH_DATE',\n",
       "       'POSTED_SPEED_LIMIT', 'TRAFFIC_CONTROL_DEVICE', 'DEVICE_CONDITION',\n",
       "       'WEATHER_CONDITION', 'LIGHTING_CONDITION', 'FIRST_CRASH_TYPE',\n",
       "       'TRAFFICWAY_TYPE', 'LANE_CNT', 'ALIGNMENT', 'ROADWAY_SURFACE_COND',\n",
       "       'ROAD_DEFECT', 'REPORT_TYPE', 'CRASH_TYPE', 'INTERSECTION_RELATED_I',\n",
       "       'NOT_RIGHT_OF_WAY_I', 'HIT_AND_RUN_I', 'DAMAGE', 'DATE_POLICE_NOTIFIED',\n",
       "       'PRIM_CONTRIBUTORY_CAUSE', 'SEC_CONTRIBUTORY_CAUSE', 'STREET_NO',\n",
       "       'STREET_DIRECTION', 'STREET_NAME', 'BEAT_OF_OCCURRENCE',\n",
       "       'PHOTOS_TAKEN_I', 'STATEMENTS_TAKEN_I', 'DOORING_I', 'WORK_ZONE_I',\n",
       "       'WORK_ZONE_TYPE', 'WORKERS_PRESENT_I', 'NUM_UNITS',\n",
       "       'MOST_SEVERE_INJURY', 'INJURIES_TOTAL', 'INJURIES_FATAL',\n",
       "       'INJURIES_INCAPACITATING', 'INJURIES_NON_INCAPACITATING',\n",
       "       'INJURIES_REPORTED_NOT_EVIDENT', 'INJURIES_NO_INDICATION',\n",
       "       'INJURIES_UNKNOWN', 'CRASH_HOUR', 'CRASH_DAY_OF_WEEK', 'CRASH_MONTH',\n",
       "       'LATITUDE', 'LONGITUDE', 'LOCATION'],\n",
       "      dtype='object')"
      ]
     },
     "execution_count": 3,
     "metadata": {},
     "output_type": "execute_result"
    }
   ],
   "source": [
    "data_frame.columns"
   ]
  },
  {
   "cell_type": "code",
   "execution_count": 4,
   "id": "234c2baf",
   "metadata": {
    "scrolled": false
   },
   "outputs": [
    {
     "data": {
      "text/plain": [
       "(569700, 49)"
      ]
     },
     "execution_count": 4,
     "metadata": {},
     "output_type": "execute_result"
    }
   ],
   "source": [
    "data_frame.shape"
   ]
  },
  {
   "cell_type": "markdown",
   "id": "ed419b9d",
   "metadata": {},
   "source": [
    "# Cleaning Data"
   ]
  },
  {
   "cell_type": "markdown",
   "id": "597a954a",
   "metadata": {},
   "source": [
    "### Missing Values"
   ]
  },
  {
   "cell_type": "code",
   "execution_count": 5,
   "id": "8cab09d6",
   "metadata": {},
   "outputs": [
    {
     "name": "stdout",
     "output_type": "stream",
     "text": [
      "Column Names                   Missing Values\n"
     ]
    },
    {
     "data": {
      "text/plain": [
       "RD_NO                              4002\n",
       "CRASH_DATE_EST_I                 526621\n",
       "LANE_CNT                         370725\n",
       "REPORT_TYPE                       14425\n",
       "INTERSECTION_RELATED_I           440037\n",
       "NOT_RIGHT_OF_WAY_I               542866\n",
       "HIT_AND_RUN_I                    396910\n",
       "STREET_DIRECTION                      4\n",
       "STREET_NAME                           1\n",
       "BEAT_OF_OCCURRENCE                    5\n",
       "PHOTOS_TAKEN_I                   562677\n",
       "STATEMENTS_TAKEN_I               558201\n",
       "DOORING_I                        567872\n",
       "WORK_ZONE_I                      566152\n",
       "WORK_ZONE_TYPE                   566891\n",
       "WORKERS_PRESENT_I                568814\n",
       "MOST_SEVERE_INJURY                 1175\n",
       "INJURIES_TOTAL                     1164\n",
       "INJURIES_FATAL                     1164\n",
       "INJURIES_INCAPACITATING            1164\n",
       "INJURIES_NON_INCAPACITATING        1164\n",
       "INJURIES_REPORTED_NOT_EVIDENT      1164\n",
       "INJURIES_NO_INDICATION             1164\n",
       "INJURIES_UNKNOWN                   1164\n",
       "LATITUDE                           3326\n",
       "LONGITUDE                          3326\n",
       "LOCATION                           3326\n",
       "dtype: int64"
      ]
     },
     "execution_count": 5,
     "metadata": {},
     "output_type": "execute_result"
    }
   ],
   "source": [
    "missing_values = data_frame.isna().sum()\n",
    "print('Column Names                   Missing Values')\n",
    "missing_values[missing_values>0]"
   ]
  },
  {
   "cell_type": "code",
   "execution_count": 6,
   "id": "de30d2bd",
   "metadata": {},
   "outputs": [
    {
     "data": {
      "text/plain": [
       "Index(['UNABLE TO DETERMINE', 'FAILING TO YIELD RIGHT-OF-WAY',\n",
       "       'FOLLOWING TOO CLOSELY', 'NOT APPLICABLE',\n",
       "       'IMPROPER OVERTAKING/PASSING', 'FAILING TO REDUCE SPEED TO AVOID CRASH',\n",
       "       'IMPROPER BACKING', 'IMPROPER LANE USAGE', 'IMPROPER TURNING/NO SIGNAL',\n",
       "       'DRIVING SKILLS/KNOWLEDGE/EXPERIENCE', 'DISREGARDING TRAFFIC SIGNALS',\n",
       "       'WEATHER',\n",
       "       'OPERATING VEHICLE IN ERRATIC, RECKLESS, CARELESS, NEGLIGENT OR AGGRESSIVE MANNER',\n",
       "       'DISREGARDING STOP SIGN', 'DISTRACTION - FROM INSIDE VEHICLE',\n",
       "       'EQUIPMENT - VEHICLE CONDITION', 'PHYSICAL CONDITION OF DRIVER',\n",
       "       'VISION OBSCURED (SIGNS, TREE LIMBS, BUILDINGS, ETC.)',\n",
       "       'UNDER THE INFLUENCE OF ALCOHOL/DRUGS (USE WHEN ARREST IS EFFECTED)',\n",
       "       'DRIVING ON WRONG SIDE/WRONG WAY', 'DISTRACTION - FROM OUTSIDE VEHICLE',\n",
       "       'EXCEEDING AUTHORIZED SPEED LIMIT',\n",
       "       'EXCEEDING SAFE SPEED FOR CONDITIONS',\n",
       "       'ROAD ENGINEERING/SURFACE/MARKING DEFECTS',\n",
       "       'ROAD CONSTRUCTION/MAINTENANCE', 'DISREGARDING OTHER TRAFFIC SIGNS',\n",
       "       'EVASIVE ACTION DUE TO ANIMAL, OBJECT, NONMOTORIST',\n",
       "       'CELL PHONE USE OTHER THAN TEXTING', 'DISREGARDING ROAD MARKINGS',\n",
       "       'HAD BEEN DRINKING (USE WHEN ARREST IS NOT MADE)', 'ANIMAL',\n",
       "       'TURNING RIGHT ON RED',\n",
       "       'DISTRACTION - OTHER ELECTRONIC DEVICE (NAVIGATION DEVICE, DVD PLAYER, ETC.)',\n",
       "       'TEXTING', 'RELATED TO BUS STOP', 'DISREGARDING YIELD SIGN',\n",
       "       'PASSING STOPPED SCHOOL BUS', 'BICYCLE ADVANCING LEGALLY ON RED LIGHT',\n",
       "       'OBSTRUCTED CROSSWALKS', 'MOTORCYCLE ADVANCING LEGALLY ON RED LIGHT'],\n",
       "      dtype='object')"
      ]
     },
     "execution_count": 6,
     "metadata": {},
     "output_type": "execute_result"
    }
   ],
   "source": [
    "data_frame.PRIM_CONTRIBUTORY_CAUSE.value_counts().index"
   ]
  },
  {
   "cell_type": "markdown",
   "id": "e685248d",
   "metadata": {},
   "source": [
    "#### There are some columns which have no significance, so dropping those columns"
   ]
  },
  {
   "cell_type": "code",
   "execution_count": 7,
   "id": "420671fb",
   "metadata": {},
   "outputs": [],
   "source": [
    "data_frame.drop(['CRASH_RECORD_ID', 'CRASH_DATE_EST_I', 'RD_NO', 'REPORT_TYPE', 'STREET_NO', 'BEAT_OF_OCCURRENCE', \n",
    "         'PHOTOS_TAKEN_I', 'STATEMENTS_TAKEN_I', 'WORKERS_PRESENT_I', 'INJURIES_UNKNOWN', 'LONGITUDE', 'LATITUDE',\n",
    "         'MOST_SEVERE_INJURY', 'INJURIES_TOTAL', 'INJURIES_FATAL','INJURIES_INCAPACITATING', \n",
    "         'INJURIES_NON_INCAPACITATING', 'INJURIES_REPORTED_NOT_EVIDENT', 'INJURIES_NO_INDICATION',\n",
    "         'DATE_POLICE_NOTIFIED','NUM_UNITS','STREET_DIRECTION','STREET_NAME', 'LANE_CNT'], axis=1, inplace=True)"
   ]
  },
  {
   "cell_type": "code",
   "execution_count": 8,
   "id": "e20ec79d",
   "metadata": {},
   "outputs": [],
   "source": [
    "data_frame.fillna('UNKNOWN', inplace=True)"
   ]
  },
  {
   "cell_type": "markdown",
   "id": "966c4fd8",
   "metadata": {},
   "source": [
    "### FIRST_CRASH_TYPE : One Hot Encoding"
   ]
  },
  {
   "cell_type": "code",
   "execution_count": 9,
   "id": "11e9d96e",
   "metadata": {},
   "outputs": [],
   "source": [
    "one_hot = OneHotEncoder(handle_unknown='ignore')"
   ]
  },
  {
   "cell_type": "code",
   "execution_count": 10,
   "id": "65189d41",
   "metadata": {},
   "outputs": [],
   "source": [
    "# Making a new data frame for \"First Crash Type\"\n",
    "crash = data_frame['FIRST_CRASH_TYPE']\n",
    "crash_data = pd.DataFrame(crash, columns=['FIRST_CRASH_TYPE'])\n",
    "crash_data = pd.DataFrame(one_hot.fit_transform(crash_data[['FIRST_CRASH_TYPE']]).toarray())"
   ]
  },
  {
   "cell_type": "code",
   "execution_count": 11,
   "id": "31ac1ef3",
   "metadata": {},
   "outputs": [
    {
     "data": {
      "text/plain": [
       "Index(['TURNING', 'REAR END', 'PARKED MOTOR VEHICLE',\n",
       "       'SIDESWIPE OPPOSITE DIRECTION', 'ANGLE', 'SIDESWIPE SAME DIRECTION',\n",
       "       'PEDALCYCLIST', 'OTHER OBJECT', 'PEDESTRIAN', 'FIXED OBJECT', 'HEAD ON',\n",
       "       'REAR TO FRONT', 'REAR TO SIDE', 'REAR TO REAR', 'ANIMAL',\n",
       "       'OTHER NONCOLLISION', 'OVERTURNED', 'TRAIN'],\n",
       "      dtype='object')"
      ]
     },
     "execution_count": 11,
     "metadata": {},
     "output_type": "execute_result"
    }
   ],
   "source": [
    "crash_data.columns = data_frame['FIRST_CRASH_TYPE'].unique()\n",
    "crash_data.columns"
   ]
  },
  {
   "cell_type": "markdown",
   "id": "142e3c1b",
   "metadata": {},
   "source": [
    "### FEATURES : Label Encoding"
   ]
  },
  {
   "cell_type": "code",
   "execution_count": 12,
   "id": "81ca9b27",
   "metadata": {},
   "outputs": [
    {
     "data": {
      "text/html": [
       "<div>\n",
       "<style scoped>\n",
       "    .dataframe tbody tr th:only-of-type {\n",
       "        vertical-align: middle;\n",
       "    }\n",
       "\n",
       "    .dataframe tbody tr th {\n",
       "        vertical-align: top;\n",
       "    }\n",
       "\n",
       "    .dataframe thead th {\n",
       "        text-align: right;\n",
       "    }\n",
       "</style>\n",
       "<table border=\"1\" class=\"dataframe\">\n",
       "  <thead>\n",
       "    <tr style=\"text-align: right;\">\n",
       "      <th></th>\n",
       "      <th>TRAFFIC_CONTROL_DEVICE</th>\n",
       "      <th>DEVICE_CONDITION</th>\n",
       "      <th>WEATHER_CONDITION</th>\n",
       "      <th>LIGHTING_CONDITION</th>\n",
       "      <th>TRAFFICWAY_TYPE</th>\n",
       "      <th>ALIGNMENT</th>\n",
       "      <th>ROADWAY_SURFACE_COND</th>\n",
       "      <th>ROAD_DEFECT</th>\n",
       "      <th>INTERSECTION_RELATED_I</th>\n",
       "      <th>NOT_RIGHT_OF_WAY_I</th>\n",
       "      <th>HIT_AND_RUN_I</th>\n",
       "      <th>PRIM_CONTRIBUTORY_CAUSE</th>\n",
       "      <th>SEC_CONTRIBUTORY_CAUSE</th>\n",
       "      <th>DOORING_I</th>\n",
       "      <th>WORK_ZONE_I</th>\n",
       "      <th>WORK_ZONE_TYPE</th>\n",
       "    </tr>\n",
       "  </thead>\n",
       "  <tbody>\n",
       "    <tr>\n",
       "      <th>0</th>\n",
       "      <td>4</td>\n",
       "      <td>3</td>\n",
       "      <td>2</td>\n",
       "      <td>3</td>\n",
       "      <td>10</td>\n",
       "      <td>3</td>\n",
       "      <td>0</td>\n",
       "      <td>1</td>\n",
       "      <td>1</td>\n",
       "      <td>1</td>\n",
       "      <td>1</td>\n",
       "      <td>21</td>\n",
       "      <td>36</td>\n",
       "      <td>1</td>\n",
       "      <td>1</td>\n",
       "      <td>2</td>\n",
       "    </tr>\n",
       "    <tr>\n",
       "      <th>1</th>\n",
       "      <td>15</td>\n",
       "      <td>1</td>\n",
       "      <td>2</td>\n",
       "      <td>3</td>\n",
       "      <td>8</td>\n",
       "      <td>3</td>\n",
       "      <td>0</td>\n",
       "      <td>1</td>\n",
       "      <td>2</td>\n",
       "      <td>1</td>\n",
       "      <td>1</td>\n",
       "      <td>18</td>\n",
       "      <td>26</td>\n",
       "      <td>1</td>\n",
       "      <td>1</td>\n",
       "      <td>2</td>\n",
       "    </tr>\n",
       "    <tr>\n",
       "      <th>2</th>\n",
       "      <td>16</td>\n",
       "      <td>1</td>\n",
       "      <td>2</td>\n",
       "      <td>3</td>\n",
       "      <td>6</td>\n",
       "      <td>3</td>\n",
       "      <td>0</td>\n",
       "      <td>1</td>\n",
       "      <td>1</td>\n",
       "      <td>1</td>\n",
       "      <td>1</td>\n",
       "      <td>18</td>\n",
       "      <td>18</td>\n",
       "      <td>1</td>\n",
       "      <td>1</td>\n",
       "      <td>2</td>\n",
       "    </tr>\n",
       "    <tr>\n",
       "      <th>3</th>\n",
       "      <td>4</td>\n",
       "      <td>3</td>\n",
       "      <td>2</td>\n",
       "      <td>0</td>\n",
       "      <td>2</td>\n",
       "      <td>3</td>\n",
       "      <td>0</td>\n",
       "      <td>1</td>\n",
       "      <td>1</td>\n",
       "      <td>1</td>\n",
       "      <td>2</td>\n",
       "      <td>36</td>\n",
       "      <td>36</td>\n",
       "      <td>1</td>\n",
       "      <td>1</td>\n",
       "      <td>2</td>\n",
       "    </tr>\n",
       "    <tr>\n",
       "      <th>4</th>\n",
       "      <td>4</td>\n",
       "      <td>3</td>\n",
       "      <td>2</td>\n",
       "      <td>3</td>\n",
       "      <td>4</td>\n",
       "      <td>3</td>\n",
       "      <td>0</td>\n",
       "      <td>1</td>\n",
       "      <td>1</td>\n",
       "      <td>1</td>\n",
       "      <td>1</td>\n",
       "      <td>36</td>\n",
       "      <td>36</td>\n",
       "      <td>1</td>\n",
       "      <td>1</td>\n",
       "      <td>2</td>\n",
       "    </tr>\n",
       "    <tr>\n",
       "      <th>...</th>\n",
       "      <td>...</td>\n",
       "      <td>...</td>\n",
       "      <td>...</td>\n",
       "      <td>...</td>\n",
       "      <td>...</td>\n",
       "      <td>...</td>\n",
       "      <td>...</td>\n",
       "      <td>...</td>\n",
       "      <td>...</td>\n",
       "      <td>...</td>\n",
       "      <td>...</td>\n",
       "      <td>...</td>\n",
       "      <td>...</td>\n",
       "      <td>...</td>\n",
       "      <td>...</td>\n",
       "      <td>...</td>\n",
       "    </tr>\n",
       "    <tr>\n",
       "      <th>569695</th>\n",
       "      <td>4</td>\n",
       "      <td>3</td>\n",
       "      <td>2</td>\n",
       "      <td>3</td>\n",
       "      <td>12</td>\n",
       "      <td>3</td>\n",
       "      <td>0</td>\n",
       "      <td>1</td>\n",
       "      <td>1</td>\n",
       "      <td>2</td>\n",
       "      <td>1</td>\n",
       "      <td>26</td>\n",
       "      <td>21</td>\n",
       "      <td>1</td>\n",
       "      <td>1</td>\n",
       "      <td>2</td>\n",
       "    </tr>\n",
       "    <tr>\n",
       "      <th>569696</th>\n",
       "      <td>16</td>\n",
       "      <td>1</td>\n",
       "      <td>11</td>\n",
       "      <td>5</td>\n",
       "      <td>8</td>\n",
       "      <td>3</td>\n",
       "      <td>5</td>\n",
       "      <td>5</td>\n",
       "      <td>2</td>\n",
       "      <td>1</td>\n",
       "      <td>2</td>\n",
       "      <td>6</td>\n",
       "      <td>26</td>\n",
       "      <td>1</td>\n",
       "      <td>1</td>\n",
       "      <td>2</td>\n",
       "    </tr>\n",
       "    <tr>\n",
       "      <th>569697</th>\n",
       "      <td>4</td>\n",
       "      <td>3</td>\n",
       "      <td>2</td>\n",
       "      <td>3</td>\n",
       "      <td>10</td>\n",
       "      <td>3</td>\n",
       "      <td>0</td>\n",
       "      <td>1</td>\n",
       "      <td>2</td>\n",
       "      <td>1</td>\n",
       "      <td>2</td>\n",
       "      <td>36</td>\n",
       "      <td>26</td>\n",
       "      <td>1</td>\n",
       "      <td>1</td>\n",
       "      <td>2</td>\n",
       "    </tr>\n",
       "    <tr>\n",
       "      <th>569698</th>\n",
       "      <td>4</td>\n",
       "      <td>3</td>\n",
       "      <td>2</td>\n",
       "      <td>3</td>\n",
       "      <td>8</td>\n",
       "      <td>3</td>\n",
       "      <td>0</td>\n",
       "      <td>1</td>\n",
       "      <td>1</td>\n",
       "      <td>1</td>\n",
       "      <td>2</td>\n",
       "      <td>36</td>\n",
       "      <td>26</td>\n",
       "      <td>1</td>\n",
       "      <td>1</td>\n",
       "      <td>2</td>\n",
       "    </tr>\n",
       "    <tr>\n",
       "      <th>569699</th>\n",
       "      <td>4</td>\n",
       "      <td>3</td>\n",
       "      <td>2</td>\n",
       "      <td>3</td>\n",
       "      <td>2</td>\n",
       "      <td>3</td>\n",
       "      <td>0</td>\n",
       "      <td>1</td>\n",
       "      <td>1</td>\n",
       "      <td>1</td>\n",
       "      <td>2</td>\n",
       "      <td>36</td>\n",
       "      <td>26</td>\n",
       "      <td>1</td>\n",
       "      <td>1</td>\n",
       "      <td>2</td>\n",
       "    </tr>\n",
       "  </tbody>\n",
       "</table>\n",
       "<p>569700 rows × 16 columns</p>\n",
       "</div>"
      ],
      "text/plain": [
       "        TRAFFIC_CONTROL_DEVICE  DEVICE_CONDITION  WEATHER_CONDITION  \\\n",
       "0                            4                 3                  2   \n",
       "1                           15                 1                  2   \n",
       "2                           16                 1                  2   \n",
       "3                            4                 3                  2   \n",
       "4                            4                 3                  2   \n",
       "...                        ...               ...                ...   \n",
       "569695                       4                 3                  2   \n",
       "569696                      16                 1                 11   \n",
       "569697                       4                 3                  2   \n",
       "569698                       4                 3                  2   \n",
       "569699                       4                 3                  2   \n",
       "\n",
       "        LIGHTING_CONDITION  TRAFFICWAY_TYPE  ALIGNMENT  ROADWAY_SURFACE_COND  \\\n",
       "0                        3               10          3                     0   \n",
       "1                        3                8          3                     0   \n",
       "2                        3                6          3                     0   \n",
       "3                        0                2          3                     0   \n",
       "4                        3                4          3                     0   \n",
       "...                    ...              ...        ...                   ...   \n",
       "569695                   3               12          3                     0   \n",
       "569696                   5                8          3                     5   \n",
       "569697                   3               10          3                     0   \n",
       "569698                   3                8          3                     0   \n",
       "569699                   3                2          3                     0   \n",
       "\n",
       "        ROAD_DEFECT  INTERSECTION_RELATED_I  NOT_RIGHT_OF_WAY_I  \\\n",
       "0                 1                       1                   1   \n",
       "1                 1                       2                   1   \n",
       "2                 1                       1                   1   \n",
       "3                 1                       1                   1   \n",
       "4                 1                       1                   1   \n",
       "...             ...                     ...                 ...   \n",
       "569695            1                       1                   2   \n",
       "569696            5                       2                   1   \n",
       "569697            1                       2                   1   \n",
       "569698            1                       1                   1   \n",
       "569699            1                       1                   1   \n",
       "\n",
       "        HIT_AND_RUN_I  PRIM_CONTRIBUTORY_CAUSE  SEC_CONTRIBUTORY_CAUSE  \\\n",
       "0                   1                       21                      36   \n",
       "1                   1                       18                      26   \n",
       "2                   1                       18                      18   \n",
       "3                   2                       36                      36   \n",
       "4                   1                       36                      36   \n",
       "...               ...                      ...                     ...   \n",
       "569695              1                       26                      21   \n",
       "569696              2                        6                      26   \n",
       "569697              2                       36                      26   \n",
       "569698              2                       36                      26   \n",
       "569699              2                       36                      26   \n",
       "\n",
       "        DOORING_I  WORK_ZONE_I  WORK_ZONE_TYPE  \n",
       "0               1            1               2  \n",
       "1               1            1               2  \n",
       "2               1            1               2  \n",
       "3               1            1               2  \n",
       "4               1            1               2  \n",
       "...           ...          ...             ...  \n",
       "569695          1            1               2  \n",
       "569696          1            1               2  \n",
       "569697          1            1               2  \n",
       "569698          1            1               2  \n",
       "569699          1            1               2  \n",
       "\n",
       "[569700 rows x 16 columns]"
      ]
     },
     "execution_count": 12,
     "metadata": {},
     "output_type": "execute_result"
    }
   ],
   "source": [
    "text_column = ['TRAFFIC_CONTROL_DEVICE', 'DEVICE_CONDITION', 'WEATHER_CONDITION', 'LIGHTING_CONDITION', 'TRAFFICWAY_TYPE', \n",
    "            'ALIGNMENT', 'ROADWAY_SURFACE_COND', 'ROAD_DEFECT', 'INTERSECTION_RELATED_I','NOT_RIGHT_OF_WAY_I',\n",
    "            'HIT_AND_RUN_I', 'PRIM_CONTRIBUTORY_CAUSE', 'SEC_CONTRIBUTORY_CAUSE','DOORING_I', 'WORK_ZONE_I', \n",
    "            'WORK_ZONE_TYPE']\n",
    "encoding_data = pd.DataFrame()\n",
    "for column in text_column:\n",
    "    encoder = LabelEncoder()\n",
    "    encoding_data[column] = encoder.fit_transform(data_frame[column])\n",
    "    \n",
    "encoding_data"
   ]
  },
  {
   "cell_type": "code",
   "execution_count": 13,
   "id": "5b1519a4",
   "metadata": {},
   "outputs": [
    {
     "data": {
      "text/html": [
       "<div>\n",
       "<style scoped>\n",
       "    .dataframe tbody tr th:only-of-type {\n",
       "        vertical-align: middle;\n",
       "    }\n",
       "\n",
       "    .dataframe tbody tr th {\n",
       "        vertical-align: top;\n",
       "    }\n",
       "\n",
       "    .dataframe thead th {\n",
       "        text-align: right;\n",
       "    }\n",
       "</style>\n",
       "<table border=\"1\" class=\"dataframe\">\n",
       "  <thead>\n",
       "    <tr style=\"text-align: right;\">\n",
       "      <th></th>\n",
       "      <th>POSTED_SPEED_LIMIT</th>\n",
       "      <th>CRASH_HOUR</th>\n",
       "      <th>CRASH_DAY_OF_WEEK</th>\n",
       "      <th>CRASH_MONTH</th>\n",
       "      <th>LOCATION</th>\n",
       "    </tr>\n",
       "  </thead>\n",
       "  <tbody>\n",
       "    <tr>\n",
       "      <th>0</th>\n",
       "      <td>35</td>\n",
       "      <td>17</td>\n",
       "      <td>4</td>\n",
       "      <td>7</td>\n",
       "      <td>POINT (-87.773287883007 41.919663832993)</td>\n",
       "    </tr>\n",
       "    <tr>\n",
       "      <th>1</th>\n",
       "      <td>35</td>\n",
       "      <td>16</td>\n",
       "      <td>6</td>\n",
       "      <td>6</td>\n",
       "      <td>POINT (-87.740953581987 41.741803598989)</td>\n",
       "    </tr>\n",
       "    <tr>\n",
       "      <th>2</th>\n",
       "      <td>30</td>\n",
       "      <td>10</td>\n",
       "      <td>6</td>\n",
       "      <td>7</td>\n",
       "      <td>POINT (-87.585022352022 41.773455972008)</td>\n",
       "    </tr>\n",
       "    <tr>\n",
       "      <th>3</th>\n",
       "      <td>30</td>\n",
       "      <td>1</td>\n",
       "      <td>7</td>\n",
       "      <td>7</td>\n",
       "      <td>POINT (-87.622114914961 41.802118543011)</td>\n",
       "    </tr>\n",
       "    <tr>\n",
       "      <th>4</th>\n",
       "      <td>20</td>\n",
       "      <td>14</td>\n",
       "      <td>4</td>\n",
       "      <td>7</td>\n",
       "      <td>UNKNOWN</td>\n",
       "    </tr>\n",
       "    <tr>\n",
       "      <th>...</th>\n",
       "      <td>...</td>\n",
       "      <td>...</td>\n",
       "      <td>...</td>\n",
       "      <td>...</td>\n",
       "      <td>...</td>\n",
       "    </tr>\n",
       "    <tr>\n",
       "      <th>569695</th>\n",
       "      <td>10</td>\n",
       "      <td>18</td>\n",
       "      <td>2</td>\n",
       "      <td>7</td>\n",
       "      <td>POINT (-87.721652118145 41.736965321289)</td>\n",
       "    </tr>\n",
       "    <tr>\n",
       "      <th>569696</th>\n",
       "      <td>30</td>\n",
       "      <td>21</td>\n",
       "      <td>4</td>\n",
       "      <td>7</td>\n",
       "      <td>POINT (-87.604985730802 41.747538448447)</td>\n",
       "    </tr>\n",
       "    <tr>\n",
       "      <th>569697</th>\n",
       "      <td>30</td>\n",
       "      <td>10</td>\n",
       "      <td>2</td>\n",
       "      <td>7</td>\n",
       "      <td>POINT (-87.621572939578 41.752917594949)</td>\n",
       "    </tr>\n",
       "    <tr>\n",
       "      <th>569698</th>\n",
       "      <td>15</td>\n",
       "      <td>16</td>\n",
       "      <td>3</td>\n",
       "      <td>7</td>\n",
       "      <td>POINT (-87.668979124866 41.781829602685)</td>\n",
       "    </tr>\n",
       "    <tr>\n",
       "      <th>569699</th>\n",
       "      <td>30</td>\n",
       "      <td>11</td>\n",
       "      <td>3</td>\n",
       "      <td>7</td>\n",
       "      <td>POINT (-87.780162317876 41.997302747477)</td>\n",
       "    </tr>\n",
       "  </tbody>\n",
       "</table>\n",
       "<p>569700 rows × 5 columns</p>\n",
       "</div>"
      ],
      "text/plain": [
       "        POSTED_SPEED_LIMIT  CRASH_HOUR  CRASH_DAY_OF_WEEK  CRASH_MONTH  \\\n",
       "0                       35          17                  4            7   \n",
       "1                       35          16                  6            6   \n",
       "2                       30          10                  6            7   \n",
       "3                       30           1                  7            7   \n",
       "4                       20          14                  4            7   \n",
       "...                    ...         ...                ...          ...   \n",
       "569695                  10          18                  2            7   \n",
       "569696                  30          21                  4            7   \n",
       "569697                  30          10                  2            7   \n",
       "569698                  15          16                  3            7   \n",
       "569699                  30          11                  3            7   \n",
       "\n",
       "                                        LOCATION  \n",
       "0       POINT (-87.773287883007 41.919663832993)  \n",
       "1       POINT (-87.740953581987 41.741803598989)  \n",
       "2       POINT (-87.585022352022 41.773455972008)  \n",
       "3       POINT (-87.622114914961 41.802118543011)  \n",
       "4                                        UNKNOWN  \n",
       "...                                          ...  \n",
       "569695  POINT (-87.721652118145 41.736965321289)  \n",
       "569696  POINT (-87.604985730802 41.747538448447)  \n",
       "569697  POINT (-87.621572939578 41.752917594949)  \n",
       "569698  POINT (-87.668979124866 41.781829602685)  \n",
       "569699  POINT (-87.780162317876 41.997302747477)  \n",
       "\n",
       "[569700 rows x 5 columns]"
      ]
     },
     "execution_count": 13,
     "metadata": {},
     "output_type": "execute_result"
    }
   ],
   "source": [
    "no_encoding_data = ['POSTED_SPEED_LIMIT','CRASH_HOUR', 'CRASH_DAY_OF_WEEK', 'CRASH_MONTH', 'LOCATION']\n",
    "no_encoding_data = pd.DataFrame(data_frame[no_encoding_data])\n",
    "no_encoding_data"
   ]
  },
  {
   "cell_type": "markdown",
   "id": "0c5faaed",
   "metadata": {},
   "source": [
    "### Merging the 'FIRST_CRASH_TYPE' and 'Label Encoded'"
   ]
  },
  {
   "cell_type": "code",
   "execution_count": 14,
   "id": "a238bcd0",
   "metadata": {},
   "outputs": [
    {
     "data": {
      "text/html": [
       "<div>\n",
       "<style scoped>\n",
       "    .dataframe tbody tr th:only-of-type {\n",
       "        vertical-align: middle;\n",
       "    }\n",
       "\n",
       "    .dataframe tbody tr th {\n",
       "        vertical-align: top;\n",
       "    }\n",
       "\n",
       "    .dataframe thead th {\n",
       "        text-align: right;\n",
       "    }\n",
       "</style>\n",
       "<table border=\"1\" class=\"dataframe\">\n",
       "  <thead>\n",
       "    <tr style=\"text-align: right;\">\n",
       "      <th></th>\n",
       "      <th>TURNING</th>\n",
       "      <th>REAR END</th>\n",
       "      <th>PARKED MOTOR VEHICLE</th>\n",
       "      <th>SIDESWIPE OPPOSITE DIRECTION</th>\n",
       "      <th>ANGLE</th>\n",
       "      <th>SIDESWIPE SAME DIRECTION</th>\n",
       "      <th>PEDALCYCLIST</th>\n",
       "      <th>OTHER OBJECT</th>\n",
       "      <th>PEDESTRIAN</th>\n",
       "      <th>FIXED OBJECT</th>\n",
       "      <th>...</th>\n",
       "      <th>ROADWAY_SURFACE_COND</th>\n",
       "      <th>ROAD_DEFECT</th>\n",
       "      <th>INTERSECTION_RELATED_I</th>\n",
       "      <th>NOT_RIGHT_OF_WAY_I</th>\n",
       "      <th>HIT_AND_RUN_I</th>\n",
       "      <th>PRIM_CONTRIBUTORY_CAUSE</th>\n",
       "      <th>SEC_CONTRIBUTORY_CAUSE</th>\n",
       "      <th>DOORING_I</th>\n",
       "      <th>WORK_ZONE_I</th>\n",
       "      <th>WORK_ZONE_TYPE</th>\n",
       "    </tr>\n",
       "  </thead>\n",
       "  <tbody>\n",
       "    <tr>\n",
       "      <th>0</th>\n",
       "      <td>0.0</td>\n",
       "      <td>0.0</td>\n",
       "      <td>0.0</td>\n",
       "      <td>0.0</td>\n",
       "      <td>0.0</td>\n",
       "      <td>0.0</td>\n",
       "      <td>0.0</td>\n",
       "      <td>0.0</td>\n",
       "      <td>0.0</td>\n",
       "      <td>0.0</td>\n",
       "      <td>...</td>\n",
       "      <td>0</td>\n",
       "      <td>1</td>\n",
       "      <td>1</td>\n",
       "      <td>1</td>\n",
       "      <td>1</td>\n",
       "      <td>21</td>\n",
       "      <td>36</td>\n",
       "      <td>1</td>\n",
       "      <td>1</td>\n",
       "      <td>2</td>\n",
       "    </tr>\n",
       "    <tr>\n",
       "      <th>1</th>\n",
       "      <td>0.0</td>\n",
       "      <td>0.0</td>\n",
       "      <td>0.0</td>\n",
       "      <td>0.0</td>\n",
       "      <td>0.0</td>\n",
       "      <td>0.0</td>\n",
       "      <td>0.0</td>\n",
       "      <td>0.0</td>\n",
       "      <td>0.0</td>\n",
       "      <td>0.0</td>\n",
       "      <td>...</td>\n",
       "      <td>0</td>\n",
       "      <td>1</td>\n",
       "      <td>2</td>\n",
       "      <td>1</td>\n",
       "      <td>1</td>\n",
       "      <td>18</td>\n",
       "      <td>26</td>\n",
       "      <td>1</td>\n",
       "      <td>1</td>\n",
       "      <td>2</td>\n",
       "    </tr>\n",
       "    <tr>\n",
       "      <th>2</th>\n",
       "      <td>0.0</td>\n",
       "      <td>0.0</td>\n",
       "      <td>0.0</td>\n",
       "      <td>0.0</td>\n",
       "      <td>0.0</td>\n",
       "      <td>0.0</td>\n",
       "      <td>0.0</td>\n",
       "      <td>0.0</td>\n",
       "      <td>0.0</td>\n",
       "      <td>0.0</td>\n",
       "      <td>...</td>\n",
       "      <td>0</td>\n",
       "      <td>1</td>\n",
       "      <td>1</td>\n",
       "      <td>1</td>\n",
       "      <td>1</td>\n",
       "      <td>18</td>\n",
       "      <td>18</td>\n",
       "      <td>1</td>\n",
       "      <td>1</td>\n",
       "      <td>2</td>\n",
       "    </tr>\n",
       "    <tr>\n",
       "      <th>3</th>\n",
       "      <td>0.0</td>\n",
       "      <td>0.0</td>\n",
       "      <td>0.0</td>\n",
       "      <td>0.0</td>\n",
       "      <td>0.0</td>\n",
       "      <td>0.0</td>\n",
       "      <td>0.0</td>\n",
       "      <td>1.0</td>\n",
       "      <td>0.0</td>\n",
       "      <td>0.0</td>\n",
       "      <td>...</td>\n",
       "      <td>0</td>\n",
       "      <td>1</td>\n",
       "      <td>1</td>\n",
       "      <td>1</td>\n",
       "      <td>2</td>\n",
       "      <td>36</td>\n",
       "      <td>36</td>\n",
       "      <td>1</td>\n",
       "      <td>1</td>\n",
       "      <td>2</td>\n",
       "    </tr>\n",
       "    <tr>\n",
       "      <th>4</th>\n",
       "      <td>0.0</td>\n",
       "      <td>0.0</td>\n",
       "      <td>0.0</td>\n",
       "      <td>0.0</td>\n",
       "      <td>0.0</td>\n",
       "      <td>0.0</td>\n",
       "      <td>0.0</td>\n",
       "      <td>1.0</td>\n",
       "      <td>0.0</td>\n",
       "      <td>0.0</td>\n",
       "      <td>...</td>\n",
       "      <td>0</td>\n",
       "      <td>1</td>\n",
       "      <td>1</td>\n",
       "      <td>1</td>\n",
       "      <td>1</td>\n",
       "      <td>36</td>\n",
       "      <td>36</td>\n",
       "      <td>1</td>\n",
       "      <td>1</td>\n",
       "      <td>2</td>\n",
       "    </tr>\n",
       "    <tr>\n",
       "      <th>...</th>\n",
       "      <td>...</td>\n",
       "      <td>...</td>\n",
       "      <td>...</td>\n",
       "      <td>...</td>\n",
       "      <td>...</td>\n",
       "      <td>...</td>\n",
       "      <td>...</td>\n",
       "      <td>...</td>\n",
       "      <td>...</td>\n",
       "      <td>...</td>\n",
       "      <td>...</td>\n",
       "      <td>...</td>\n",
       "      <td>...</td>\n",
       "      <td>...</td>\n",
       "      <td>...</td>\n",
       "      <td>...</td>\n",
       "      <td>...</td>\n",
       "      <td>...</td>\n",
       "      <td>...</td>\n",
       "      <td>...</td>\n",
       "      <td>...</td>\n",
       "    </tr>\n",
       "    <tr>\n",
       "      <th>569695</th>\n",
       "      <td>0.0</td>\n",
       "      <td>0.0</td>\n",
       "      <td>0.0</td>\n",
       "      <td>0.0</td>\n",
       "      <td>0.0</td>\n",
       "      <td>0.0</td>\n",
       "      <td>0.0</td>\n",
       "      <td>1.0</td>\n",
       "      <td>0.0</td>\n",
       "      <td>0.0</td>\n",
       "      <td>...</td>\n",
       "      <td>0</td>\n",
       "      <td>1</td>\n",
       "      <td>1</td>\n",
       "      <td>2</td>\n",
       "      <td>1</td>\n",
       "      <td>26</td>\n",
       "      <td>21</td>\n",
       "      <td>1</td>\n",
       "      <td>1</td>\n",
       "      <td>2</td>\n",
       "    </tr>\n",
       "    <tr>\n",
       "      <th>569696</th>\n",
       "      <td>0.0</td>\n",
       "      <td>0.0</td>\n",
       "      <td>0.0</td>\n",
       "      <td>0.0</td>\n",
       "      <td>0.0</td>\n",
       "      <td>0.0</td>\n",
       "      <td>0.0</td>\n",
       "      <td>0.0</td>\n",
       "      <td>0.0</td>\n",
       "      <td>0.0</td>\n",
       "      <td>...</td>\n",
       "      <td>5</td>\n",
       "      <td>5</td>\n",
       "      <td>2</td>\n",
       "      <td>1</td>\n",
       "      <td>2</td>\n",
       "      <td>6</td>\n",
       "      <td>26</td>\n",
       "      <td>1</td>\n",
       "      <td>1</td>\n",
       "      <td>2</td>\n",
       "    </tr>\n",
       "    <tr>\n",
       "      <th>569697</th>\n",
       "      <td>0.0</td>\n",
       "      <td>0.0</td>\n",
       "      <td>0.0</td>\n",
       "      <td>0.0</td>\n",
       "      <td>0.0</td>\n",
       "      <td>0.0</td>\n",
       "      <td>0.0</td>\n",
       "      <td>0.0</td>\n",
       "      <td>0.0</td>\n",
       "      <td>0.0</td>\n",
       "      <td>...</td>\n",
       "      <td>0</td>\n",
       "      <td>1</td>\n",
       "      <td>2</td>\n",
       "      <td>1</td>\n",
       "      <td>2</td>\n",
       "      <td>36</td>\n",
       "      <td>26</td>\n",
       "      <td>1</td>\n",
       "      <td>1</td>\n",
       "      <td>2</td>\n",
       "    </tr>\n",
       "    <tr>\n",
       "      <th>569698</th>\n",
       "      <td>0.0</td>\n",
       "      <td>0.0</td>\n",
       "      <td>0.0</td>\n",
       "      <td>0.0</td>\n",
       "      <td>0.0</td>\n",
       "      <td>0.0</td>\n",
       "      <td>0.0</td>\n",
       "      <td>1.0</td>\n",
       "      <td>0.0</td>\n",
       "      <td>0.0</td>\n",
       "      <td>...</td>\n",
       "      <td>0</td>\n",
       "      <td>1</td>\n",
       "      <td>1</td>\n",
       "      <td>1</td>\n",
       "      <td>2</td>\n",
       "      <td>36</td>\n",
       "      <td>26</td>\n",
       "      <td>1</td>\n",
       "      <td>1</td>\n",
       "      <td>2</td>\n",
       "    </tr>\n",
       "    <tr>\n",
       "      <th>569699</th>\n",
       "      <td>0.0</td>\n",
       "      <td>0.0</td>\n",
       "      <td>0.0</td>\n",
       "      <td>0.0</td>\n",
       "      <td>0.0</td>\n",
       "      <td>0.0</td>\n",
       "      <td>0.0</td>\n",
       "      <td>0.0</td>\n",
       "      <td>0.0</td>\n",
       "      <td>0.0</td>\n",
       "      <td>...</td>\n",
       "      <td>0</td>\n",
       "      <td>1</td>\n",
       "      <td>1</td>\n",
       "      <td>1</td>\n",
       "      <td>2</td>\n",
       "      <td>36</td>\n",
       "      <td>26</td>\n",
       "      <td>1</td>\n",
       "      <td>1</td>\n",
       "      <td>2</td>\n",
       "    </tr>\n",
       "  </tbody>\n",
       "</table>\n",
       "<p>569700 rows × 34 columns</p>\n",
       "</div>"
      ],
      "text/plain": [
       "        TURNING  REAR END  PARKED MOTOR VEHICLE  SIDESWIPE OPPOSITE DIRECTION  \\\n",
       "0           0.0       0.0                   0.0                           0.0   \n",
       "1           0.0       0.0                   0.0                           0.0   \n",
       "2           0.0       0.0                   0.0                           0.0   \n",
       "3           0.0       0.0                   0.0                           0.0   \n",
       "4           0.0       0.0                   0.0                           0.0   \n",
       "...         ...       ...                   ...                           ...   \n",
       "569695      0.0       0.0                   0.0                           0.0   \n",
       "569696      0.0       0.0                   0.0                           0.0   \n",
       "569697      0.0       0.0                   0.0                           0.0   \n",
       "569698      0.0       0.0                   0.0                           0.0   \n",
       "569699      0.0       0.0                   0.0                           0.0   \n",
       "\n",
       "        ANGLE  SIDESWIPE SAME DIRECTION  PEDALCYCLIST  OTHER OBJECT  \\\n",
       "0         0.0                       0.0           0.0           0.0   \n",
       "1         0.0                       0.0           0.0           0.0   \n",
       "2         0.0                       0.0           0.0           0.0   \n",
       "3         0.0                       0.0           0.0           1.0   \n",
       "4         0.0                       0.0           0.0           1.0   \n",
       "...       ...                       ...           ...           ...   \n",
       "569695    0.0                       0.0           0.0           1.0   \n",
       "569696    0.0                       0.0           0.0           0.0   \n",
       "569697    0.0                       0.0           0.0           0.0   \n",
       "569698    0.0                       0.0           0.0           1.0   \n",
       "569699    0.0                       0.0           0.0           0.0   \n",
       "\n",
       "        PEDESTRIAN  FIXED OBJECT  ...  ROADWAY_SURFACE_COND  ROAD_DEFECT  \\\n",
       "0              0.0           0.0  ...                     0            1   \n",
       "1              0.0           0.0  ...                     0            1   \n",
       "2              0.0           0.0  ...                     0            1   \n",
       "3              0.0           0.0  ...                     0            1   \n",
       "4              0.0           0.0  ...                     0            1   \n",
       "...            ...           ...  ...                   ...          ...   \n",
       "569695         0.0           0.0  ...                     0            1   \n",
       "569696         0.0           0.0  ...                     5            5   \n",
       "569697         0.0           0.0  ...                     0            1   \n",
       "569698         0.0           0.0  ...                     0            1   \n",
       "569699         0.0           0.0  ...                     0            1   \n",
       "\n",
       "        INTERSECTION_RELATED_I  NOT_RIGHT_OF_WAY_I  HIT_AND_RUN_I  \\\n",
       "0                            1                   1              1   \n",
       "1                            2                   1              1   \n",
       "2                            1                   1              1   \n",
       "3                            1                   1              2   \n",
       "4                            1                   1              1   \n",
       "...                        ...                 ...            ...   \n",
       "569695                       1                   2              1   \n",
       "569696                       2                   1              2   \n",
       "569697                       2                   1              2   \n",
       "569698                       1                   1              2   \n",
       "569699                       1                   1              2   \n",
       "\n",
       "        PRIM_CONTRIBUTORY_CAUSE  SEC_CONTRIBUTORY_CAUSE  DOORING_I  \\\n",
       "0                            21                      36          1   \n",
       "1                            18                      26          1   \n",
       "2                            18                      18          1   \n",
       "3                            36                      36          1   \n",
       "4                            36                      36          1   \n",
       "...                         ...                     ...        ...   \n",
       "569695                       26                      21          1   \n",
       "569696                        6                      26          1   \n",
       "569697                       36                      26          1   \n",
       "569698                       36                      26          1   \n",
       "569699                       36                      26          1   \n",
       "\n",
       "        WORK_ZONE_I  WORK_ZONE_TYPE  \n",
       "0                 1               2  \n",
       "1                 1               2  \n",
       "2                 1               2  \n",
       "3                 1               2  \n",
       "4                 1               2  \n",
       "...             ...             ...  \n",
       "569695            1               2  \n",
       "569696            1               2  \n",
       "569697            1               2  \n",
       "569698            1               2  \n",
       "569699            1               2  \n",
       "\n",
       "[569700 rows x 34 columns]"
      ]
     },
     "execution_count": 14,
     "metadata": {},
     "output_type": "execute_result"
    }
   ],
   "source": [
    "data_frame_2 = pd.merge(crash_data, encoding_data, left_index=True, right_index=True)\n",
    "data_frame_2"
   ]
  },
  {
   "cell_type": "code",
   "execution_count": 15,
   "id": "b141cad1",
   "metadata": {},
   "outputs": [
    {
     "data": {
      "text/plain": [
       "Index(['TURNING', 'REAR END', 'PARKED MOTOR VEHICLE',\n",
       "       'SIDESWIPE OPPOSITE DIRECTION', 'ANGLE', 'SIDESWIPE SAME DIRECTION',\n",
       "       'PEDALCYCLIST', 'OTHER OBJECT', 'PEDESTRIAN', 'FIXED OBJECT', 'HEAD ON',\n",
       "       'REAR TO FRONT', 'REAR TO SIDE', 'REAR TO REAR', 'ANIMAL',\n",
       "       'OTHER NONCOLLISION', 'OVERTURNED', 'TRAIN', 'TRAFFIC_CONTROL_DEVICE',\n",
       "       'DEVICE_CONDITION', 'WEATHER_CONDITION', 'LIGHTING_CONDITION',\n",
       "       'TRAFFICWAY_TYPE', 'ALIGNMENT', 'ROADWAY_SURFACE_COND', 'ROAD_DEFECT',\n",
       "       'INTERSECTION_RELATED_I', 'NOT_RIGHT_OF_WAY_I', 'HIT_AND_RUN_I',\n",
       "       'PRIM_CONTRIBUTORY_CAUSE', 'SEC_CONTRIBUTORY_CAUSE', 'DOORING_I',\n",
       "       'WORK_ZONE_I', 'WORK_ZONE_TYPE'],\n",
       "      dtype='object')"
      ]
     },
     "execution_count": 15,
     "metadata": {},
     "output_type": "execute_result"
    }
   ],
   "source": [
    "data_frame_2.columns"
   ]
  },
  {
   "cell_type": "markdown",
   "id": "ce95f2eb",
   "metadata": {},
   "source": [
    "# Feature Engineering"
   ]
  },
  {
   "cell_type": "markdown",
   "id": "844e2e32",
   "metadata": {},
   "source": [
    "### Below shown bar plot of top 10 Primary causes of the crash.\n",
    "Plots shows that most of accidents caused are unable to determined followed by failing to yield to right of way."
   ]
  },
  {
   "cell_type": "code",
   "execution_count": 16,
   "id": "5ae62f9e",
   "metadata": {},
   "outputs": [
    {
     "data": {
      "text/plain": [
       "(array([0, 1, 2, 3, 4, 5, 6, 7, 8, 9]),\n",
       " [Text(0, 0, 'UNABLE TO DETERMINE'),\n",
       "  Text(1, 0, 'FAILING TO YIELD RIGHT-OF-WAY'),\n",
       "  Text(2, 0, 'FOLLOWING TOO CLOSELY'),\n",
       "  Text(3, 0, 'NOT APPLICABLE'),\n",
       "  Text(4, 0, 'IMPROPER OVERTAKING/PASSING'),\n",
       "  Text(5, 0, 'FAILING TO REDUCE SPEED TO AVOID CRASH'),\n",
       "  Text(6, 0, 'IMPROPER BACKING'),\n",
       "  Text(7, 0, 'IMPROPER LANE USAGE'),\n",
       "  Text(8, 0, 'IMPROPER TURNING/NO SIGNAL'),\n",
       "  Text(9, 0, 'DRIVING SKILLS/KNOWLEDGE/EXPERIENCE')])"
      ]
     },
     "execution_count": 16,
     "metadata": {},
     "output_type": "execute_result"
    },
    {
     "data": {
      "image/png": "[encoded data removed]",
      "text/plain": [
       "<Figure size 720x504 with 1 Axes>"
      ]
     },
     "metadata": {
      "needs_background": "light"
     },
     "output_type": "display_data"
    }
   ],
   "source": [
    "data_frame['PRIM_CONTRIBUTORY_CAUSE'].value_counts(normalize = True).head(10).plot(kind = 'bar', figsize = (10,7))\n",
    "plt.title('Primary Cause of Accidents')\n",
    "plt.xlabel('Cause of Accident')\n",
    "plt.ylabel('Number of Accidents')\n",
    "plt.xticks(rotation=85)"
   ]
  },
  {
   "cell_type": "markdown",
   "id": "a3e320bb",
   "metadata": {},
   "source": [
    "### Counter plot of number of accidents of season"
   ]
  },
  {
   "cell_type": "code",
   "execution_count": 17,
   "id": "467d4029",
   "metadata": {},
   "outputs": [
    {
     "data": {
      "text/plain": [
       "([<matplotlib.axis.XTick at 0x7f5dbee2e550>,\n",
       "  <matplotlib.axis.XTick at 0x7f5dbee2e520>,\n",
       "  <matplotlib.axis.XTick at 0x7f5dbee264c0>,\n",
       "  <matplotlib.axis.XTick at 0x7f5dbed90160>,\n",
       "  <matplotlib.axis.XTick at 0x7f5dbed907f0>,\n",
       "  <matplotlib.axis.XTick at 0x7f5dbed90f40>,\n",
       "  <matplotlib.axis.XTick at 0x7f5dbed960d0>,\n",
       "  <matplotlib.axis.XTick at 0x7f5dbed96760>,\n",
       "  <matplotlib.axis.XTick at 0x7f5dbed96eb0>,\n",
       "  <matplotlib.axis.XTick at 0x7f5dbed9b640>,\n",
       "  <matplotlib.axis.XTick at 0x7f5dbed9bd90>,\n",
       "  <matplotlib.axis.XTick at 0x7f5dbeda2520>],\n",
       " [Text(0, 0, 'Jan'),\n",
       "  Text(1, 0, 'Feb'),\n",
       "  Text(2, 0, 'Mar'),\n",
       "  Text(3, 0, 'Apr'),\n",
       "  Text(4, 0, 'May'),\n",
       "  Text(5, 0, 'Jun'),\n",
       "  Text(6, 0, 'Jul'),\n",
       "  Text(7, 0, 'Aug'),\n",
       "  Text(8, 0, 'Sep'),\n",
       "  Text(9, 0, 'Oct'),\n",
       "  Text(10, 0, 'Nov'),\n",
       "  Text(11, 0, 'Dec')])"
      ]
     },
     "execution_count": 17,
     "metadata": {},
     "output_type": "execute_result"
    },
    {
     "data": {
      "image/png": "[encoded data removed]",
      "text/plain": [
       "<Figure size 720x576 with 1 Axes>"
      ]
     },
     "metadata": {
      "needs_background": "light"
     },
     "output_type": "display_data"
    }
   ],
   "source": [
    "plt.figure(figsize=(10,8))\n",
    "sns.countplot(x=\"CRASH_MONTH\", data=data_frame, hue='CRASH_TYPE')\n",
    "plt.title('Number of Accidents by Season')\n",
    "plt.xlabel('Season')\n",
    "plt.ylabel('Number of Accidents')\n",
    "plt.xticks(np.arange(12), ('Jan','Feb','Mar','Apr','May','Jun','Jul','Aug','Sep','Oct','Nov','Dec'),rotation=40)"
   ]
  },
  {
   "cell_type": "markdown",
   "id": "f13e105f",
   "metadata": {},
   "source": [
    "Noticed increased number of the accidents is in the month of October."
   ]
  },
  {
   "cell_type": "markdown",
   "id": "54eaecf3",
   "metadata": {},
   "source": [
    "### Histogram of the crash hour\n",
    "To check the number of accidents in that hour."
   ]
  },
  {
   "cell_type": "code",
   "execution_count": 18,
   "id": "383c0213",
   "metadata": {},
   "outputs": [
    {
     "data": {
      "image/png": "[encoded data removed]",
      "text/plain": [
       "<Figure size 720x576 with 1 Axes>"
      ]
     },
     "metadata": {
      "needs_background": "light"
     },
     "output_type": "display_data"
    }
   ],
   "source": [
    "plt.figure(figsize=(10,8))\n",
    "data_frame['CRASH_HOUR'].plot(kind = 'hist', bins = 24)\n",
    "plt.title('Hour of Accident')\n",
    "plt.xlabel('Hour of Day')\n",
    "plt.ylabel('Number of Accidents')\n",
    "plt.show()"
   ]
  },
  {
   "cell_type": "markdown",
   "id": "bbecc369",
   "metadata": {},
   "source": [
    "Noticed increased number of the accidents in the rush hour."
   ]
  },
  {
   "cell_type": "markdown",
   "id": "4aa10026",
   "metadata": {},
   "source": [
    "### Counter plot of effect of weather condition"
   ]
  },
  {
   "cell_type": "code",
   "execution_count": 19,
   "id": "365526e1",
   "metadata": {},
   "outputs": [
    {
     "data": {
      "text/plain": [
       "(array([ 0,  1,  2,  3,  4,  5,  6,  7,  8,  9, 10, 11]),\n",
       " [Text(0, 0, 'BLOWING SAND, SOIL, DIRT'),\n",
       "  Text(1, 0, 'BLOWING SNOW'),\n",
       "  Text(2, 0, 'CLEAR'),\n",
       "  Text(3, 0, 'CLOUDY/OVERCAST'),\n",
       "  Text(4, 0, 'FOG/SMOKE/HAZE'),\n",
       "  Text(5, 0, 'FREEZING RAIN/DRIZZLE'),\n",
       "  Text(6, 0, 'OTHER'),\n",
       "  Text(7, 0, 'RAIN'),\n",
       "  Text(8, 0, 'SEVERE CROSS WIND GATE'),\n",
       "  Text(9, 0, 'SLEET/HAIL'),\n",
       "  Text(10, 0, 'SNOW'),\n",
       "  Text(11, 0, 'UNKNOWN')])"
      ]
     },
     "execution_count": 19,
     "metadata": {},
     "output_type": "execute_result"
    },
    {
     "data": {
      "image/png": "[encoded data removed]",
      "text/plain": [
       "<Figure size 720x576 with 1 Axes>"
      ]
     },
     "metadata": {
      "needs_background": "light"
     },
     "output_type": "display_data"
    }
   ],
   "source": [
    "weather = data_frame.groupby(['WEATHER_CONDITION','CRASH_TYPE'])['WEATHER_CONDITION'].count().unstack()\n",
    "weather.plot( kind='bar', stacked=True, figsize =(10,8))\n",
    "plt.title('Effects of Weather Conditon')\n",
    "plt.xlabel('Weather condition')\n",
    "plt.ylabel('Number of Accidents')\n",
    "plt.xticks(rotation=75)"
   ]
  },
  {
   "cell_type": "markdown",
   "id": "435de10c",
   "metadata": {},
   "source": [
    "Most accidents occurred in a clear weather condition."
   ]
  },
  {
   "cell_type": "code",
   "execution_count": 20,
   "id": "ccc5df68",
   "metadata": {},
   "outputs": [
    {
     "data": {
      "text/plain": [
       "Summer    161865\n",
       "Spring    145106\n",
       "Winter    122487\n",
       "Fall       98707\n",
       "Name: SEASON, dtype: int64"
      ]
     },
     "execution_count": 20,
     "metadata": {},
     "output_type": "execute_result"
    }
   ],
   "source": [
    "month_bins = [1,4,7,10,13]\n",
    "label=('Winter','Spring','Summer','Fall')\n",
    "month_binned = pd.cut(data_frame['CRASH_MONTH'], month_bins, labels= label)\n",
    "month_binned= month_binned.cat.as_unordered()\n",
    "data_frame['SEASON']= month_binned\n",
    "data_frame['SEASON'].value_counts()"
   ]
  },
  {
   "cell_type": "markdown",
   "id": "7b05eb5f",
   "metadata": {},
   "source": [
    "### A counter plot of the number of severe and non severe accidents in different seasons."
   ]
  },
  {
   "cell_type": "code",
   "execution_count": 21,
   "id": "50b7e2c5",
   "metadata": {},
   "outputs": [
    {
     "data": {
      "text/plain": [
       "(array([0, 1, 2, 3]),\n",
       " [Text(0, 0, 'Winter'),\n",
       "  Text(1, 0, 'Spring'),\n",
       "  Text(2, 0, 'Summer'),\n",
       "  Text(3, 0, 'Fall')])"
      ]
     },
     "execution_count": 21,
     "metadata": {},
     "output_type": "execute_result"
    },
    {
     "data": {
      "image/png": "[encoded data removed]",
      "text/plain": [
       "<Figure size 720x576 with 1 Axes>"
      ]
     },
     "metadata": {
      "needs_background": "light"
     },
     "output_type": "display_data"
    }
   ],
   "source": [
    "plt.figure(figsize=(10,8))\n",
    "sns.countplot(x=\"SEASON\", data=data_frame, hue='CRASH_TYPE')\n",
    "plt.title('Number of Accidents by Season')\n",
    "plt.xlabel('Season')\n",
    "plt.ylabel('Number of Accidents')\n",
    "plt.xticks(rotation=40)"
   ]
  },
  {
   "cell_type": "markdown",
   "id": "4eae2cfc",
   "metadata": {},
   "source": [
    "Noticed that Summer time is when most of the severe and non severe occurred."
   ]
  },
  {
   "cell_type": "markdown",
   "id": "d04b2971",
   "metadata": {},
   "source": [
    "### Counter plot of Road Condition"
   ]
  },
  {
   "cell_type": "code",
   "execution_count": 22,
   "id": "0ec6db7d",
   "metadata": {},
   "outputs": [
    {
     "data": {
      "text/plain": [
       "(array([0, 1, 2, 3, 4, 5, 6]),\n",
       " [Text(0, 0, 'DRY'),\n",
       "  Text(1, 0, 'UNKNOWN'),\n",
       "  Text(2, 0, 'WET'),\n",
       "  Text(3, 0, 'SNOW OR SLUSH'),\n",
       "  Text(4, 0, 'ICE'),\n",
       "  Text(5, 0, 'OTHER'),\n",
       "  Text(6, 0, 'SAND, MUD, DIRT')])"
      ]
     },
     "execution_count": 22,
     "metadata": {},
     "output_type": "execute_result"
    },
    {
     "data": {
      "image/png": "[encoded data removed]",
      "text/plain": [
       "<Figure size 720x576 with 1 Axes>"
      ]
     },
     "metadata": {
      "needs_background": "light"
     },
     "output_type": "display_data"
    }
   ],
   "source": [
    "plt.figure(figsize=(10,8))\n",
    "sns.countplot(x=\"ROADWAY_SURFACE_COND\", data=data_frame, hue='CRASH_TYPE')\n",
    "plt.title('Effects of Road Conditions')\n",
    "plt.xlabel('Road Condition')\n",
    "plt.ylabel('Number of Accidents')\n",
    "plt.xticks(rotation=75)"
   ]
  },
  {
   "cell_type": "markdown",
   "id": "94ad283c",
   "metadata": {},
   "source": [
    "Noticed most accidents happened in a DRY Road condition."
   ]
  },
  {
   "cell_type": "markdown",
   "id": "6687a157",
   "metadata": {},
   "source": [
    "### Counter plot of Damage cost"
   ]
  },
  {
   "cell_type": "code",
   "execution_count": 23,
   "id": "be92720c",
   "metadata": {},
   "outputs": [
    {
     "data": {
      "text/plain": [
       "(array([0, 1, 2]),\n",
       " [Text(0, 0, 'OVER $1,500'),\n",
       "  Text(1, 0, '$500 OR LESS'),\n",
       "  Text(2, 0, '$501 - $1,500')])"
      ]
     },
     "execution_count": 23,
     "metadata": {},
     "output_type": "execute_result"
    },
    {
     "data": {
      "image/png": "[encoded data removed]",
      "text/plain": [
       "<Figure size 720x576 with 1 Axes>"
      ]
     },
     "metadata": {
      "needs_background": "light"
     },
     "output_type": "display_data"
    }
   ],
   "source": [
    "plt.figure(figsize=(10,8))\n",
    "sns.countplot(x=\"DAMAGE\", data=data_frame, hue='CRASH_TYPE')\n",
    "plt.title('Cost of Damage')\n",
    "plt.xlabel('Cost')\n",
    "plt.ylabel('Number of Accidents')\n",
    "plt.xticks(rotation=40)"
   ]
  },
  {
   "cell_type": "markdown",
   "id": "a798c4bf",
   "metadata": {},
   "source": [
    "Most severe and non severe accident damage cost is more than $1500."
   ]
  },
  {
   "cell_type": "markdown",
   "id": "33b8c900",
   "metadata": {},
   "source": [
    "### TARGET :  'REAR END'"
   ]
  },
  {
   "cell_type": "code",
   "execution_count": 24,
   "id": "2c387f4a",
   "metadata": {},
   "outputs": [],
   "source": [
    "y = data_frame_2['REAR END']\n",
    "X = data_frame_2.drop(columns=['REAR END','ANGLE', 'SIDESWIPE SAME DIRECTION', 'PEDESTRIAN', 'PARKED MOTOR VEHICLE', 'TURNING', 'HEAD ON', 'PEDALCYCLIST', 'SIDESWIPE OPPOSITE DIRECTION', 'OTHER NONCOLLISION', 'FIXED OBJECT', 'OTHER OBJECT', 'REAR TO FRONT', 'REAR TO SIDE', 'REAR TO REAR', 'TRAIN', 'OVERTURNED', 'ANIMAL'], axis=1)"
   ]
  },
  {
   "cell_type": "markdown",
   "id": "f369db6b",
   "metadata": {},
   "source": [
    "# Modeling"
   ]
  },
  {
   "cell_type": "markdown",
   "id": "f33343ab",
   "metadata": {},
   "source": [
    "## Logistic Regression (Basic Model)"
   ]
  },
  {
   "cell_type": "code",
   "execution_count": 25,
   "id": "221ae709",
   "metadata": {},
   "outputs": [],
   "source": [
    "X_train, X_test, y_train, y_test = train_test_split(X, y, test_size=0.20, random_state=42, stratify=y)"
   ]
  },
  {
   "cell_type": "markdown",
   "id": "f765e4ef",
   "metadata": {},
   "source": [
    "### Pipeline with StandardScaler and Logisitic Regression"
   ]
  },
  {
   "cell_type": "code",
   "execution_count": 26,
   "id": "4baf9b71",
   "metadata": {},
   "outputs": [
    {
     "data": {
      "text/plain": [
       "Pipeline(steps=[('ss', StandardScaler()),\n",
       "                ('LR',\n",
       "                 LogisticRegression(fit_intercept=False, random_state=42,\n",
       "                                    solver='liblinear'))])"
      ]
     },
     "execution_count": 26,
     "metadata": {},
     "output_type": "execute_result"
    }
   ],
   "source": [
    "data_model = Pipeline([('ss', StandardScaler()),\n",
    "                              ('LR', LogisticRegression(solver='liblinear', fit_intercept=False, random_state=42))])\n",
    "\n",
    "data_model.fit(X_train, y_train)"
   ]
  },
  {
   "cell_type": "code",
   "execution_count": 27,
   "id": "6b7788b3",
   "metadata": {},
   "outputs": [],
   "source": [
    "y_train_pred = data_model.predict(X_train)\n",
    "y_test_pred = data_model.predict(X_test)"
   ]
  },
  {
   "cell_type": "code",
   "execution_count": 28,
   "id": "5661a0b7",
   "metadata": {},
   "outputs": [
    {
     "name": "stdout",
     "output_type": "stream",
     "text": [
      "Accuracy Score Train: 0.5011080393189398\n",
      "Accuracy Score Test: 0.4982183605406354\n",
      "ROC_AUC Test: 0.5678102494291235\n"
     ]
    }
   ],
   "source": [
    "print(f'Accuracy Score Train: {accuracy_score(y_train, y_train_pred)}')\n",
    "print(f'Accuracy Score Test: {accuracy_score(y_test, y_test_pred)}')\n",
    "print(f'ROC_AUC Test: {roc_auc_score(y_test, y_test_pred)}')"
   ]
  },
  {
   "cell_type": "code",
   "execution_count": 29,
   "id": "09830723",
   "metadata": {},
   "outputs": [
    {
     "name": "stdout",
     "output_type": "stream",
     "text": [
      "[[56716 57144]\n",
      " [   29    51]]\n"
     ]
    }
   ],
   "source": [
    "print(confusion_matrix(y_test, y_test_pred))"
   ]
  },
  {
   "cell_type": "code",
   "execution_count": 30,
   "id": "867cd8af",
   "metadata": {},
   "outputs": [
    {
     "name": "stdout",
     "output_type": "stream",
     "text": [
      "              precision    recall  f1-score   support\n",
      "\n",
      "         0.0       1.00      0.50      0.66    113860\n",
      "         1.0       0.00      0.64      0.00        80\n",
      "\n",
      "    accuracy                           0.50    113940\n",
      "   macro avg       0.50      0.57      0.33    113940\n",
      "weighted avg       1.00      0.50      0.66    113940\n",
      "\n"
     ]
    }
   ],
   "source": [
    "print(classification_report(y_test, y_test_pred))"
   ]
  },
  {
   "cell_type": "code",
   "execution_count": 31,
   "id": "8d9f2d47",
   "metadata": {},
   "outputs": [
    {
     "name": "stdout",
     "output_type": "stream",
     "text": [
      "0.4982183605406354\n"
     ]
    }
   ],
   "source": [
    "print(metrics.accuracy_score(y_test, y_test_pred))"
   ]
  },
  {
   "cell_type": "markdown",
   "id": "dec1abec",
   "metadata": {},
   "source": [
    "## Decision Tree"
   ]
  },
  {
   "cell_type": "markdown",
   "id": "ac36114c",
   "metadata": {},
   "source": [
    "### Vanilla - Decision Tree Classifier on 'REAR END'"
   ]
  },
  {
   "cell_type": "code",
   "execution_count": 32,
   "id": "b3122fb2",
   "metadata": {},
   "outputs": [
    {
     "data": {
      "text/plain": [
       "DecisionTreeClassifier(random_state=10)"
      ]
     },
     "execution_count": 32,
     "metadata": {},
     "output_type": "execute_result"
    }
   ],
   "source": [
    "data_model = DecisionTreeClassifier(random_state = 10)\n",
    "X_train, X_test, y_train, y_test = train_test_split(X, y, test_size=0.20, random_state=42, stratify=y)\n",
    "data_model.fit(X_train, y_train)"
   ]
  },
  {
   "cell_type": "code",
   "execution_count": 33,
   "id": "eebc2311",
   "metadata": {},
   "outputs": [],
   "source": [
    "y_train_pred = data_model.predict(X_train)\n",
    "y_test_pred = data_model.predict(X_test)"
   ]
  },
  {
   "cell_type": "code",
   "execution_count": 34,
   "id": "caee3296",
   "metadata": {
    "scrolled": true
   },
   "outputs": [
    {
     "name": "stdout",
     "output_type": "stream",
     "text": [
      "Accuracy Score Train: 0.9996379673512374\n",
      "Accuracy Score Test: 0.9993154291732491\n",
      "ROC_AUC Test: 0.6686402160548042\n"
     ]
    }
   ],
   "source": [
    "print(f'Accuracy Score Train: {accuracy_score(y_train, y_train_pred)}')\n",
    "print(f'Accuracy Score Test: {accuracy_score(y_test, y_test_pred)}')\n",
    "print(f'ROC_AUC Test: {roc_auc_score(y_test, y_test_pred)}')"
   ]
  },
  {
   "cell_type": "code",
   "execution_count": 35,
   "id": "16feddbb",
   "metadata": {},
   "outputs": [
    {
     "name": "stdout",
     "output_type": "stream",
     "text": [
      "[[113835     25]\n",
      " [    53     27]]\n"
     ]
    }
   ],
   "source": [
    "print(confusion_matrix(y_test, y_test_pred))"
   ]
  },
  {
   "cell_type": "code",
   "execution_count": 36,
   "id": "5c3190b8",
   "metadata": {},
   "outputs": [
    {
     "name": "stdout",
     "output_type": "stream",
     "text": [
      "              precision    recall  f1-score   support\n",
      "\n",
      "         0.0       1.00      1.00      1.00    113860\n",
      "         1.0       0.52      0.34      0.41        80\n",
      "\n",
      "    accuracy                           1.00    113940\n",
      "   macro avg       0.76      0.67      0.70    113940\n",
      "weighted avg       1.00      1.00      1.00    113940\n",
      "\n"
     ]
    }
   ],
   "source": [
    "print(classification_report(y_test, y_test_pred))"
   ]
  },
  {
   "cell_type": "markdown",
   "id": "678bd396",
   "metadata": {},
   "source": [
    "### Decision Tree Classifier - Feature Importance"
   ]
  },
  {
   "cell_type": "code",
   "execution_count": 37,
   "id": "8e363fd8",
   "metadata": {},
   "outputs": [
    {
     "data": {
      "text/plain": [
       "array([2.48099950e-02, 1.84848713e-02, 2.40749622e-02, 6.33702569e-02,\n",
       "       9.62337641e-02, 1.73352929e-02, 4.49038834e-02, 4.49988124e-02,\n",
       "       9.87841517e-03, 1.53406729e-02, 1.63064725e-02, 4.98106378e-01,\n",
       "       1.25392550e-01, 5.15468362e-05, 7.10188968e-04, 1.93724499e-06])"
      ]
     },
     "execution_count": 37,
     "metadata": {},
     "output_type": "execute_result"
    }
   ],
   "source": [
    "data_model.feature_importances_"
   ]
  },
  {
   "cell_type": "code",
   "execution_count": 38,
   "id": "acab3a95",
   "metadata": {
    "scrolled": true
   },
   "outputs": [
    {
     "name": "stdout",
     "output_type": "stream",
     "text": [
      "Feature ranking:\n",
      "1. feature 11 (0.498106)\n",
      "2. feature 12 (0.125393)\n",
      "3. feature 4 (0.096234)\n",
      "4. feature 3 (0.063370)\n",
      "5. feature 7 (0.044999)\n",
      "6. feature 6 (0.044904)\n",
      "7. feature 0 (0.024810)\n",
      "8. feature 2 (0.024075)\n",
      "9. feature 1 (0.018485)\n",
      "10. feature 5 (0.017335)\n",
      "11. feature 10 (0.016306)\n",
      "12. feature 9 (0.015341)\n",
      "13. feature 8 (0.009878)\n",
      "14. feature 14 (0.000710)\n",
      "15. feature 13 (0.000052)\n",
      "16. feature 15 (0.000002)\n"
     ]
    },
    {
     "data": {
      "image/png": "[encoded data removed]",
      "text/plain": [
       "<Figure size 432x288 with 1 Axes>"
      ]
     },
     "metadata": {
      "needs_background": "light"
     },
     "output_type": "display_data"
    }
   ],
   "source": [
    "importances = data_model.feature_importances_\n",
    "indices = np.argsort(importances)[::-1]\n",
    "\n",
    "# Print the feature ranking\n",
    "print(\"Feature ranking:\")\n",
    "\n",
    "for f in range(X.shape[1]):\n",
    "    print(\"%d. feature %d (%f)\" % (f + 1, indices[f], importances[indices[f]]))\n",
    "\n",
    "# Plotting feature importances of the forest\n",
    "plt.figure()\n",
    "plt.title(\"DecisionTree Feature importances\")\n",
    "plt.bar(range(X.shape[1]), importances[indices],\n",
    "       color=\"r\", align=\"center\")\n",
    "plt.xticks(range(X.shape[1]), indices)\n",
    "plt.xlim([-1, X.shape[1]])\n",
    "plt.show()"
   ]
  },
  {
   "cell_type": "code",
   "execution_count": 39,
   "id": "be855128",
   "metadata": {},
   "outputs": [],
   "source": [
    "def plot_tree(data_tree, used_cols, out_file='mytree.png'):\n",
    "    export_graphviz(data_tree, out_file=out_file, \n",
    "                    filled=True, feature_names=used_cols, \n",
    "                    leaves_parallel=True, node_ids=True)\n",
    "    with open(out_file) as f:\n",
    "        dot_graph = f.read()\n",
    "    return graphviz.Source(dot_graph)"
   ]
  },
  {
   "cell_type": "code",
   "execution_count": 40,
   "id": "ea2f6677",
   "metadata": {},
   "outputs": [
    {
     "data": {
      "image/svg+xml": [
       "<?xml version=\"1.0\" encoding=\"UTF-8\" standalone=\"no\"?>\n",
       "<!DOCTYPE svg PUBLIC \"-//W3C//DTD SVG 1.1//EN\"\n",
       " \"http://www.w3.org/Graphics/SVG/1.1/DTD/svg11.dtd\">\n",
       "<!-- Generated by graphviz version 2.50.0 (0)\n",
       " -->\n",
       "<!-- Title: Tree Pages: 1 -->\n",
       "<svg width=\"3620pt\" height=\"679pt\"\n",
       " viewBox=\"0.00 0.00 3620.00 678.50\" xmlns=\"http://www.w3.org/2000/svg\" xmlns:xlink=\"http://www.w3.org/1999/xlink\">\n",
       "<g id=\"graph0\" class=\"graph\" transform=\"scale(1 1) rotate(0) translate(4 674.5)\">\n",
       "<title>Tree</title>\n",
       "<polygon fill=\"white\" stroke=\"transparent\" points=\"-4,4 -4,-674.5 3616,-674.5 3616,4 -4,4\"/>\n",
       "<!-- 0 -->\n",
       "<g id=\"node1\" class=\"node\">\n",
       "<title>0</title>\n",
       "<polygon fill=\"#e58139\" stroke=\"black\" points=\"2100.5,-670.5 1792.5,-670.5 1792.5,-587.5 2100.5,-587.5 2100.5,-670.5\"/>\n",
       "<text text-anchor=\"middle\" x=\"1946.5\" y=\"-655.3\" font-family=\"Times,serif\" font-size=\"14.00\">node #0</text>\n",
       "<text text-anchor=\"middle\" x=\"1946.5\" y=\"-640.3\" font-family=\"Times,serif\" font-size=\"14.00\">PRIM_CONTRIBUTORY_CAUSE &lt;= 0.5</text>\n",
       "<text text-anchor=\"middle\" x=\"1946.5\" y=\"-625.3\" font-family=\"Times,serif\" font-size=\"14.00\">gini = 0.001</text>\n",
       "<text text-anchor=\"middle\" x=\"1946.5\" y=\"-610.3\" font-family=\"Times,serif\" font-size=\"14.00\">samples = 455760</text>\n",
       "<text text-anchor=\"middle\" x=\"1946.5\" y=\"-595.3\" font-family=\"Times,serif\" font-size=\"14.00\">value = [455441, 319]</text>\n",
       "</g>\n",
       "<!-- 1 -->\n",
       "<g id=\"node2\" class=\"node\">\n",
       "<title>1</title>\n",
       "<polygon fill=\"#fdf3ed\" stroke=\"black\" points=\"1523,-551.5 1224,-551.5 1224,-468.5 1523,-468.5 1523,-551.5\"/>\n",
       "<text text-anchor=\"middle\" x=\"1373.5\" y=\"-536.3\" font-family=\"Times,serif\" font-size=\"14.00\">node #1</text>\n",
       "<text text-anchor=\"middle\" x=\"1373.5\" y=\"-521.3\" font-family=\"Times,serif\" font-size=\"14.00\">SEC_CONTRIBUTORY_CAUSE &lt;= 7.5</text>\n",
       "<text text-anchor=\"middle\" x=\"1373.5\" y=\"-506.3\" font-family=\"Times,serif\" font-size=\"14.00\">gini = 0.499</text>\n",
       "<text text-anchor=\"middle\" x=\"1373.5\" y=\"-491.3\" font-family=\"Times,serif\" font-size=\"14.00\">samples = 393</text>\n",
       "<text text-anchor=\"middle\" x=\"1373.5\" y=\"-476.3\" font-family=\"Times,serif\" font-size=\"14.00\">value = [206, 187]</text>\n",
       "</g>\n",
       "<!-- 0&#45;&gt;1 -->\n",
       "<g id=\"edge1\" class=\"edge\">\n",
       "<title>0&#45;&gt;1</title>\n",
       "<path fill=\"none\" stroke=\"black\" d=\"M1792.19,-596.49C1712.09,-580.14 1614.32,-560.17 1533.42,-543.65\"/>\n",
       "<polygon fill=\"black\" stroke=\"black\" points=\"1533.63,-540.12 1523.13,-541.55 1532.23,-546.98 1533.63,-540.12\"/>\n",
       "<text text-anchor=\"middle\" x=\"1536.91\" y=\"-558.71\" font-family=\"Times,serif\" font-size=\"14.00\">True</text>\n",
       "</g>\n",
       "<!-- 26 -->\n",
       "<g id=\"node27\" class=\"node\">\n",
       "<title>26</title>\n",
       "<polygon fill=\"#e58139\" stroke=\"black\" points=\"2325,-551.5 2026,-551.5 2026,-468.5 2325,-468.5 2325,-551.5\"/>\n",
       "<text text-anchor=\"middle\" x=\"2175.5\" y=\"-536.3\" font-family=\"Times,serif\" font-size=\"14.00\">node #26</text>\n",
       "<text text-anchor=\"middle\" x=\"2175.5\" y=\"-521.3\" font-family=\"Times,serif\" font-size=\"14.00\">SEC_CONTRIBUTORY_CAUSE &lt;= 0.5</text>\n",
       "<text text-anchor=\"middle\" x=\"2175.5\" y=\"-506.3\" font-family=\"Times,serif\" font-size=\"14.00\">gini = 0.001</text>\n",
       "<text text-anchor=\"middle\" x=\"2175.5\" y=\"-491.3\" font-family=\"Times,serif\" font-size=\"14.00\">samples = 455367</text>\n",
       "<text text-anchor=\"middle\" x=\"2175.5\" y=\"-476.3\" font-family=\"Times,serif\" font-size=\"14.00\">value = [455235, 132]</text>\n",
       "</g>\n",
       "<!-- 0&#45;&gt;26 -->\n",
       "<g id=\"edge26\" class=\"edge\">\n",
       "<title>0&#45;&gt;26</title>\n",
       "<path fill=\"none\" stroke=\"black\" d=\"M2025.95,-587.41C2045.67,-577.33 2066.92,-566.48 2087.04,-556.2\"/>\n",
       "<polygon fill=\"black\" stroke=\"black\" points=\"2088.88,-559.19 2096.19,-551.52 2085.69,-552.95 2088.88,-559.19\"/>\n",
       "<text text-anchor=\"middle\" x=\"2088.49\" y=\"-571.61\" font-family=\"Times,serif\" font-size=\"14.00\">False</text>\n",
       "</g>\n",
       "<!-- 2 -->\n",
       "<g id=\"node3\" class=\"node\">\n",
       "<title>2</title>\n",
       "<polygon fill=\"#85c2ef\" stroke=\"black\" points=\"764,-432.5 543,-432.5 543,-349.5 764,-349.5 764,-432.5\"/>\n",
       "<text text-anchor=\"middle\" x=\"653.5\" y=\"-417.3\" font-family=\"Times,serif\" font-size=\"14.00\">node #2</text>\n",
       "<text text-anchor=\"middle\" x=\"653.5\" y=\"-402.3\" font-family=\"Times,serif\" font-size=\"14.00\">TRAFFICWAY_TYPE &lt;= 9.0</text>\n",
       "<text text-anchor=\"middle\" x=\"653.5\" y=\"-387.3\" font-family=\"Times,serif\" font-size=\"14.00\">gini = 0.4</text>\n",
       "<text text-anchor=\"middle\" x=\"653.5\" y=\"-372.3\" font-family=\"Times,serif\" font-size=\"14.00\">samples = 94</text>\n",
       "<text text-anchor=\"middle\" x=\"653.5\" y=\"-357.3\" font-family=\"Times,serif\" font-size=\"14.00\">value = [26, 68]</text>\n",
       "</g>\n",
       "<!-- 1&#45;&gt;2 -->\n",
       "<g id=\"edge2\" class=\"edge\">\n",
       "<title>1&#45;&gt;2</title>\n",
       "<path fill=\"none\" stroke=\"black\" d=\"M1223.88,-484.69C1090.5,-463.01 897.75,-431.69 774.04,-411.59\"/>\n",
       "<polygon fill=\"black\" stroke=\"black\" points=\"774.58,-408.13 764.15,-409.98 773.46,-415.04 774.58,-408.13\"/>\n",
       "</g>\n",
       "<!-- 13 -->\n",
       "<g id=\"node14\" class=\"node\">\n",
       "<title>13</title>\n",
       "<polygon fill=\"#f6d4bc\" stroke=\"black\" points=\"1527.5,-432.5 1219.5,-432.5 1219.5,-349.5 1527.5,-349.5 1527.5,-432.5\"/>\n",
       "<text text-anchor=\"middle\" x=\"1373.5\" y=\"-417.3\" font-family=\"Times,serif\" font-size=\"14.00\">node #13</text>\n",
       "<text text-anchor=\"middle\" x=\"1373.5\" y=\"-402.3\" font-family=\"Times,serif\" font-size=\"14.00\">SEC_CONTRIBUTORY_CAUSE &lt;= 24.0</text>\n",
       "<text text-anchor=\"middle\" x=\"1373.5\" y=\"-387.3\" font-family=\"Times,serif\" font-size=\"14.00\">gini = 0.479</text>\n",
       "<text text-anchor=\"middle\" x=\"1373.5\" y=\"-372.3\" font-family=\"Times,serif\" font-size=\"14.00\">samples = 299</text>\n",
       "<text text-anchor=\"middle\" x=\"1373.5\" y=\"-357.3\" font-family=\"Times,serif\" font-size=\"14.00\">value = [180, 119]</text>\n",
       "</g>\n",
       "<!-- 1&#45;&gt;13 -->\n",
       "<g id=\"edge13\" class=\"edge\">\n",
       "<title>1&#45;&gt;13</title>\n",
       "<path fill=\"none\" stroke=\"black\" d=\"M1373.5,-468.41C1373.5,-460.15 1373.5,-451.36 1373.5,-442.8\"/>\n",
       "<polygon fill=\"black\" stroke=\"black\" points=\"1377,-442.52 1373.5,-432.52 1370,-442.52 1377,-442.52\"/>\n",
       "</g>\n",
       "<!-- 3 -->\n",
       "<g id=\"node4\" class=\"node\">\n",
       "<title>3</title>\n",
       "<polygon fill=\"#6fb8ec\" stroke=\"black\" points=\"368,-313.5 147,-313.5 147,-230.5 368,-230.5 368,-313.5\"/>\n",
       "<text text-anchor=\"middle\" x=\"257.5\" y=\"-298.3\" font-family=\"Times,serif\" font-size=\"14.00\">node #3</text>\n",
       "<text text-anchor=\"middle\" x=\"257.5\" y=\"-283.3\" font-family=\"Times,serif\" font-size=\"14.00\">TRAFFICWAY_TYPE &lt;= 0.5</text>\n",
       "<text text-anchor=\"middle\" x=\"257.5\" y=\"-268.3\" font-family=\"Times,serif\" font-size=\"14.00\">gini = 0.336</text>\n",
       "<text text-anchor=\"middle\" x=\"257.5\" y=\"-253.3\" font-family=\"Times,serif\" font-size=\"14.00\">samples = 75</text>\n",
       "<text text-anchor=\"middle\" x=\"257.5\" y=\"-238.3\" font-family=\"Times,serif\" font-size=\"14.00\">value = [16, 59]</text>\n",
       "</g>\n",
       "<!-- 2&#45;&gt;3 -->\n",
       "<g id=\"edge3\" class=\"edge\">\n",
       "<title>2&#45;&gt;3</title>\n",
       "<path fill=\"none\" stroke=\"black\" d=\"M542.93,-357.33C491.55,-342.15 430.34,-324.07 377.81,-308.55\"/>\n",
       "<polygon fill=\"black\" stroke=\"black\" points=\"378.69,-305.16 368.11,-305.68 376.7,-311.87 378.69,-305.16\"/>\n",
       "</g>\n",
       "<!-- 8 -->\n",
       "<g id=\"node9\" class=\"node\">\n",
       "<title>8</title>\n",
       "<polygon fill=\"#fcf2eb\" stroke=\"black\" points=\"753,-313.5 554,-313.5 554,-230.5 753,-230.5 753,-313.5\"/>\n",
       "<text text-anchor=\"middle\" x=\"653.5\" y=\"-298.3\" font-family=\"Times,serif\" font-size=\"14.00\">node #8</text>\n",
       "<text text-anchor=\"middle\" x=\"653.5\" y=\"-283.3\" font-family=\"Times,serif\" font-size=\"14.00\">HIT_AND_RUN_I &lt;= 1.5</text>\n",
       "<text text-anchor=\"middle\" x=\"653.5\" y=\"-268.3\" font-family=\"Times,serif\" font-size=\"14.00\">gini = 0.499</text>\n",
       "<text text-anchor=\"middle\" x=\"653.5\" y=\"-253.3\" font-family=\"Times,serif\" font-size=\"14.00\">samples = 19</text>\n",
       "<text text-anchor=\"middle\" x=\"653.5\" y=\"-238.3\" font-family=\"Times,serif\" font-size=\"14.00\">value = [10, 9]</text>\n",
       "</g>\n",
       "<!-- 2&#45;&gt;8 -->\n",
       "<g id=\"edge8\" class=\"edge\">\n",
       "<title>2&#45;&gt;8</title>\n",
       "<path fill=\"none\" stroke=\"black\" d=\"M653.5,-349.41C653.5,-341.15 653.5,-332.36 653.5,-323.8\"/>\n",
       "<polygon fill=\"black\" stroke=\"black\" points=\"657,-323.52 653.5,-313.52 650,-323.52 657,-323.52\"/>\n",
       "</g>\n",
       "<!-- 4 -->\n",
       "<g id=\"node5\" class=\"node\">\n",
       "<title>4</title>\n",
       "<polygon fill=\"#e58139\" stroke=\"black\" points=\"113,-68 0,-68 0,0 113,0 113,-68\"/>\n",
       "<text text-anchor=\"middle\" x=\"56.5\" y=\"-52.8\" font-family=\"Times,serif\" font-size=\"14.00\">node #4</text>\n",
       "<text text-anchor=\"middle\" x=\"56.5\" y=\"-37.8\" font-family=\"Times,serif\" font-size=\"14.00\">gini = 0.0</text>\n",
       "<text text-anchor=\"middle\" x=\"56.5\" y=\"-22.8\" font-family=\"Times,serif\" font-size=\"14.00\">samples = 2</text>\n",
       "<text text-anchor=\"middle\" x=\"56.5\" y=\"-7.8\" font-family=\"Times,serif\" font-size=\"14.00\">value = [2, 0]</text>\n",
       "</g>\n",
       "<!-- 3&#45;&gt;4 -->\n",
       "<g id=\"edge4\" class=\"edge\">\n",
       "<title>3&#45;&gt;4</title>\n",
       "<path fill=\"none\" stroke=\"black\" d=\"M207.47,-230.29C185.02,-212.02 163.5,-194.5 163.5,-194.5 163.5,-194.5 116.1,-123.84 84.39,-76.58\"/>\n",
       "<polygon fill=\"black\" stroke=\"black\" points=\"87.15,-74.4 78.67,-68.05 81.33,-78.3 87.15,-74.4\"/>\n",
       "</g>\n",
       "<!-- 5 -->\n",
       "<g id=\"node6\" class=\"node\">\n",
       "<title>5</title>\n",
       "<polygon fill=\"#68b4eb\" stroke=\"black\" points=\"342.5,-194.5 172.5,-194.5 172.5,-111.5 342.5,-111.5 342.5,-194.5\"/>\n",
       "<text text-anchor=\"middle\" x=\"257.5\" y=\"-179.3\" font-family=\"Times,serif\" font-size=\"14.00\">node #5</text>\n",
       "<text text-anchor=\"middle\" x=\"257.5\" y=\"-164.3\" font-family=\"Times,serif\" font-size=\"14.00\">ALIGNMENT &lt;= 2.5</text>\n",
       "<text text-anchor=\"middle\" x=\"257.5\" y=\"-149.3\" font-family=\"Times,serif\" font-size=\"14.00\">gini = 0.31</text>\n",
       "<text text-anchor=\"middle\" x=\"257.5\" y=\"-134.3\" font-family=\"Times,serif\" font-size=\"14.00\">samples = 73</text>\n",
       "<text text-anchor=\"middle\" x=\"257.5\" y=\"-119.3\" font-family=\"Times,serif\" font-size=\"14.00\">value = [14, 59]</text>\n",
       "</g>\n",
       "<!-- 3&#45;&gt;5 -->\n",
       "<g id=\"edge5\" class=\"edge\">\n",
       "<title>3&#45;&gt;5</title>\n",
       "<path fill=\"none\" stroke=\"black\" d=\"M257.5,-230.41C257.5,-222.15 257.5,-213.36 257.5,-204.8\"/>\n",
       "<polygon fill=\"black\" stroke=\"black\" points=\"261,-204.52 257.5,-194.52 254,-204.52 261,-204.52\"/>\n",
       "</g>\n",
       "<!-- 6 -->\n",
       "<g id=\"node7\" class=\"node\">\n",
       "<title>6</title>\n",
       "<polygon fill=\"#e58139\" stroke=\"black\" points=\"244,-68 131,-68 131,0 244,0 244,-68\"/>\n",
       "<text text-anchor=\"middle\" x=\"187.5\" y=\"-52.8\" font-family=\"Times,serif\" font-size=\"14.00\">node #6</text>\n",
       "<text text-anchor=\"middle\" x=\"187.5\" y=\"-37.8\" font-family=\"Times,serif\" font-size=\"14.00\">gini = 0.0</text>\n",
       "<text text-anchor=\"middle\" x=\"187.5\" y=\"-22.8\" font-family=\"Times,serif\" font-size=\"14.00\">samples = 2</text>\n",
       "<text text-anchor=\"middle\" x=\"187.5\" y=\"-7.8\" font-family=\"Times,serif\" font-size=\"14.00\">value = [2, 0]</text>\n",
       "</g>\n",
       "<!-- 5&#45;&gt;6 -->\n",
       "<g id=\"edge6\" class=\"edge\">\n",
       "<title>5&#45;&gt;6</title>\n",
       "<path fill=\"none\" stroke=\"black\" d=\"M233.21,-111.41C226.55,-100.26 219.3,-88.16 212.59,-76.94\"/>\n",
       "<polygon fill=\"black\" stroke=\"black\" points=\"215.48,-74.95 207.34,-68.17 209.47,-78.55 215.48,-74.95\"/>\n",
       "</g>\n",
       "<!-- 7 -->\n",
       "<g id=\"node8\" class=\"node\">\n",
       "<title>7</title>\n",
       "<polygon fill=\"#61b1ea\" stroke=\"black\" points=\"393,-68 262,-68 262,0 393,0 393,-68\"/>\n",
       "<text text-anchor=\"middle\" x=\"327.5\" y=\"-52.8\" font-family=\"Times,serif\" font-size=\"14.00\">node #7</text>\n",
       "<text text-anchor=\"middle\" x=\"327.5\" y=\"-37.8\" font-family=\"Times,serif\" font-size=\"14.00\">gini = 0.281</text>\n",
       "<text text-anchor=\"middle\" x=\"327.5\" y=\"-22.8\" font-family=\"Times,serif\" font-size=\"14.00\">samples = 71</text>\n",
       "<text text-anchor=\"middle\" x=\"327.5\" y=\"-7.8\" font-family=\"Times,serif\" font-size=\"14.00\">value = [12, 59]</text>\n",
       "</g>\n",
       "<!-- 5&#45;&gt;7 -->\n",
       "<g id=\"edge7\" class=\"edge\">\n",
       "<title>5&#45;&gt;7</title>\n",
       "<path fill=\"none\" stroke=\"black\" d=\"M281.79,-111.41C288.45,-100.26 295.7,-88.16 302.41,-76.94\"/>\n",
       "<polygon fill=\"black\" stroke=\"black\" points=\"305.53,-78.55 307.66,-68.17 299.52,-74.95 305.53,-78.55\"/>\n",
       "</g>\n",
       "<!-- 9 -->\n",
       "<g id=\"node10\" class=\"node\">\n",
       "<title>9</title>\n",
       "<polygon fill=\"#f7d9c4\" stroke=\"black\" points=\"703,-194.5 450,-194.5 450,-111.5 703,-111.5 703,-194.5\"/>\n",
       "<text text-anchor=\"middle\" x=\"576.5\" y=\"-179.3\" font-family=\"Times,serif\" font-size=\"14.00\">node #9</text>\n",
       "<text text-anchor=\"middle\" x=\"576.5\" y=\"-164.3\" font-family=\"Times,serif\" font-size=\"14.00\">LIGHTING_CONDITION &lt;= 0.5</text>\n",
       "<text text-anchor=\"middle\" x=\"576.5\" y=\"-149.3\" font-family=\"Times,serif\" font-size=\"14.00\">gini = 0.484</text>\n",
       "<text text-anchor=\"middle\" x=\"576.5\" y=\"-134.3\" font-family=\"Times,serif\" font-size=\"14.00\">samples = 17</text>\n",
       "<text text-anchor=\"middle\" x=\"576.5\" y=\"-119.3\" font-family=\"Times,serif\" font-size=\"14.00\">value = [10, 7]</text>\n",
       "</g>\n",
       "<!-- 8&#45;&gt;9 -->\n",
       "<g id=\"edge9\" class=\"edge\">\n",
       "<title>8&#45;&gt;9</title>\n",
       "<path fill=\"none\" stroke=\"black\" d=\"M626.79,-230.41C620.99,-221.6 614.8,-212.2 608.82,-203.11\"/>\n",
       "<polygon fill=\"black\" stroke=\"black\" points=\"611.59,-200.95 603.17,-194.52 605.74,-204.8 611.59,-200.95\"/>\n",
       "</g>\n",
       "<!-- 12 -->\n",
       "<g id=\"node13\" class=\"node\">\n",
       "<title>12</title>\n",
       "<polygon fill=\"#399de5\" stroke=\"black\" points=\"788,-68 675,-68 675,0 788,0 788,-68\"/>\n",
       "<text text-anchor=\"middle\" x=\"731.5\" y=\"-52.8\" font-family=\"Times,serif\" font-size=\"14.00\">node #12</text>\n",
       "<text text-anchor=\"middle\" x=\"731.5\" y=\"-37.8\" font-family=\"Times,serif\" font-size=\"14.00\">gini = 0.0</text>\n",
       "<text text-anchor=\"middle\" x=\"731.5\" y=\"-22.8\" font-family=\"Times,serif\" font-size=\"14.00\">samples = 2</text>\n",
       "<text text-anchor=\"middle\" x=\"731.5\" y=\"-7.8\" font-family=\"Times,serif\" font-size=\"14.00\">value = [0, 2]</text>\n",
       "</g>\n",
       "<!-- 8&#45;&gt;12 -->\n",
       "<g id=\"edge12\" class=\"edge\">\n",
       "<title>8&#45;&gt;12</title>\n",
       "<path fill=\"none\" stroke=\"black\" d=\"M684.54,-230.06C698.33,-211.87 711.5,-194.5 711.5,-194.5 711.5,-194.5 720.18,-125.3 726.1,-78.06\"/>\n",
       "<polygon fill=\"black\" stroke=\"black\" points=\"729.58,-78.41 727.36,-68.05 722.64,-77.54 729.58,-78.41\"/>\n",
       "</g>\n",
       "<!-- 10 -->\n",
       "<g id=\"node11\" class=\"node\">\n",
       "<title>10</title>\n",
       "<polygon fill=\"#e58139\" stroke=\"black\" points=\"524,-68 411,-68 411,0 524,0 524,-68\"/>\n",
       "<text text-anchor=\"middle\" x=\"467.5\" y=\"-52.8\" font-family=\"Times,serif\" font-size=\"14.00\">node #10</text>\n",
       "<text text-anchor=\"middle\" x=\"467.5\" y=\"-37.8\" font-family=\"Times,serif\" font-size=\"14.00\">gini = 0.0</text>\n",
       "<text text-anchor=\"middle\" x=\"467.5\" y=\"-22.8\" font-family=\"Times,serif\" font-size=\"14.00\">samples = 2</text>\n",
       "<text text-anchor=\"middle\" x=\"467.5\" y=\"-7.8\" font-family=\"Times,serif\" font-size=\"14.00\">value = [2, 0]</text>\n",
       "</g>\n",
       "<!-- 9&#45;&gt;10 -->\n",
       "<g id=\"edge10\" class=\"edge\">\n",
       "<title>9&#45;&gt;10</title>\n",
       "<path fill=\"none\" stroke=\"black\" d=\"M538.68,-111.41C527.89,-99.82 516.13,-87.2 505.33,-75.61\"/>\n",
       "<polygon fill=\"black\" stroke=\"black\" points=\"507.78,-73.1 498.4,-68.17 502.65,-77.87 507.78,-73.1\"/>\n",
       "</g>\n",
       "<!-- 11 -->\n",
       "<g id=\"node12\" class=\"node\">\n",
       "<title>11</title>\n",
       "<polygon fill=\"#fcefe6\" stroke=\"black\" points=\"656.5,-68 542.5,-68 542.5,0 656.5,0 656.5,-68\"/>\n",
       "<text text-anchor=\"middle\" x=\"599.5\" y=\"-52.8\" font-family=\"Times,serif\" font-size=\"14.00\">node #11</text>\n",
       "<text text-anchor=\"middle\" x=\"599.5\" y=\"-37.8\" font-family=\"Times,serif\" font-size=\"14.00\">gini = 0.498</text>\n",
       "<text text-anchor=\"middle\" x=\"599.5\" y=\"-22.8\" font-family=\"Times,serif\" font-size=\"14.00\">samples = 15</text>\n",
       "<text text-anchor=\"middle\" x=\"599.5\" y=\"-7.8\" font-family=\"Times,serif\" font-size=\"14.00\">value = [8, 7]</text>\n",
       "</g>\n",
       "<!-- 9&#45;&gt;11 -->\n",
       "<g id=\"edge11\" class=\"edge\">\n",
       "<title>9&#45;&gt;11</title>\n",
       "<path fill=\"none\" stroke=\"black\" d=\"M584.48,-111.41C586.58,-100.7 588.86,-89.12 590.99,-78.28\"/>\n",
       "<polygon fill=\"black\" stroke=\"black\" points=\"594.49,-78.65 592.98,-68.17 587.62,-77.3 594.49,-78.65\"/>\n",
       "</g>\n",
       "<!-- 14 -->\n",
       "<g id=\"node15\" class=\"node\">\n",
       "<title>14</title>\n",
       "<polygon fill=\"#e68641\" stroke=\"black\" points=\"1359,-313.5 1106,-313.5 1106,-230.5 1359,-230.5 1359,-313.5\"/>\n",
       "<text text-anchor=\"middle\" x=\"1232.5\" y=\"-298.3\" font-family=\"Times,serif\" font-size=\"14.00\">node #14</text>\n",
       "<text text-anchor=\"middle\" x=\"1232.5\" y=\"-283.3\" font-family=\"Times,serif\" font-size=\"14.00\">LIGHTING_CONDITION &lt;= 3.5</text>\n",
       "<text text-anchor=\"middle\" x=\"1232.5\" y=\"-268.3\" font-family=\"Times,serif\" font-size=\"14.00\">gini = 0.071</text>\n",
       "<text text-anchor=\"middle\" x=\"1232.5\" y=\"-253.3\" font-family=\"Times,serif\" font-size=\"14.00\">samples = 54</text>\n",
       "<text text-anchor=\"middle\" x=\"1232.5\" y=\"-238.3\" font-family=\"Times,serif\" font-size=\"14.00\">value = [52, 2]</text>\n",
       "</g>\n",
       "<!-- 13&#45;&gt;14 -->\n",
       "<g id=\"edge14\" class=\"edge\">\n",
       "<title>13&#45;&gt;14</title>\n",
       "<path fill=\"none\" stroke=\"black\" d=\"M1324.58,-349.41C1313.21,-339.97 1301,-329.84 1289.32,-320.15\"/>\n",
       "<polygon fill=\"black\" stroke=\"black\" points=\"1291.26,-317.21 1281.33,-313.52 1286.79,-322.6 1291.26,-317.21\"/>\n",
       "</g>\n",
       "<!-- 21 -->\n",
       "<g id=\"node22\" class=\"node\">\n",
       "<title>21</title>\n",
       "<polygon fill=\"#fdf4ee\" stroke=\"black\" points=\"1631.5,-313.5 1401.5,-313.5 1401.5,-230.5 1631.5,-230.5 1631.5,-313.5\"/>\n",
       "<text text-anchor=\"middle\" x=\"1516.5\" y=\"-298.3\" font-family=\"Times,serif\" font-size=\"14.00\">node #21</text>\n",
       "<text text-anchor=\"middle\" x=\"1516.5\" y=\"-283.3\" font-family=\"Times,serif\" font-size=\"14.00\">TRAFFICWAY_TYPE &lt;= 10.5</text>\n",
       "<text text-anchor=\"middle\" x=\"1516.5\" y=\"-268.3\" font-family=\"Times,serif\" font-size=\"14.00\">gini = 0.499</text>\n",
       "<text text-anchor=\"middle\" x=\"1516.5\" y=\"-253.3\" font-family=\"Times,serif\" font-size=\"14.00\">samples = 245</text>\n",
       "<text text-anchor=\"middle\" x=\"1516.5\" y=\"-238.3\" font-family=\"Times,serif\" font-size=\"14.00\">value = [128, 117]</text>\n",
       "</g>\n",
       "<!-- 13&#45;&gt;21 -->\n",
       "<g id=\"edge21\" class=\"edge\">\n",
       "<title>13&#45;&gt;21</title>\n",
       "<path fill=\"none\" stroke=\"black\" d=\"M1423.11,-349.41C1434.76,-339.88 1447.26,-329.65 1459.21,-319.87\"/>\n",
       "<polygon fill=\"black\" stroke=\"black\" points=\"1461.45,-322.56 1466.97,-313.52 1457.02,-317.14 1461.45,-322.56\"/>\n",
       "</g>\n",
       "<!-- 15 -->\n",
       "<g id=\"node16\" class=\"node\">\n",
       "<title>15</title>\n",
       "<polygon fill=\"#e6843d\" stroke=\"black\" points=\"1103,-194.5 904,-194.5 904,-111.5 1103,-111.5 1103,-194.5\"/>\n",
       "<text text-anchor=\"middle\" x=\"1003.5\" y=\"-179.3\" font-family=\"Times,serif\" font-size=\"14.00\">node #15</text>\n",
       "<text text-anchor=\"middle\" x=\"1003.5\" y=\"-164.3\" font-family=\"Times,serif\" font-size=\"14.00\">HIT_AND_RUN_I &lt;= 1.5</text>\n",
       "<text text-anchor=\"middle\" x=\"1003.5\" y=\"-149.3\" font-family=\"Times,serif\" font-size=\"14.00\">gini = 0.039</text>\n",
       "<text text-anchor=\"middle\" x=\"1003.5\" y=\"-134.3\" font-family=\"Times,serif\" font-size=\"14.00\">samples = 50</text>\n",
       "<text text-anchor=\"middle\" x=\"1003.5\" y=\"-119.3\" font-family=\"Times,serif\" font-size=\"14.00\">value = [49, 1]</text>\n",
       "</g>\n",
       "<!-- 14&#45;&gt;15 -->\n",
       "<g id=\"edge15\" class=\"edge\">\n",
       "<title>14&#45;&gt;15</title>\n",
       "<path fill=\"none\" stroke=\"black\" d=\"M1153.05,-230.41C1133.33,-220.33 1112.08,-209.48 1091.96,-199.2\"/>\n",
       "<polygon fill=\"black\" stroke=\"black\" points=\"1093.31,-195.95 1082.81,-194.52 1090.12,-202.19 1093.31,-195.95\"/>\n",
       "</g>\n",
       "<!-- 18 -->\n",
       "<g id=\"node19\" class=\"node\">\n",
       "<title>18</title>\n",
       "<polygon fill=\"#eeab7b\" stroke=\"black\" points=\"1343,-194.5 1122,-194.5 1122,-111.5 1343,-111.5 1343,-194.5\"/>\n",
       "<text text-anchor=\"middle\" x=\"1232.5\" y=\"-179.3\" font-family=\"Times,serif\" font-size=\"14.00\">node #18</text>\n",
       "<text text-anchor=\"middle\" x=\"1232.5\" y=\"-164.3\" font-family=\"Times,serif\" font-size=\"14.00\">TRAFFICWAY_TYPE &lt;= 5.0</text>\n",
       "<text text-anchor=\"middle\" x=\"1232.5\" y=\"-149.3\" font-family=\"Times,serif\" font-size=\"14.00\">gini = 0.375</text>\n",
       "<text text-anchor=\"middle\" x=\"1232.5\" y=\"-134.3\" font-family=\"Times,serif\" font-size=\"14.00\">samples = 4</text>\n",
       "<text text-anchor=\"middle\" x=\"1232.5\" y=\"-119.3\" font-family=\"Times,serif\" font-size=\"14.00\">value = [3, 1]</text>\n",
       "</g>\n",
       "<!-- 14&#45;&gt;18 -->\n",
       "<g id=\"edge18\" class=\"edge\">\n",
       "<title>14&#45;&gt;18</title>\n",
       "<path fill=\"none\" stroke=\"black\" d=\"M1232.5,-230.41C1232.5,-222.15 1232.5,-213.36 1232.5,-204.8\"/>\n",
       "<polygon fill=\"black\" stroke=\"black\" points=\"1236,-204.52 1232.5,-194.52 1229,-204.52 1236,-204.52\"/>\n",
       "</g>\n",
       "<!-- 16 -->\n",
       "<g id=\"node17\" class=\"node\">\n",
       "<title>16</title>\n",
       "<polygon fill=\"#e58139\" stroke=\"black\" points=\"928.5,-68 806.5,-68 806.5,0 928.5,0 928.5,-68\"/>\n",
       "<text text-anchor=\"middle\" x=\"867.5\" y=\"-52.8\" font-family=\"Times,serif\" font-size=\"14.00\">node #16</text>\n",
       "<text text-anchor=\"middle\" x=\"867.5\" y=\"-37.8\" font-family=\"Times,serif\" font-size=\"14.00\">gini = 0.0</text>\n",
       "<text text-anchor=\"middle\" x=\"867.5\" y=\"-22.8\" font-family=\"Times,serif\" font-size=\"14.00\">samples = 46</text>\n",
       "<text text-anchor=\"middle\" x=\"867.5\" y=\"-7.8\" font-family=\"Times,serif\" font-size=\"14.00\">value = [46, 0]</text>\n",
       "</g>\n",
       "<!-- 15&#45;&gt;16 -->\n",
       "<g id=\"edge16\" class=\"edge\">\n",
       "<title>15&#45;&gt;16</title>\n",
       "<path fill=\"none\" stroke=\"black\" d=\"M956.32,-111.41C942.59,-99.6 927.61,-86.72 913.94,-74.95\"/>\n",
       "<polygon fill=\"black\" stroke=\"black\" points=\"915.92,-72.04 906.05,-68.17 911.35,-77.34 915.92,-72.04\"/>\n",
       "</g>\n",
       "<!-- 17 -->\n",
       "<g id=\"node18\" class=\"node\">\n",
       "<title>17</title>\n",
       "<polygon fill=\"#eeab7b\" stroke=\"black\" points=\"1060,-68 947,-68 947,0 1060,0 1060,-68\"/>\n",
       "<text text-anchor=\"middle\" x=\"1003.5\" y=\"-52.8\" font-family=\"Times,serif\" font-size=\"14.00\">node #17</text>\n",
       "<text text-anchor=\"middle\" x=\"1003.5\" y=\"-37.8\" font-family=\"Times,serif\" font-size=\"14.00\">gini = 0.375</text>\n",
       "<text text-anchor=\"middle\" x=\"1003.5\" y=\"-22.8\" font-family=\"Times,serif\" font-size=\"14.00\">samples = 4</text>\n",
       "<text text-anchor=\"middle\" x=\"1003.5\" y=\"-7.8\" font-family=\"Times,serif\" font-size=\"14.00\">value = [3, 1]</text>\n",
       "</g>\n",
       "<!-- 15&#45;&gt;17 -->\n",
       "<g id=\"edge17\" class=\"edge\">\n",
       "<title>15&#45;&gt;17</title>\n",
       "<path fill=\"none\" stroke=\"black\" d=\"M1003.5,-111.41C1003.5,-100.7 1003.5,-89.12 1003.5,-78.28\"/>\n",
       "<polygon fill=\"black\" stroke=\"black\" points=\"1007,-78.17 1003.5,-68.17 1000,-78.17 1007,-78.17\"/>\n",
       "</g>\n",
       "<!-- 19 -->\n",
       "<g id=\"node20\" class=\"node\">\n",
       "<title>19</title>\n",
       "<polygon fill=\"#399de5\" stroke=\"black\" points=\"1191,-68 1078,-68 1078,0 1191,0 1191,-68\"/>\n",
       "<text text-anchor=\"middle\" x=\"1134.5\" y=\"-52.8\" font-family=\"Times,serif\" font-size=\"14.00\">node #19</text>\n",
       "<text text-anchor=\"middle\" x=\"1134.5\" y=\"-37.8\" font-family=\"Times,serif\" font-size=\"14.00\">gini = 0.0</text>\n",
       "<text text-anchor=\"middle\" x=\"1134.5\" y=\"-22.8\" font-family=\"Times,serif\" font-size=\"14.00\">samples = 1</text>\n",
       "<text text-anchor=\"middle\" x=\"1134.5\" y=\"-7.8\" font-family=\"Times,serif\" font-size=\"14.00\">value = [0, 1]</text>\n",
       "</g>\n",
       "<!-- 18&#45;&gt;19 -->\n",
       "<g id=\"edge19\" class=\"edge\">\n",
       "<title>18&#45;&gt;19</title>\n",
       "<path fill=\"none\" stroke=\"black\" d=\"M1198.5,-111.41C1188.89,-99.93 1178.42,-87.44 1168.79,-75.94\"/>\n",
       "<polygon fill=\"black\" stroke=\"black\" points=\"1171.39,-73.59 1162.28,-68.17 1166.02,-78.08 1171.39,-73.59\"/>\n",
       "</g>\n",
       "<!-- 20 -->\n",
       "<g id=\"node21\" class=\"node\">\n",
       "<title>20</title>\n",
       "<polygon fill=\"#e58139\" stroke=\"black\" points=\"1322,-68 1209,-68 1209,0 1322,0 1322,-68\"/>\n",
       "<text text-anchor=\"middle\" x=\"1265.5\" y=\"-52.8\" font-family=\"Times,serif\" font-size=\"14.00\">node #20</text>\n",
       "<text text-anchor=\"middle\" x=\"1265.5\" y=\"-37.8\" font-family=\"Times,serif\" font-size=\"14.00\">gini = 0.0</text>\n",
       "<text text-anchor=\"middle\" x=\"1265.5\" y=\"-22.8\" font-family=\"Times,serif\" font-size=\"14.00\">samples = 3</text>\n",
       "<text text-anchor=\"middle\" x=\"1265.5\" y=\"-7.8\" font-family=\"Times,serif\" font-size=\"14.00\">value = [3, 0]</text>\n",
       "</g>\n",
       "<!-- 18&#45;&gt;20 -->\n",
       "<g id=\"edge20\" class=\"edge\">\n",
       "<title>18&#45;&gt;20</title>\n",
       "<path fill=\"none\" stroke=\"black\" d=\"M1243.95,-111.41C1247,-100.59 1250.3,-88.88 1253.39,-77.94\"/>\n",
       "<polygon fill=\"black\" stroke=\"black\" points=\"1256.8,-78.74 1256.15,-68.17 1250.06,-76.84 1256.8,-78.74\"/>\n",
       "</g>\n",
       "<!-- 22 -->\n",
       "<g id=\"node23\" class=\"node\">\n",
       "<title>22</title>\n",
       "<polygon fill=\"#fffefd\" stroke=\"black\" points=\"1670.5,-194.5 1362.5,-194.5 1362.5,-111.5 1670.5,-111.5 1670.5,-194.5\"/>\n",
       "<text text-anchor=\"middle\" x=\"1516.5\" y=\"-179.3\" font-family=\"Times,serif\" font-size=\"14.00\">node #22</text>\n",
       "<text text-anchor=\"middle\" x=\"1516.5\" y=\"-164.3\" font-family=\"Times,serif\" font-size=\"14.00\">SEC_CONTRIBUTORY_CAUSE &lt;= 33.0</text>\n",
       "<text text-anchor=\"middle\" x=\"1516.5\" y=\"-149.3\" font-family=\"Times,serif\" font-size=\"14.00\">gini = 0.5</text>\n",
       "<text text-anchor=\"middle\" x=\"1516.5\" y=\"-134.3\" font-family=\"Times,serif\" font-size=\"14.00\">samples = 235</text>\n",
       "<text text-anchor=\"middle\" x=\"1516.5\" y=\"-119.3\" font-family=\"Times,serif\" font-size=\"14.00\">value = [118, 117]</text>\n",
       "</g>\n",
       "<!-- 21&#45;&gt;22 -->\n",
       "<g id=\"edge22\" class=\"edge\">\n",
       "<title>21&#45;&gt;22</title>\n",
       "<path fill=\"none\" stroke=\"black\" d=\"M1516.5,-230.41C1516.5,-222.15 1516.5,-213.36 1516.5,-204.8\"/>\n",
       "<polygon fill=\"black\" stroke=\"black\" points=\"1520,-204.52 1516.5,-194.52 1513,-204.52 1520,-204.52\"/>\n",
       "</g>\n",
       "<!-- 25 -->\n",
       "<g id=\"node26\" class=\"node\">\n",
       "<title>25</title>\n",
       "<polygon fill=\"#e58139\" stroke=\"black\" points=\"1760.5,-68 1638.5,-68 1638.5,0 1760.5,0 1760.5,-68\"/>\n",
       "<text text-anchor=\"middle\" x=\"1699.5\" y=\"-52.8\" font-family=\"Times,serif\" font-size=\"14.00\">node #25</text>\n",
       "<text text-anchor=\"middle\" x=\"1699.5\" y=\"-37.8\" font-family=\"Times,serif\" font-size=\"14.00\">gini = 0.0</text>\n",
       "<text text-anchor=\"middle\" x=\"1699.5\" y=\"-22.8\" font-family=\"Times,serif\" font-size=\"14.00\">samples = 10</text>\n",
       "<text text-anchor=\"middle\" x=\"1699.5\" y=\"-7.8\" font-family=\"Times,serif\" font-size=\"14.00\">value = [10, 0]</text>\n",
       "</g>\n",
       "<!-- 21&#45;&gt;25 -->\n",
       "<g id=\"edge25\" class=\"edge\">\n",
       "<title>21&#45;&gt;25</title>\n",
       "<path fill=\"none\" stroke=\"black\" d=\"M1603.25,-230.29C1642.18,-212.02 1679.5,-194.5 1679.5,-194.5 1679.5,-194.5 1688.18,-125.3 1694.1,-78.06\"/>\n",
       "<polygon fill=\"black\" stroke=\"black\" points=\"1697.58,-78.41 1695.36,-68.05 1690.64,-77.54 1697.58,-78.41\"/>\n",
       "</g>\n",
       "<!-- 23 -->\n",
       "<g id=\"node24\" class=\"node\">\n",
       "<title>23</title>\n",
       "<polygon fill=\"#dfeffb\" stroke=\"black\" points=\"1471,-68 1340,-68 1340,0 1471,0 1471,-68\"/>\n",
       "<text text-anchor=\"middle\" x=\"1405.5\" y=\"-52.8\" font-family=\"Times,serif\" font-size=\"14.00\">node #23</text>\n",
       "<text text-anchor=\"middle\" x=\"1405.5\" y=\"-37.8\" font-family=\"Times,serif\" font-size=\"14.00\">gini = 0.496</text>\n",
       "<text text-anchor=\"middle\" x=\"1405.5\" y=\"-22.8\" font-family=\"Times,serif\" font-size=\"14.00\">samples = 171</text>\n",
       "<text text-anchor=\"middle\" x=\"1405.5\" y=\"-7.8\" font-family=\"Times,serif\" font-size=\"14.00\">value = [78, 93]</text>\n",
       "</g>\n",
       "<!-- 22&#45;&gt;23 -->\n",
       "<g id=\"edge23\" class=\"edge\">\n",
       "<title>22&#45;&gt;23</title>\n",
       "<path fill=\"none\" stroke=\"black\" d=\"M1477.99,-111.41C1467,-99.82 1455.02,-87.2 1444.03,-75.61\"/>\n",
       "<polygon fill=\"black\" stroke=\"black\" points=\"1446.39,-73.01 1436.97,-68.17 1441.31,-77.83 1446.39,-73.01\"/>\n",
       "</g>\n",
       "<!-- 24 -->\n",
       "<g id=\"node25\" class=\"node\">\n",
       "<title>24</title>\n",
       "<polygon fill=\"#f5cdb0\" stroke=\"black\" points=\"1620,-68 1489,-68 1489,0 1620,0 1620,-68\"/>\n",
       "<text text-anchor=\"middle\" x=\"1554.5\" y=\"-52.8\" font-family=\"Times,serif\" font-size=\"14.00\">node #24</text>\n",
       "<text text-anchor=\"middle\" x=\"1554.5\" y=\"-37.8\" font-family=\"Times,serif\" font-size=\"14.00\">gini = 0.469</text>\n",
       "<text text-anchor=\"middle\" x=\"1554.5\" y=\"-22.8\" font-family=\"Times,serif\" font-size=\"14.00\">samples = 64</text>\n",
       "<text text-anchor=\"middle\" x=\"1554.5\" y=\"-7.8\" font-family=\"Times,serif\" font-size=\"14.00\">value = [40, 24]</text>\n",
       "</g>\n",
       "<!-- 22&#45;&gt;24 -->\n",
       "<g id=\"edge24\" class=\"edge\">\n",
       "<title>22&#45;&gt;24</title>\n",
       "<path fill=\"none\" stroke=\"black\" d=\"M1529.68,-111.41C1533.2,-100.59 1537,-88.88 1540.55,-77.94\"/>\n",
       "<polygon fill=\"black\" stroke=\"black\" points=\"1543.97,-78.76 1543.73,-68.17 1537.31,-76.6 1543.97,-78.76\"/>\n",
       "</g>\n",
       "<!-- 27 -->\n",
       "<g id=\"node28\" class=\"node\">\n",
       "<title>27</title>\n",
       "<polygon fill=\"#e78945\" stroke=\"black\" points=\"2299.5,-432.5 2051.5,-432.5 2051.5,-349.5 2299.5,-349.5 2299.5,-432.5\"/>\n",
       "<text text-anchor=\"middle\" x=\"2175.5\" y=\"-417.3\" font-family=\"Times,serif\" font-size=\"14.00\">node #27</text>\n",
       "<text text-anchor=\"middle\" x=\"2175.5\" y=\"-402.3\" font-family=\"Times,serif\" font-size=\"14.00\">NOT_RIGHT_OF_WAY_I &lt;= 1.5</text>\n",
       "<text text-anchor=\"middle\" x=\"2175.5\" y=\"-387.3\" font-family=\"Times,serif\" font-size=\"14.00\">gini = 0.111</text>\n",
       "<text text-anchor=\"middle\" x=\"2175.5\" y=\"-372.3\" font-family=\"Times,serif\" font-size=\"14.00\">samples = 136</text>\n",
       "<text text-anchor=\"middle\" x=\"2175.5\" y=\"-357.3\" font-family=\"Times,serif\" font-size=\"14.00\">value = [128, 8]</text>\n",
       "</g>\n",
       "<!-- 26&#45;&gt;27 -->\n",
       "<g id=\"edge27\" class=\"edge\">\n",
       "<title>26&#45;&gt;27</title>\n",
       "<path fill=\"none\" stroke=\"black\" d=\"M2175.5,-468.41C2175.5,-460.15 2175.5,-451.36 2175.5,-442.8\"/>\n",
       "<polygon fill=\"black\" stroke=\"black\" points=\"2179,-442.52 2175.5,-432.52 2172,-442.52 2179,-442.52\"/>\n",
       "</g>\n",
       "<!-- 36 -->\n",
       "<g id=\"node37\" class=\"node\">\n",
       "<title>36</title>\n",
       "<polygon fill=\"#e58139\" stroke=\"black\" points=\"2901,-432.5 2584,-432.5 2584,-349.5 2901,-349.5 2901,-432.5\"/>\n",
       "<text text-anchor=\"middle\" x=\"2742.5\" y=\"-417.3\" font-family=\"Times,serif\" font-size=\"14.00\">node #36</text>\n",
       "<text text-anchor=\"middle\" x=\"2742.5\" y=\"-402.3\" font-family=\"Times,serif\" font-size=\"14.00\">PRIM_CONTRIBUTORY_CAUSE &lt;= 25.5</text>\n",
       "<text text-anchor=\"middle\" x=\"2742.5\" y=\"-387.3\" font-family=\"Times,serif\" font-size=\"14.00\">gini = 0.001</text>\n",
       "<text text-anchor=\"middle\" x=\"2742.5\" y=\"-372.3\" font-family=\"Times,serif\" font-size=\"14.00\">samples = 455231</text>\n",
       "<text text-anchor=\"middle\" x=\"2742.5\" y=\"-357.3\" font-family=\"Times,serif\" font-size=\"14.00\">value = [455107, 124]</text>\n",
       "</g>\n",
       "<!-- 26&#45;&gt;36 -->\n",
       "<g id=\"edge36\" class=\"edge\">\n",
       "<title>26&#45;&gt;36</title>\n",
       "<path fill=\"none\" stroke=\"black\" d=\"M2325.21,-478.11C2401.59,-462.35 2494.78,-443.12 2573.7,-426.83\"/>\n",
       "<polygon fill=\"black\" stroke=\"black\" points=\"2574.66,-430.21 2583.75,-424.76 2573.25,-423.35 2574.66,-430.21\"/>\n",
       "</g>\n",
       "<!-- 28 -->\n",
       "<g id=\"node29\" class=\"node\">\n",
       "<title>28</title>\n",
       "<polygon fill=\"#e68844\" stroke=\"black\" points=\"2196,-313.5 1879,-313.5 1879,-230.5 2196,-230.5 2196,-313.5\"/>\n",
       "<text text-anchor=\"middle\" x=\"2037.5\" y=\"-298.3\" font-family=\"Times,serif\" font-size=\"14.00\">node #28</text>\n",
       "<text text-anchor=\"middle\" x=\"2037.5\" y=\"-283.3\" font-family=\"Times,serif\" font-size=\"14.00\">PRIM_CONTRIBUTORY_CAUSE &lt;= 28.0</text>\n",
       "<text text-anchor=\"middle\" x=\"2037.5\" y=\"-268.3\" font-family=\"Times,serif\" font-size=\"14.00\">gini = 0.099</text>\n",
       "<text text-anchor=\"middle\" x=\"2037.5\" y=\"-253.3\" font-family=\"Times,serif\" font-size=\"14.00\">samples = 134</text>\n",
       "<text text-anchor=\"middle\" x=\"2037.5\" y=\"-238.3\" font-family=\"Times,serif\" font-size=\"14.00\">value = [127, 7]</text>\n",
       "</g>\n",
       "<!-- 27&#45;&gt;28 -->\n",
       "<g id=\"edge28\" class=\"edge\">\n",
       "<title>27&#45;&gt;28</title>\n",
       "<path fill=\"none\" stroke=\"black\" d=\"M2127.62,-349.41C2116.49,-339.97 2104.55,-329.84 2093.11,-320.15\"/>\n",
       "<polygon fill=\"black\" stroke=\"black\" points=\"2095.18,-317.32 2085.29,-313.52 2090.66,-322.66 2095.18,-317.32\"/>\n",
       "</g>\n",
       "<!-- 33 -->\n",
       "<g id=\"node34\" class=\"node\">\n",
       "<title>33</title>\n",
       "<polygon fill=\"#ffffff\" stroke=\"black\" points=\"2413,-313.5 2214,-313.5 2214,-230.5 2413,-230.5 2413,-313.5\"/>\n",
       "<text text-anchor=\"middle\" x=\"2313.5\" y=\"-298.3\" font-family=\"Times,serif\" font-size=\"14.00\">node #33</text>\n",
       "<text text-anchor=\"middle\" x=\"2313.5\" y=\"-283.3\" font-family=\"Times,serif\" font-size=\"14.00\">HIT_AND_RUN_I &lt;= 1.5</text>\n",
       "<text text-anchor=\"middle\" x=\"2313.5\" y=\"-268.3\" font-family=\"Times,serif\" font-size=\"14.00\">gini = 0.5</text>\n",
       "<text text-anchor=\"middle\" x=\"2313.5\" y=\"-253.3\" font-family=\"Times,serif\" font-size=\"14.00\">samples = 2</text>\n",
       "<text text-anchor=\"middle\" x=\"2313.5\" y=\"-238.3\" font-family=\"Times,serif\" font-size=\"14.00\">value = [1, 1]</text>\n",
       "</g>\n",
       "<!-- 27&#45;&gt;33 -->\n",
       "<g id=\"edge33\" class=\"edge\">\n",
       "<title>27&#45;&gt;33</title>\n",
       "<path fill=\"none\" stroke=\"black\" d=\"M2223.38,-349.41C2234.51,-339.97 2246.45,-329.84 2257.89,-320.15\"/>\n",
       "<polygon fill=\"black\" stroke=\"black\" points=\"2260.34,-322.66 2265.71,-313.52 2255.82,-317.32 2260.34,-322.66\"/>\n",
       "</g>\n",
       "<!-- 29 -->\n",
       "<g id=\"node30\" class=\"node\">\n",
       "<title>29</title>\n",
       "<polygon fill=\"#e78d4c\" stroke=\"black\" points=\"2083,-194.5 1766,-194.5 1766,-111.5 2083,-111.5 2083,-194.5\"/>\n",
       "<text text-anchor=\"middle\" x=\"1924.5\" y=\"-179.3\" font-family=\"Times,serif\" font-size=\"14.00\">node #29</text>\n",
       "<text text-anchor=\"middle\" x=\"1924.5\" y=\"-164.3\" font-family=\"Times,serif\" font-size=\"14.00\">PRIM_CONTRIBUTORY_CAUSE &lt;= 25.0</text>\n",
       "<text text-anchor=\"middle\" x=\"1924.5\" y=\"-149.3\" font-family=\"Times,serif\" font-size=\"14.00\">gini = 0.16</text>\n",
       "<text text-anchor=\"middle\" x=\"1924.5\" y=\"-134.3\" font-family=\"Times,serif\" font-size=\"14.00\">samples = 80</text>\n",
       "<text text-anchor=\"middle\" x=\"1924.5\" y=\"-119.3\" font-family=\"Times,serif\" font-size=\"14.00\">value = [73, 7]</text>\n",
       "</g>\n",
       "<!-- 28&#45;&gt;29 -->\n",
       "<g id=\"edge29\" class=\"edge\">\n",
       "<title>28&#45;&gt;29</title>\n",
       "<path fill=\"none\" stroke=\"black\" d=\"M1998.3,-230.41C1989.44,-221.24 1979.96,-211.43 1970.85,-201.99\"/>\n",
       "<polygon fill=\"black\" stroke=\"black\" points=\"1973.1,-199.28 1963.64,-194.52 1968.07,-204.15 1973.1,-199.28\"/>\n",
       "</g>\n",
       "<!-- 32 -->\n",
       "<g id=\"node33\" class=\"node\">\n",
       "<title>32</title>\n",
       "<polygon fill=\"#e58139\" stroke=\"black\" points=\"2172.5,-68 2050.5,-68 2050.5,0 2172.5,0 2172.5,-68\"/>\n",
       "<text text-anchor=\"middle\" x=\"2111.5\" y=\"-52.8\" font-family=\"Times,serif\" font-size=\"14.00\">node #32</text>\n",
       "<text text-anchor=\"middle\" x=\"2111.5\" y=\"-37.8\" font-family=\"Times,serif\" font-size=\"14.00\">gini = 0.0</text>\n",
       "<text text-anchor=\"middle\" x=\"2111.5\" y=\"-22.8\" font-family=\"Times,serif\" font-size=\"14.00\">samples = 54</text>\n",
       "<text text-anchor=\"middle\" x=\"2111.5\" y=\"-7.8\" font-family=\"Times,serif\" font-size=\"14.00\">value = [54, 0]</text>\n",
       "</g>\n",
       "<!-- 28&#45;&gt;32 -->\n",
       "<g id=\"edge32\" class=\"edge\">\n",
       "<title>28&#45;&gt;32</title>\n",
       "<path fill=\"none\" stroke=\"black\" d=\"M2066.4,-230.06C2079.24,-211.87 2091.5,-194.5 2091.5,-194.5 2091.5,-194.5 2100.18,-125.3 2106.1,-78.06\"/>\n",
       "<polygon fill=\"black\" stroke=\"black\" points=\"2109.58,-78.41 2107.36,-68.05 2102.64,-77.54 2109.58,-78.41\"/>\n",
       "</g>\n",
       "<!-- 30 -->\n",
       "<g id=\"node31\" class=\"node\">\n",
       "<title>30</title>\n",
       "<polygon fill=\"#e78a47\" stroke=\"black\" points=\"1900.5,-68 1778.5,-68 1778.5,0 1900.5,0 1900.5,-68\"/>\n",
       "<text text-anchor=\"middle\" x=\"1839.5\" y=\"-52.8\" font-family=\"Times,serif\" font-size=\"14.00\">node #30</text>\n",
       "<text text-anchor=\"middle\" x=\"1839.5\" y=\"-37.8\" font-family=\"Times,serif\" font-size=\"14.00\">gini = 0.124</text>\n",
       "<text text-anchor=\"middle\" x=\"1839.5\" y=\"-22.8\" font-family=\"Times,serif\" font-size=\"14.00\">samples = 75</text>\n",
       "<text text-anchor=\"middle\" x=\"1839.5\" y=\"-7.8\" font-family=\"Times,serif\" font-size=\"14.00\">value = [70, 5]</text>\n",
       "</g>\n",
       "<!-- 29&#45;&gt;30 -->\n",
       "<g id=\"edge30\" class=\"edge\">\n",
       "<title>29&#45;&gt;30</title>\n",
       "<path fill=\"none\" stroke=\"black\" d=\"M1895.01,-111.41C1886.75,-100.04 1877.77,-87.68 1869.49,-76.27\"/>\n",
       "<polygon fill=\"black\" stroke=\"black\" points=\"1872.3,-74.2 1863.6,-68.17 1866.64,-78.31 1872.3,-74.2\"/>\n",
       "</g>\n",
       "<!-- 31 -->\n",
       "<g id=\"node32\" class=\"node\">\n",
       "<title>31</title>\n",
       "<polygon fill=\"#f6d5bd\" stroke=\"black\" points=\"2032,-68 1919,-68 1919,0 2032,0 2032,-68\"/>\n",
       "<text text-anchor=\"middle\" x=\"1975.5\" y=\"-52.8\" font-family=\"Times,serif\" font-size=\"14.00\">node #31</text>\n",
       "<text text-anchor=\"middle\" x=\"1975.5\" y=\"-37.8\" font-family=\"Times,serif\" font-size=\"14.00\">gini = 0.48</text>\n",
       "<text text-anchor=\"middle\" x=\"1975.5\" y=\"-22.8\" font-family=\"Times,serif\" font-size=\"14.00\">samples = 5</text>\n",
       "<text text-anchor=\"middle\" x=\"1975.5\" y=\"-7.8\" font-family=\"Times,serif\" font-size=\"14.00\">value = [3, 2]</text>\n",
       "</g>\n",
       "<!-- 29&#45;&gt;31 -->\n",
       "<g id=\"edge31\" class=\"edge\">\n",
       "<title>29&#45;&gt;31</title>\n",
       "<path fill=\"none\" stroke=\"black\" d=\"M1942.19,-111.41C1946.96,-100.48 1952.12,-88.64 1956.93,-77.61\"/>\n",
       "<polygon fill=\"black\" stroke=\"black\" points=\"1960.26,-78.73 1961.04,-68.17 1953.84,-75.94 1960.26,-78.73\"/>\n",
       "</g>\n",
       "<!-- 34 -->\n",
       "<g id=\"node35\" class=\"node\">\n",
       "<title>34</title>\n",
       "<polygon fill=\"#e58139\" stroke=\"black\" points=\"2304,-68 2191,-68 2191,0 2304,0 2304,-68\"/>\n",
       "<text text-anchor=\"middle\" x=\"2247.5\" y=\"-52.8\" font-family=\"Times,serif\" font-size=\"14.00\">node #34</text>\n",
       "<text text-anchor=\"middle\" x=\"2247.5\" y=\"-37.8\" font-family=\"Times,serif\" font-size=\"14.00\">gini = 0.0</text>\n",
       "<text text-anchor=\"middle\" x=\"2247.5\" y=\"-22.8\" font-family=\"Times,serif\" font-size=\"14.00\">samples = 1</text>\n",
       "<text text-anchor=\"middle\" x=\"2247.5\" y=\"-7.8\" font-family=\"Times,serif\" font-size=\"14.00\">value = [1, 0]</text>\n",
       "</g>\n",
       "<!-- 33&#45;&gt;34 -->\n",
       "<g id=\"edge34\" class=\"edge\">\n",
       "<title>33&#45;&gt;34</title>\n",
       "<path fill=\"none\" stroke=\"black\" d=\"M2302.15,-230.43C2290.26,-187.88 2271.63,-121.29 2259.49,-77.89\"/>\n",
       "<polygon fill=\"black\" stroke=\"black\" points=\"2262.85,-76.88 2256.78,-68.19 2256.11,-78.76 2262.85,-76.88\"/>\n",
       "</g>\n",
       "<!-- 35 -->\n",
       "<g id=\"node36\" class=\"node\">\n",
       "<title>35</title>\n",
       "<polygon fill=\"#399de5\" stroke=\"black\" points=\"2435,-68 2322,-68 2322,0 2435,0 2435,-68\"/>\n",
       "<text text-anchor=\"middle\" x=\"2378.5\" y=\"-52.8\" font-family=\"Times,serif\" font-size=\"14.00\">node #35</text>\n",
       "<text text-anchor=\"middle\" x=\"2378.5\" y=\"-37.8\" font-family=\"Times,serif\" font-size=\"14.00\">gini = 0.0</text>\n",
       "<text text-anchor=\"middle\" x=\"2378.5\" y=\"-22.8\" font-family=\"Times,serif\" font-size=\"14.00\">samples = 1</text>\n",
       "<text text-anchor=\"middle\" x=\"2378.5\" y=\"-7.8\" font-family=\"Times,serif\" font-size=\"14.00\">value = [0, 1]</text>\n",
       "</g>\n",
       "<!-- 33&#45;&gt;35 -->\n",
       "<g id=\"edge35\" class=\"edge\">\n",
       "<title>33&#45;&gt;35</title>\n",
       "<path fill=\"none\" stroke=\"black\" d=\"M2324.67,-230.43C2336.39,-187.88 2354.73,-121.29 2366.69,-77.89\"/>\n",
       "<polygon fill=\"black\" stroke=\"black\" points=\"2370.08,-78.76 2369.36,-68.19 2363.33,-76.9 2370.08,-78.76\"/>\n",
       "</g>\n",
       "<!-- 37 -->\n",
       "<g id=\"node38\" class=\"node\">\n",
       "<title>37</title>\n",
       "<polygon fill=\"#e58139\" stroke=\"black\" points=\"2901,-313.5 2584,-313.5 2584,-230.5 2901,-230.5 2901,-313.5\"/>\n",
       "<text text-anchor=\"middle\" x=\"2742.5\" y=\"-298.3\" font-family=\"Times,serif\" font-size=\"14.00\">node #37</text>\n",
       "<text text-anchor=\"middle\" x=\"2742.5\" y=\"-283.3\" font-family=\"Times,serif\" font-size=\"14.00\">PRIM_CONTRIBUTORY_CAUSE &lt;= 18.5</text>\n",
       "<text text-anchor=\"middle\" x=\"2742.5\" y=\"-268.3\" font-family=\"Times,serif\" font-size=\"14.00\">gini = 0.0</text>\n",
       "<text text-anchor=\"middle\" x=\"2742.5\" y=\"-253.3\" font-family=\"Times,serif\" font-size=\"14.00\">samples = 235368</text>\n",
       "<text text-anchor=\"middle\" x=\"2742.5\" y=\"-238.3\" font-family=\"Times,serif\" font-size=\"14.00\">value = [235340, 28]</text>\n",
       "</g>\n",
       "<!-- 36&#45;&gt;37 -->\n",
       "<g id=\"edge37\" class=\"edge\">\n",
       "<title>36&#45;&gt;37</title>\n",
       "<path fill=\"none\" stroke=\"black\" d=\"M2742.5,-349.41C2742.5,-341.15 2742.5,-332.36 2742.5,-323.8\"/>\n",
       "<polygon fill=\"black\" stroke=\"black\" points=\"2746,-323.52 2742.5,-313.52 2739,-323.52 2746,-323.52\"/>\n",
       "</g>\n",
       "<!-- 42 -->\n",
       "<g id=\"node43\" class=\"node\">\n",
       "<title>42</title>\n",
       "<polygon fill=\"#e58139\" stroke=\"black\" points=\"3194.5,-313.5 2946.5,-313.5 2946.5,-230.5 3194.5,-230.5 3194.5,-313.5\"/>\n",
       "<text text-anchor=\"middle\" x=\"3070.5\" y=\"-298.3\" font-family=\"Times,serif\" font-size=\"14.00\">node #42</text>\n",
       "<text text-anchor=\"middle\" x=\"3070.5\" y=\"-283.3\" font-family=\"Times,serif\" font-size=\"14.00\">NOT_RIGHT_OF_WAY_I &lt;= 0.5</text>\n",
       "<text text-anchor=\"middle\" x=\"3070.5\" y=\"-268.3\" font-family=\"Times,serif\" font-size=\"14.00\">gini = 0.001</text>\n",
       "<text text-anchor=\"middle\" x=\"3070.5\" y=\"-253.3\" font-family=\"Times,serif\" font-size=\"14.00\">samples = 219863</text>\n",
       "<text text-anchor=\"middle\" x=\"3070.5\" y=\"-238.3\" font-family=\"Times,serif\" font-size=\"14.00\">value = [219767, 96]</text>\n",
       "</g>\n",
       "<!-- 36&#45;&gt;42 -->\n",
       "<g id=\"edge42\" class=\"edge\">\n",
       "<title>36&#45;&gt;42</title>\n",
       "<path fill=\"none\" stroke=\"black\" d=\"M2856.3,-349.41C2885.68,-338.93 2917.45,-327.6 2947.29,-316.95\"/>\n",
       "<polygon fill=\"black\" stroke=\"black\" points=\"2948.66,-320.18 2956.9,-313.52 2946.31,-313.58 2948.66,-320.18\"/>\n",
       "</g>\n",
       "<!-- 38 -->\n",
       "<g id=\"node39\" class=\"node\">\n",
       "<title>38</title>\n",
       "<polygon fill=\"#e58139\" stroke=\"black\" points=\"2808,-194.5 2609,-194.5 2609,-111.5 2808,-111.5 2808,-194.5\"/>\n",
       "<text text-anchor=\"middle\" x=\"2708.5\" y=\"-179.3\" font-family=\"Times,serif\" font-size=\"14.00\">node #38</text>\n",
       "<text text-anchor=\"middle\" x=\"2708.5\" y=\"-164.3\" font-family=\"Times,serif\" font-size=\"14.00\">HIT_AND_RUN_I &lt;= 1.5</text>\n",
       "<text text-anchor=\"middle\" x=\"2708.5\" y=\"-149.3\" font-family=\"Times,serif\" font-size=\"14.00\">gini = 0.0</text>\n",
       "<text text-anchor=\"middle\" x=\"2708.5\" y=\"-134.3\" font-family=\"Times,serif\" font-size=\"14.00\">samples = 114486</text>\n",
       "<text text-anchor=\"middle\" x=\"2708.5\" y=\"-119.3\" font-family=\"Times,serif\" font-size=\"14.00\">value = [114458, 28]</text>\n",
       "</g>\n",
       "<!-- 37&#45;&gt;38 -->\n",
       "<g id=\"edge38\" class=\"edge\">\n",
       "<title>37&#45;&gt;38</title>\n",
       "<path fill=\"none\" stroke=\"black\" d=\"M2730.7,-230.41C2728.25,-221.97 2725.64,-212.98 2723.1,-204.24\"/>\n",
       "<polygon fill=\"black\" stroke=\"black\" points=\"2726.43,-203.15 2720.28,-194.52 2719.7,-205.1 2726.43,-203.15\"/>\n",
       "</g>\n",
       "<!-- 41 -->\n",
       "<g id=\"node42\" class=\"node\">\n",
       "<title>41</title>\n",
       "<polygon fill=\"#e58139\" stroke=\"black\" points=\"2963.5,-68 2805.5,-68 2805.5,0 2963.5,0 2963.5,-68\"/>\n",
       "<text text-anchor=\"middle\" x=\"2884.5\" y=\"-52.8\" font-family=\"Times,serif\" font-size=\"14.00\">node #41</text>\n",
       "<text text-anchor=\"middle\" x=\"2884.5\" y=\"-37.8\" font-family=\"Times,serif\" font-size=\"14.00\">gini = 0.0</text>\n",
       "<text text-anchor=\"middle\" x=\"2884.5\" y=\"-22.8\" font-family=\"Times,serif\" font-size=\"14.00\">samples = 120882</text>\n",
       "<text text-anchor=\"middle\" x=\"2884.5\" y=\"-7.8\" font-family=\"Times,serif\" font-size=\"14.00\">value = [120882, 0]</text>\n",
       "</g>\n",
       "<!-- 37&#45;&gt;41 -->\n",
       "<g id=\"edge41\" class=\"edge\">\n",
       "<title>37&#45;&gt;41</title>\n",
       "<path fill=\"none\" stroke=\"black\" d=\"M2782.1,-230.06C2799.69,-211.87 2816.5,-194.5 2816.5,-194.5 2816.5,-194.5 2846.25,-124.71 2866.4,-77.46\"/>\n",
       "<polygon fill=\"black\" stroke=\"black\" points=\"2869.71,-78.62 2870.41,-68.05 2863.27,-75.87 2869.71,-78.62\"/>\n",
       "</g>\n",
       "<!-- 39 -->\n",
       "<g id=\"node40\" class=\"node\">\n",
       "<title>39</title>\n",
       "<polygon fill=\"#e58139\" stroke=\"black\" points=\"2611.5,-68 2453.5,-68 2453.5,0 2611.5,0 2611.5,-68\"/>\n",
       "<text text-anchor=\"middle\" x=\"2532.5\" y=\"-52.8\" font-family=\"Times,serif\" font-size=\"14.00\">node #39</text>\n",
       "<text text-anchor=\"middle\" x=\"2532.5\" y=\"-37.8\" font-family=\"Times,serif\" font-size=\"14.00\">gini = 0.0</text>\n",
       "<text text-anchor=\"middle\" x=\"2532.5\" y=\"-22.8\" font-family=\"Times,serif\" font-size=\"14.00\">samples = 92004</text>\n",
       "<text text-anchor=\"middle\" x=\"2532.5\" y=\"-7.8\" font-family=\"Times,serif\" font-size=\"14.00\">value = [91990, 14]</text>\n",
       "</g>\n",
       "<!-- 38&#45;&gt;39 -->\n",
       "<g id=\"edge39\" class=\"edge\">\n",
       "<title>38&#45;&gt;39</title>\n",
       "<path fill=\"none\" stroke=\"black\" d=\"M2647.44,-111.41C2629.18,-99.27 2609.21,-85.99 2591.11,-73.96\"/>\n",
       "<polygon fill=\"black\" stroke=\"black\" points=\"2592.66,-70.79 2582.39,-68.17 2588.78,-76.62 2592.66,-70.79\"/>\n",
       "</g>\n",
       "<!-- 40 -->\n",
       "<g id=\"node41\" class=\"node\">\n",
       "<title>40</title>\n",
       "<polygon fill=\"#e58139\" stroke=\"black\" points=\"2787.5,-68 2629.5,-68 2629.5,0 2787.5,0 2787.5,-68\"/>\n",
       "<text text-anchor=\"middle\" x=\"2708.5\" y=\"-52.8\" font-family=\"Times,serif\" font-size=\"14.00\">node #40</text>\n",
       "<text text-anchor=\"middle\" x=\"2708.5\" y=\"-37.8\" font-family=\"Times,serif\" font-size=\"14.00\">gini = 0.001</text>\n",
       "<text text-anchor=\"middle\" x=\"2708.5\" y=\"-22.8\" font-family=\"Times,serif\" font-size=\"14.00\">samples = 22482</text>\n",
       "<text text-anchor=\"middle\" x=\"2708.5\" y=\"-7.8\" font-family=\"Times,serif\" font-size=\"14.00\">value = [22468, 14]</text>\n",
       "</g>\n",
       "<!-- 38&#45;&gt;40 -->\n",
       "<g id=\"edge40\" class=\"edge\">\n",
       "<title>38&#45;&gt;40</title>\n",
       "<path fill=\"none\" stroke=\"black\" d=\"M2708.5,-111.41C2708.5,-100.7 2708.5,-89.12 2708.5,-78.28\"/>\n",
       "<polygon fill=\"black\" stroke=\"black\" points=\"2712,-78.17 2708.5,-68.17 2705,-78.17 2712,-78.17\"/>\n",
       "</g>\n",
       "<!-- 43 -->\n",
       "<g id=\"node44\" class=\"node\">\n",
       "<title>43</title>\n",
       "<polygon fill=\"#e5813a\" stroke=\"black\" points=\"3229,-194.5 2912,-194.5 2912,-111.5 3229,-111.5 3229,-194.5\"/>\n",
       "<text text-anchor=\"middle\" x=\"3070.5\" y=\"-179.3\" font-family=\"Times,serif\" font-size=\"14.00\">node #43</text>\n",
       "<text text-anchor=\"middle\" x=\"3070.5\" y=\"-164.3\" font-family=\"Times,serif\" font-size=\"14.00\">PRIM_CONTRIBUTORY_CAUSE &lt;= 27.0</text>\n",
       "<text text-anchor=\"middle\" x=\"3070.5\" y=\"-149.3\" font-family=\"Times,serif\" font-size=\"14.00\">gini = 0.008</text>\n",
       "<text text-anchor=\"middle\" x=\"3070.5\" y=\"-134.3\" font-family=\"Times,serif\" font-size=\"14.00\">samples = 1047</text>\n",
       "<text text-anchor=\"middle\" x=\"3070.5\" y=\"-119.3\" font-family=\"Times,serif\" font-size=\"14.00\">value = [1043, 4]</text>\n",
       "</g>\n",
       "<!-- 42&#45;&gt;43 -->\n",
       "<g id=\"edge43\" class=\"edge\">\n",
       "<title>42&#45;&gt;43</title>\n",
       "<path fill=\"none\" stroke=\"black\" d=\"M3070.5,-230.41C3070.5,-222.15 3070.5,-213.36 3070.5,-204.8\"/>\n",
       "<polygon fill=\"black\" stroke=\"black\" points=\"3074,-204.52 3070.5,-194.52 3067,-204.52 3074,-204.52\"/>\n",
       "</g>\n",
       "<!-- 46 -->\n",
       "<g id=\"node47\" class=\"node\">\n",
       "<title>46</title>\n",
       "<polygon fill=\"#e58139\" stroke=\"black\" points=\"3468,-194.5 3247,-194.5 3247,-111.5 3468,-111.5 3468,-194.5\"/>\n",
       "<text text-anchor=\"middle\" x=\"3357.5\" y=\"-179.3\" font-family=\"Times,serif\" font-size=\"14.00\">node #46</text>\n",
       "<text text-anchor=\"middle\" x=\"3357.5\" y=\"-164.3\" font-family=\"Times,serif\" font-size=\"14.00\">TRAFFICWAY_TYPE &lt;= 0.5</text>\n",
       "<text text-anchor=\"middle\" x=\"3357.5\" y=\"-149.3\" font-family=\"Times,serif\" font-size=\"14.00\">gini = 0.001</text>\n",
       "<text text-anchor=\"middle\" x=\"3357.5\" y=\"-134.3\" font-family=\"Times,serif\" font-size=\"14.00\">samples = 218816</text>\n",
       "<text text-anchor=\"middle\" x=\"3357.5\" y=\"-119.3\" font-family=\"Times,serif\" font-size=\"14.00\">value = [218724, 92]</text>\n",
       "</g>\n",
       "<!-- 42&#45;&gt;46 -->\n",
       "<g id=\"edge46\" class=\"edge\">\n",
       "<title>42&#45;&gt;46</title>\n",
       "<path fill=\"none\" stroke=\"black\" d=\"M3170.07,-230.41C3195.45,-220.06 3222.86,-208.89 3248.67,-198.37\"/>\n",
       "<polygon fill=\"black\" stroke=\"black\" points=\"3250.16,-201.54 3258.1,-194.52 3247.52,-195.05 3250.16,-201.54\"/>\n",
       "</g>\n",
       "<!-- 44 -->\n",
       "<g id=\"node45\" class=\"node\">\n",
       "<title>44</title>\n",
       "<polygon fill=\"#e5833c\" stroke=\"black\" points=\"3117,-68 2986,-68 2986,0 3117,0 3117,-68\"/>\n",
       "<text text-anchor=\"middle\" x=\"3051.5\" y=\"-52.8\" font-family=\"Times,serif\" font-size=\"14.00\">node #44</text>\n",
       "<text text-anchor=\"middle\" x=\"3051.5\" y=\"-37.8\" font-family=\"Times,serif\" font-size=\"14.00\">gini = 0.027</text>\n",
       "<text text-anchor=\"middle\" x=\"3051.5\" y=\"-22.8\" font-family=\"Times,serif\" font-size=\"14.00\">samples = 146</text>\n",
       "<text text-anchor=\"middle\" x=\"3051.5\" y=\"-7.8\" font-family=\"Times,serif\" font-size=\"14.00\">value = [144, 2]</text>\n",
       "</g>\n",
       "<!-- 43&#45;&gt;44 -->\n",
       "<g id=\"edge44\" class=\"edge\">\n",
       "<title>43&#45;&gt;44</title>\n",
       "<path fill=\"none\" stroke=\"black\" d=\"M3063.91,-111.41C3062.17,-100.7 3060.29,-89.12 3058.53,-78.28\"/>\n",
       "<polygon fill=\"black\" stroke=\"black\" points=\"3061.94,-77.48 3056.89,-68.17 3055.03,-78.6 3061.94,-77.48\"/>\n",
       "</g>\n",
       "<!-- 45 -->\n",
       "<g id=\"node46\" class=\"node\">\n",
       "<title>45</title>\n",
       "<polygon fill=\"#e58139\" stroke=\"black\" points=\"3266,-68 3135,-68 3135,0 3266,0 3266,-68\"/>\n",
       "<text text-anchor=\"middle\" x=\"3200.5\" y=\"-52.8\" font-family=\"Times,serif\" font-size=\"14.00\">node #45</text>\n",
       "<text text-anchor=\"middle\" x=\"3200.5\" y=\"-37.8\" font-family=\"Times,serif\" font-size=\"14.00\">gini = 0.004</text>\n",
       "<text text-anchor=\"middle\" x=\"3200.5\" y=\"-22.8\" font-family=\"Times,serif\" font-size=\"14.00\">samples = 901</text>\n",
       "<text text-anchor=\"middle\" x=\"3200.5\" y=\"-7.8\" font-family=\"Times,serif\" font-size=\"14.00\">value = [899, 2]</text>\n",
       "</g>\n",
       "<!-- 43&#45;&gt;45 -->\n",
       "<g id=\"edge45\" class=\"edge\">\n",
       "<title>43&#45;&gt;45</title>\n",
       "<path fill=\"none\" stroke=\"black\" d=\"M3115.6,-111.41C3128.72,-99.6 3143.04,-86.72 3156.11,-74.95\"/>\n",
       "<polygon fill=\"black\" stroke=\"black\" points=\"3158.56,-77.46 3163.65,-68.17 3153.87,-72.26 3158.56,-77.46\"/>\n",
       "</g>\n",
       "<!-- 47 -->\n",
       "<g id=\"node48\" class=\"node\">\n",
       "<title>47</title>\n",
       "<polygon fill=\"#e58139\" stroke=\"black\" points=\"3426.5,-68 3286.5,-68 3286.5,0 3426.5,0 3426.5,-68\"/>\n",
       "<text text-anchor=\"middle\" x=\"3356.5\" y=\"-52.8\" font-family=\"Times,serif\" font-size=\"14.00\">node #47</text>\n",
       "<text text-anchor=\"middle\" x=\"3356.5\" y=\"-37.8\" font-family=\"Times,serif\" font-size=\"14.00\">gini = 0.004</text>\n",
       "<text text-anchor=\"middle\" x=\"3356.5\" y=\"-22.8\" font-family=\"Times,serif\" font-size=\"14.00\">samples = 4462</text>\n",
       "<text text-anchor=\"middle\" x=\"3356.5\" y=\"-7.8\" font-family=\"Times,serif\" font-size=\"14.00\">value = [4454, 8]</text>\n",
       "</g>\n",
       "<!-- 46&#45;&gt;47 -->\n",
       "<g id=\"edge47\" class=\"edge\">\n",
       "<title>46&#45;&gt;47</title>\n",
       "<path fill=\"none\" stroke=\"black\" d=\"M3357.15,-111.41C3357.06,-100.7 3356.96,-89.12 3356.87,-78.28\"/>\n",
       "<polygon fill=\"black\" stroke=\"black\" points=\"3360.37,-78.14 3356.78,-68.17 3353.37,-78.2 3360.37,-78.14\"/>\n",
       "</g>\n",
       "<!-- 48 -->\n",
       "<g id=\"node49\" class=\"node\">\n",
       "<title>48</title>\n",
       "<polygon fill=\"#e58139\" stroke=\"black\" points=\"3612,-68 3445,-68 3445,0 3612,0 3612,-68\"/>\n",
       "<text text-anchor=\"middle\" x=\"3528.5\" y=\"-52.8\" font-family=\"Times,serif\" font-size=\"14.00\">node #48</text>\n",
       "<text text-anchor=\"middle\" x=\"3528.5\" y=\"-37.8\" font-family=\"Times,serif\" font-size=\"14.00\">gini = 0.001</text>\n",
       "<text text-anchor=\"middle\" x=\"3528.5\" y=\"-22.8\" font-family=\"Times,serif\" font-size=\"14.00\">samples = 214354</text>\n",
       "<text text-anchor=\"middle\" x=\"3528.5\" y=\"-7.8\" font-family=\"Times,serif\" font-size=\"14.00\">value = [214270, 84]</text>\n",
       "</g>\n",
       "<!-- 46&#45;&gt;48 -->\n",
       "<g id=\"edge48\" class=\"edge\">\n",
       "<title>46&#45;&gt;48</title>\n",
       "<path fill=\"none\" stroke=\"black\" d=\"M3416.83,-111.41C3434.57,-99.27 3453.97,-85.99 3471.55,-73.96\"/>\n",
       "<polygon fill=\"black\" stroke=\"black\" points=\"3473.75,-76.7 3480.03,-68.17 3469.8,-70.93 3473.75,-76.7\"/>\n",
       "</g>\n",
       "</g>\n",
       "</svg>\n"
      ],
      "text/plain": [
       "<graphviz.sources.Source at 0x7f5dbecd1ca0>"
      ]
     },
     "execution_count": 40,
     "metadata": {},
     "output_type": "execute_result"
    }
   ],
   "source": [
    "data_model_2 = DecisionTreeClassifier(random_state=1, max_depth=5)\n",
    "data_model_2.fit(X_train, y_train)\n",
    "plot_tree(data_model_2, X.columns.tolist())"
   ]
  },
  {
   "cell_type": "markdown",
   "id": "472eed76",
   "metadata": {},
   "source": [
    "### Decision Tree Classifier ('REAR END') with Parameters"
   ]
  },
  {
   "cell_type": "code",
   "execution_count": 41,
   "id": "c4395a2c",
   "metadata": {},
   "outputs": [],
   "source": [
    "data_model_2 = DecisionTreeClassifier(random_state=10, max_depth=10, max_leaf_nodes=30)\n",
    "X_train, X_test, y_train, y_test = train_test_split(X, y, test_size=0.2, random_state=42, stratify=y)"
   ]
  },
  {
   "cell_type": "code",
   "execution_count": 42,
   "id": "de2ea994",
   "metadata": {
    "scrolled": true
   },
   "outputs": [
    {
     "data": {
      "text/plain": [
       "DecisionTreeClassifier(max_depth=10, max_leaf_nodes=30, random_state=10)"
      ]
     },
     "execution_count": 42,
     "metadata": {},
     "output_type": "execute_result"
    }
   ],
   "source": [
    "data_model_2.fit(X_train, y_train)"
   ]
  },
  {
   "cell_type": "code",
   "execution_count": 43,
   "id": "169768c8",
   "metadata": {
    "scrolled": false
   },
   "outputs": [
    {
     "name": "stdout",
     "output_type": "stream",
     "text": [
      "Accuracy Score Train: 0.999488766017202\n",
      "Accuracy Score Test: 0.9993593119185536\n",
      "ROC_AUC Test: 0.6624165642016512\n"
     ]
    }
   ],
   "source": [
    "y_train_pred_2 = data_model_2.predict(X_train)\n",
    "y_test_pred_2 = data_model_2.predict(X_test)\n",
    "print(f'Accuracy Score Train: {accuracy_score(y_train, y_train_pred_2)}')\n",
    "print(f'Accuracy Score Test: {accuracy_score(y_test, y_test_pred_2)}')\n",
    "print(f'ROC_AUC Test: {roc_auc_score(y_test, y_test_pred_2)}')"
   ]
  },
  {
   "cell_type": "markdown",
   "id": "df81ede1",
   "metadata": {},
   "source": [
    "<h3>\n",
    "    <ul>\n",
    "        <li>As we can see, Vanilla - Decision Tree model did better than Decision Tree Classifier</li>\n",
    "    </ul>\n",
    "</h3>"
   ]
  },
  {
   "cell_type": "markdown",
   "id": "b4d4764c",
   "metadata": {},
   "source": [
    "## Random Forest "
   ]
  },
  {
   "cell_type": "markdown",
   "id": "cd58e813",
   "metadata": {},
   "source": [
    "### Vanilla - Random Forest Classifier : REAR_END (minor parameter changes)"
   ]
  },
  {
   "cell_type": "code",
   "execution_count": 44,
   "id": "187b4e4b",
   "metadata": {},
   "outputs": [
    {
     "data": {
      "text/plain": [
       "RandomForestClassifier(class_weight='balanced', random_state=1)"
      ]
     },
     "execution_count": 44,
     "metadata": {},
     "output_type": "execute_result"
    }
   ],
   "source": [
    "random_forest = RandomForestClassifier(class_weight='balanced', random_state=1)\n",
    "X_train, X_test, y_train, y_test = train_test_split(X, y, test_size=0.20, random_state=42, stratify=y)\n",
    "random_forest.fit(X_train, y_train)"
   ]
  },
  {
   "cell_type": "code",
   "execution_count": 45,
   "id": "0d974583",
   "metadata": {},
   "outputs": [],
   "source": [
    "y_train_pred = random_forest.predict(X_train)\n",
    "y_test_pred = random_forest.predict(X_test)"
   ]
  },
  {
   "cell_type": "code",
   "execution_count": 46,
   "id": "d91f1ad5",
   "metadata": {
    "scrolled": true
   },
   "outputs": [
    {
     "name": "stdout",
     "output_type": "stream",
     "text": [
      "Accuracy Score Train: 0.9581161137440758\n",
      "Accuracy Score Test: 0.9565824117956819\n",
      "ROC_AUC Test: 0.6847323467416125\n"
     ]
    }
   ],
   "source": [
    "print(f'Accuracy Score Train: {accuracy_score(y_train, y_train_pred)}')\n",
    "print(f'Accuracy Score Test: {accuracy_score(y_test, y_test_pred)}')\n",
    "print(f'ROC_AUC Test: {roc_auc_score(y_test, y_test_pred)}')"
   ]
  },
  {
   "cell_type": "markdown",
   "id": "e21b02bd",
   "metadata": {},
   "source": [
    "### Random Forest Classifier - Feature Importance"
   ]
  },
  {
   "cell_type": "code",
   "execution_count": 47,
   "id": "c9f53aee",
   "metadata": {},
   "outputs": [
    {
     "name": "stdout",
     "output_type": "stream",
     "text": [
      "Feature ranking:\n",
      "1. feature 11 (0.463557)\n",
      "2. feature 12 (0.139815)\n",
      "3. feature 4 (0.105621)\n",
      "4. feature 3 (0.052248)\n",
      "5. feature 0 (0.046667)\n",
      "6. feature 10 (0.041431)\n",
      "7. feature 2 (0.026508)\n",
      "8. feature 1 (0.025470)\n",
      "9. feature 6 (0.024598)\n",
      "10. feature 8 (0.022451)\n",
      "11. feature 9 (0.020529)\n",
      "12. feature 7 (0.019096)\n",
      "13. feature 5 (0.010007)\n",
      "14. feature 14 (0.001471)\n",
      "15. feature 13 (0.000453)\n",
      "16. feature 15 (0.000078)\n"
     ]
    },
    {
     "data": {
      "image/png": "[encoded data removed]",
      "text/plain": [
       "<Figure size 432x288 with 1 Axes>"
      ]
     },
     "metadata": {
      "needs_background": "light"
     },
     "output_type": "display_data"
    }
   ],
   "source": [
    "importances = random_forest.feature_importances_\n",
    "indices = np.argsort(importances)[::-1]\n",
    "\n",
    "# Print the feature ranking\n",
    "print(\"Feature ranking:\")\n",
    "\n",
    "for f in range(X.shape[1]):\n",
    "    print(\"%d. feature %d (%f)\" % (f + 1, indices[f], importances[indices[f]]))\n",
    "\n",
    "# Plot the feature importances of the forest\n",
    "plt.figure()\n",
    "plt.title(\"RandomForest Feature importances\")\n",
    "plt.bar(range(X.shape[1]), importances[indices],\n",
    "       color=\"r\", align=\"center\")\n",
    "plt.xticks(range(X.shape[1]), indices)\n",
    "plt.xlim([-1, X.shape[1]])\n",
    "plt.show()"
   ]
  },
  {
   "cell_type": "markdown",
   "id": "4b03d407",
   "metadata": {},
   "source": [
    "### Logistic Regression\n",
    "<ul>\n",
    "    <li>Accuracy Score Train: 0.5011080393189398</li> \n",
    "    <li>Accuracy Score Test: 0.4982183605406354</li>\n",
    "    <li>ROC_AUC Test: 0.5678102494291235</li>\n",
    "</ul>\n",
    "\n",
    "### Vanilla - Decision Tree Classifier\n",
    "<ul>\n",
    "    <li>Accuracy Score Train: 0.9996379673512374</li>\n",
    "    <li>Accuracy Score Test: 0.9993154291732491</li>\n",
    "    <li>ROC_AUC Test: 0.6686402160548042</li>\n",
    "</ul>\n",
    "\n",
    "### Decision Tree Classifier\n",
    "<ul>\n",
    "    <li>Accuracy Score Train: 0.999488766017202</li>\n",
    "    <li>Accuracy Score Test: 0.9993593119185536</li>\n",
    "    <li>ROC_AUC Test: 0.6624165642016512</li>\n",
    "</ul>\n",
    "\n",
    "### Vanilla - Random Forest Classifier\n",
    "<ul>\n",
    "    <li>Accuracy Score Train: 0.9581161137440758</li>\n",
    "    <li>Accuracy Score Test: 0.9565824117956819</li>\n",
    "    <li>ROC_AUC Test: 0.6847323467416125</li>\n",
    "</ul>\n",
    "\n",
    "Since, ROC_AUC Score of Vanilla - Random Forest Classifier is highest\n",
    "\n",
    "### So, we will making GridSearch for Random Forest Classifier\n",
    "<br>"
   ]
  },
  {
   "cell_type": "markdown",
   "id": "f15fc073",
   "metadata": {},
   "source": [
    "### Random Forest Classifier - Hyperparameters (GridSearchCV)"
   ]
  },
  {
   "cell_type": "code",
   "execution_count": 48,
   "id": "1d005112",
   "metadata": {},
   "outputs": [
    {
     "data": {
      "text/plain": [
       "GridSearchCV(cv=3,\n",
       "             estimator=RandomForestClassifier(class_weight='balanced',\n",
       "                                              random_state=1),\n",
       "             n_jobs=-1,\n",
       "             param_grid={'criterion': ['gini', 'entropy'],\n",
       "                         'max_depth': [4, 6, 10], 'max_samples': [400],\n",
       "                         'min_samples_leaf': [5, 10],\n",
       "                         'min_samples_split': [5, 10],\n",
       "                         'n_estimators': [50, 100]},\n",
       "             scoring='roc_auc')"
      ]
     },
     "execution_count": 48,
     "metadata": {},
     "output_type": "execute_result"
    }
   ],
   "source": [
    "grid_params = {\"n_estimators\": [50, 100],\n",
    "          \"criterion\": [\"gini\", \"entropy\"],\n",
    "          \"max_depth\": [4, 6, 10],\n",
    "          \"min_samples_split\": [5, 10],\n",
    "          \"min_samples_leaf\": [5, 10],\n",
    "         \"max_samples\": [400]}\n",
    "\n",
    "grid_search = GridSearchCV(random_forest, grid_params, n_jobs=-1, cv=3, scoring='roc_auc')\n",
    "grid_search.fit(X_train, y_train)"
   ]
  },
  {
   "cell_type": "code",
   "execution_count": 49,
   "id": "c99990cd",
   "metadata": {},
   "outputs": [
    {
     "data": {
      "text/plain": [
       "{'criterion': 'entropy',\n",
       " 'max_depth': 10,\n",
       " 'max_samples': 400,\n",
       " 'min_samples_leaf': 5,\n",
       " 'min_samples_split': 5,\n",
       " 'n_estimators': 100}"
      ]
     },
     "execution_count": 49,
     "metadata": {},
     "output_type": "execute_result"
    }
   ],
   "source": [
    "grid_search.best_params_"
   ]
  },
  {
   "cell_type": "code",
   "execution_count": 50,
   "id": "8a799f5c",
   "metadata": {},
   "outputs": [
    {
     "data": {
      "text/plain": [
       "0.8290781329331086"
      ]
     },
     "execution_count": 50,
     "metadata": {},
     "output_type": "execute_result"
    }
   ],
   "source": [
    "grid_search.best_score_"
   ]
  },
  {
   "cell_type": "markdown",
   "id": "94f38cec",
   "metadata": {},
   "source": [
    "<h3>\n",
    "    <ul>\n",
    "        <li>ROC_AUC SCORE = 0.8290781329331086</li>\n",
    "    </ul>\n",
    "</h3>"
   ]
  },
  {
   "cell_type": "markdown",
   "id": "43ea24ad",
   "metadata": {},
   "source": [
    "## Data Visual : Rear End Crashes"
   ]
  },
  {
   "cell_type": "code",
   "execution_count": 51,
   "id": "6c7768b2",
   "metadata": {},
   "outputs": [
    {
     "data": {
      "text/plain": [
       "NOT DIVIDED                        252277\n",
       "DIVIDED - W/MEDIAN (NOT RAISED)     97772\n",
       "ONE-WAY                             75072\n",
       "PARKING LOT                         39812\n",
       "DIVIDED - W/MEDIAN BARRIER          33603\n",
       "FOUR WAY                            23102\n",
       "OTHER                               15913\n",
       "ALLEY                                9345\n",
       "UNKNOWN                              6280\n",
       "T-INTERSECTION                       4914\n",
       "CENTER TURN LANE                     4591\n",
       "DRIVEWAY                             1948\n",
       "RAMP                                 1787\n",
       "UNKNOWN INTERSECTION TYPE            1286\n",
       "FIVE POINT, OR MORE                   571\n",
       "Y-INTERSECTION                        563\n",
       "TRAFFIC ROUTE                         434\n",
       "NOT REPORTED                          212\n",
       "ROUNDABOUT                            139\n",
       "L-INTERSECTION                         79\n",
       "Name: TRAFFICWAY_TYPE, dtype: int64"
      ]
     },
     "execution_count": 51,
     "metadata": {},
     "output_type": "execute_result"
    }
   ],
   "source": [
    "data_frame['TRAFFICWAY_TYPE'].value_counts()"
   ]
  },
  {
   "cell_type": "code",
   "execution_count": 52,
   "id": "bd2b47cb",
   "metadata": {},
   "outputs": [
    {
     "data": {
      "text/plain": [
       "UNABLE TO DETERMINE                                                                 214263\n",
       "FAILING TO YIELD RIGHT-OF-WAY                                                        62279\n",
       "FOLLOWING TOO CLOSELY                                                                58620\n",
       "NOT APPLICABLE                                                                       30562\n",
       "IMPROPER OVERTAKING/PASSING                                                          27224\n",
       "FAILING TO REDUCE SPEED TO AVOID CRASH                                               24670\n",
       "IMPROPER BACKING                                                                     24192\n",
       "IMPROPER LANE USAGE                                                                  21560\n",
       "IMPROPER TURNING/NO SIGNAL                                                           18813\n",
       "DRIVING SKILLS/KNOWLEDGE/EXPERIENCE                                                  18082\n",
       "DISREGARDING TRAFFIC SIGNALS                                                         10739\n",
       "WEATHER                                                                               9035\n",
       "OPERATING VEHICLE IN ERRATIC, RECKLESS, CARELESS, NEGLIGENT OR AGGRESSIVE MANNER      7294\n",
       "DISREGARDING STOP SIGN                                                                6422\n",
       "DISTRACTION - FROM INSIDE VEHICLE                                                     4121\n",
       "EQUIPMENT - VEHICLE CONDITION                                                         3649\n",
       "PHYSICAL CONDITION OF DRIVER                                                          3458\n",
       "VISION OBSCURED (SIGNS, TREE LIMBS, BUILDINGS, ETC.)                                  3366\n",
       "UNDER THE INFLUENCE OF ALCOHOL/DRUGS (USE WHEN ARREST IS EFFECTED)                    2959\n",
       "DRIVING ON WRONG SIDE/WRONG WAY                                                       2825\n",
       "DISTRACTION - FROM OUTSIDE VEHICLE                                                    2508\n",
       "EXCEEDING AUTHORIZED SPEED LIMIT                                                      1982\n",
       "EXCEEDING SAFE SPEED FOR CONDITIONS                                                   1684\n",
       "ROAD ENGINEERING/SURFACE/MARKING DEFECTS                                              1498\n",
       "ROAD CONSTRUCTION/MAINTENANCE                                                         1346\n",
       "DISREGARDING OTHER TRAFFIC SIGNS                                                      1233\n",
       "EVASIVE ACTION DUE TO ANIMAL, OBJECT, NONMOTORIST                                     1079\n",
       "CELL PHONE USE OTHER THAN TEXTING                                                      798\n",
       "DISREGARDING ROAD MARKINGS                                                             762\n",
       "HAD BEEN DRINKING (USE WHEN ARREST IS NOT MADE)                                        627\n",
       "ANIMAL                                                                                 485\n",
       "TURNING RIGHT ON RED                                                                   400\n",
       "DISTRACTION - OTHER ELECTRONIC DEVICE (NAVIGATION DEVICE, DVD PLAYER, ETC.)            275\n",
       "TEXTING                                                                                250\n",
       "RELATED TO BUS STOP                                                                    213\n",
       "DISREGARDING YIELD SIGN                                                                213\n",
       "PASSING STOPPED SCHOOL BUS                                                              76\n",
       "BICYCLE ADVANCING LEGALLY ON RED LIGHT                                                  72\n",
       "OBSTRUCTED CROSSWALKS                                                                   47\n",
       "MOTORCYCLE ADVANCING LEGALLY ON RED LIGHT                                               19\n",
       "Name: PRIM_CONTRIBUTORY_CAUSE, dtype: int64"
      ]
     },
     "execution_count": 52,
     "metadata": {},
     "output_type": "execute_result"
    }
   ],
   "source": [
    "data_frame['PRIM_CONTRIBUTORY_CAUSE'].value_counts()"
   ]
  },
  {
   "cell_type": "code",
   "execution_count": 53,
   "id": "28285653",
   "metadata": {},
   "outputs": [
    {
     "data": {
      "text/plain": [
       "Index(['FOLLOWING TOO CLOSELY', 'UNABLE TO DETERMINE',\n",
       "       'FAILING TO REDUCE SPEED TO AVOID CRASH', 'NOT APPLICABLE',\n",
       "       'IMPROPER BACKING', 'WEATHER', 'DRIVING SKILLS/KNOWLEDGE/EXPERIENCE',\n",
       "       'FAILING TO YIELD RIGHT-OF-WAY', 'DISTRACTION - FROM INSIDE VEHICLE',\n",
       "       'IMPROPER OVERTAKING/PASSING',\n",
       "       'OPERATING VEHICLE IN ERRATIC, RECKLESS, CARELESS, NEGLIGENT OR AGGRESSIVE MANNER',\n",
       "       'IMPROPER LANE USAGE', 'EQUIPMENT - VEHICLE CONDITION',\n",
       "       'DISTRACTION - FROM OUTSIDE VEHICLE', 'PHYSICAL CONDITION OF DRIVER',\n",
       "       'EXCEEDING SAFE SPEED FOR CONDITIONS',\n",
       "       'UNDER THE INFLUENCE OF ALCOHOL/DRUGS (USE WHEN ARREST IS EFFECTED)',\n",
       "       'DISREGARDING TRAFFIC SIGNALS', 'EXCEEDING AUTHORIZED SPEED LIMIT',\n",
       "       'CELL PHONE USE OTHER THAN TEXTING',\n",
       "       'VISION OBSCURED (SIGNS, TREE LIMBS, BUILDINGS, ETC.)',\n",
       "       'IMPROPER TURNING/NO SIGNAL',\n",
       "       'EVASIVE ACTION DUE TO ANIMAL, OBJECT, NONMOTORIST',\n",
       "       'DISREGARDING STOP SIGN', 'ROAD CONSTRUCTION/MAINTENANCE',\n",
       "       'HAD BEEN DRINKING (USE WHEN ARREST IS NOT MADE)',\n",
       "       'DISTRACTION - OTHER ELECTRONIC DEVICE (NAVIGATION DEVICE, DVD PLAYER, ETC.)',\n",
       "       'TEXTING', 'DISREGARDING OTHER TRAFFIC SIGNS',\n",
       "       'ROAD ENGINEERING/SURFACE/MARKING DEFECTS',\n",
       "       'DRIVING ON WRONG SIDE/WRONG WAY', 'ANIMAL', 'RELATED TO BUS STOP',\n",
       "       'DISREGARDING ROAD MARKINGS', 'DISREGARDING YIELD SIGN',\n",
       "       'TURNING RIGHT ON RED', 'MOTORCYCLE ADVANCING LEGALLY ON RED LIGHT',\n",
       "       'OBSTRUCTED CROSSWALKS', 'PASSING STOPPED SCHOOL BUS',\n",
       "       'BICYCLE ADVANCING LEGALLY ON RED LIGHT'],\n",
       "      dtype='object')"
      ]
     },
     "execution_count": 53,
     "metadata": {},
     "output_type": "execute_result"
    }
   ],
   "source": [
    "rear_end = data_frame[data_frame['FIRST_CRASH_TYPE'] == 'REAR END']\n",
    "rear_end.TRAFFICWAY_TYPE.value_counts().index\n",
    "rear_end.PRIM_CONTRIBUTORY_CAUSE.value_counts().index"
   ]
  },
  {
   "cell_type": "code",
   "execution_count": 54,
   "id": "2ab8eb5c",
   "metadata": {},
   "outputs": [
    {
     "data": {
      "image/png": "[encoded data removed]",
      "text/plain": [
       "<Figure size 1080x1080 with 1 Axes>"
      ]
     },
     "metadata": {
      "needs_background": "light"
     },
     "output_type": "display_data"
    }
   ],
   "source": [
    "warnings.filterwarnings('ignore')\n",
    "plt.figure(figsize=(15,15))\n",
    "\n",
    "y = rear_end.PRIM_CONTRIBUTORY_CAUSE.value_counts().values[:15]\n",
    "x = rear_end.PRIM_CONTRIBUTORY_CAUSE.value_counts().index[:15]\n",
    "\n",
    "sns.barplot(y, x)\n",
    "plt.title('Top 15 Rear End Crashes Primary Contributory', size=30)\n",
    "plt.ylabel(\"(Contributory)\", size=25, rotation=0)\n",
    "plt.xlabel(\"(Quantity)\", size=25)\n",
    "plt.xticks(size=15)\n",
    "plt.yticks(size=15);"
   ]
  },
  {
   "cell_type": "code",
   "execution_count": 55,
   "id": "f3ff8550",
   "metadata": {
    "scrolled": true
   },
   "outputs": [
    {
     "data": {
      "image/png": "[encoded data removed]",
      "text/plain": [
       "<Figure size 576x576 with 1 Axes>"
      ]
     },
     "metadata": {
      "needs_background": "light"
     },
     "output_type": "display_data"
    }
   ],
   "source": [
    "warnings.filterwarnings('ignore')\n",
    "plt.figure(figsize=(8,8))\n",
    "y= rear_end.TRAFFICWAY_TYPE.value_counts().values[:15]\n",
    "x=rear_end.TRAFFICWAY_TYPE.value_counts().index[:15]\n",
    "\n",
    "sns.barplot(y, x)\n",
    "plt.title('Top 15 Rear End Crashes Traffic Way Type', size=25)\n",
    "plt.ylabel(\"(Contributory)\", size=20, rotation=0)\n",
    "plt.xlabel(\"(Quantity)\", size=20)\n",
    "plt.xticks(size=10)\n",
    "plt.yticks(size=10);"
   ]
  },
  {
   "cell_type": "markdown",
   "id": "faefc7f1",
   "metadata": {},
   "source": [
    "# Conclusion"
   ]
  },
  {
   "cell_type": "markdown",
   "id": "1e3c5848",
   "metadata": {},
   "source": [
    "<ul>\n",
    "    <li>Final models show that certain columns have more of an effect on the severity of a car accident than others.</li>\n",
    "    <li>Demonstrated how different classification models work and how we can compare models using the roc_auc score metric.</li>\n",
    "    <li>I used Random Forest classifier due to its high score among the all models used\n",
    "    </li>\n",
    "</ul>\n",
    "\n",
    "### Few points that are visible in the data\n",
    "<ul>\n",
    "    <li>Noticed increased number of the accidents is in the month closer to October.</li>\n",
    "    <li>Noticed increased number of the accidents in the rush hour.</li>\n",
    "    <li>Most accidents occurred in a clear weather condition.</li>\n",
    "    <li>Accidents are more likely to occur in Summer season.</li>\n",
    "    <li>Most accidents happened in a DRY Road condition.</li>\n",
    "    <li>Most severe and non severe accident damage cost is more than $1500.</li>\n",
    "</ul>"
   ]
  },
  {
   "cell_type": "markdown",
   "id": "38b6254f",
   "metadata": {},
   "source": [
    "# References"
   ]
  },
  {
   "cell_type": "code",
   "execution_count": null,
   "id": "c61ef03b",
   "metadata": {},
   "outputs": [],
   "source": []
  }
 ],
 "metadata": {
  "kernelspec": {
   "display_name": "Python 3",
   "language": "python",
   "name": "python3"
  },
  "language_info": {
   "codemirror_mode": {
    "name": "ipython",
    "version": 3
   },
   "file_extension": ".py",
   "mimetype": "text/x-python",
   "name": "python",
   "nbconvert_exporter": "python",
   "pygments_lexer": "ipython3",
   "version": "3.8.8"
  }
 },
 "nbformat": 4,
 "nbformat_minor": 5
}
